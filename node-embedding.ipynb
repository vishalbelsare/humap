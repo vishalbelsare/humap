{
 "cells": [
  {
   "cell_type": "code",
   "execution_count": 1,
   "metadata": {},
   "outputs": [],
   "source": [
    "from karateclub.dataset import GraphReader"
   ]
  },
  {
   "cell_type": "code",
   "execution_count": 2,
   "metadata": {},
   "outputs": [],
   "source": [
    "reader = GraphReader(\"twitch\")\n",
    "\n",
    "graph = reader.get_graph()\n",
    "y = reader.get_target()"
   ]
  },
  {
   "cell_type": "code",
   "execution_count": 4,
   "metadata": {},
   "outputs": [
    {
     "data": {
      "text/plain": [
       "(35324, 7126)"
      ]
     },
     "execution_count": 4,
     "metadata": {},
     "output_type": "execute_result"
    }
   ],
   "source": [
    "graph.number_of_edges(), graph.number_of_nodes()"
   ]
  },
  {
   "cell_type": "code",
   "execution_count": 7,
   "metadata": {},
   "outputs": [
    {
     "name": "stdout",
     "output_type": "stream",
     "text": [
      "fitted in 187.25155 seconds. \n"
     ]
    }
   ],
   "source": [
    "from karateclub import Diff2Vec\n",
    "import time \n",
    "\n",
    "model = Diff2Vec(dimensions=128)\n",
    "begin = time.time()\n",
    "model.fit(graph)\n",
    "print(\"fitted in %.5f seconds. \" % (time.time()-begin))\n",
    "X = model.get_embedding()"
   ]
  },
  {
   "cell_type": "code",
   "execution_count": 10,
   "metadata": {},
   "outputs": [
    {
     "name": "stdout",
     "output_type": "stream",
     "text": [
      "fitted in 45.19672 seconds. \n"
     ]
    }
   ],
   "source": [
    "from karateclub import Walklets\n",
    "\n",
    "\n",
    "model = Walklets()\n",
    "begin = time.time()\n",
    "model.fit(graph)\n",
    "\n",
    "print(\"fitted in %.5f seconds. \" % (time.time()-begin))\n",
    "\n"
   ]
  },
  {
   "cell_type": "code",
   "execution_count": null,
   "metadata": {},
   "outputs": [],
   "source": []
  }
 ],
 "metadata": {
  "kernelspec": {
   "display_name": "py37",
   "language": "python",
   "name": "py37"
  },
  "language_info": {
   "codemirror_mode": {
    "name": "ipython",
    "version": 3
   },
   "file_extension": ".py",
   "mimetype": "text/x-python",
   "name": "python",
   "nbconvert_exporter": "python",
   "pygments_lexer": "ipython3",
   "version": "3.7.9"
  }
 },
 "nbformat": 4,
 "nbformat_minor": 2
}
