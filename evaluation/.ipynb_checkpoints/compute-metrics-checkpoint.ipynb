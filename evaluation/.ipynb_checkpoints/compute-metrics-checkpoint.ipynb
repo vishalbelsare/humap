{
 "cells": [
  {
   "cell_type": "code",
   "execution_count": 1,
   "metadata": {},
   "outputs": [],
   "source": [
    "import os\n",
    "import scprep\n",
    "import demap\n",
    "import math\n",
    "import random\n",
    "import numpy as np\n",
    "import pandas as pd\n",
    "import hierarchical_umap as h_umap\n",
    "import matplotlib.pyplot as plt\n",
    "\n",
    "from tqdm import tqdm\n",
    "from sklearn.neighbors import NearestNeighbors\n",
    "from sklearn.utils import check_array\n",
    "from sklearn.preprocessing import normalize, LabelEncoder\n",
    "from sklearn.decomposition import PCA\n",
    "from sklearn.metrics import euclidean_distances\n",
    "from sklearn.neighbors import NearestNeighbors\n",
    "\n",
    "from scipy.stats import pearsonr, spearmanr"
   ]
  },
  {
   "cell_type": "code",
   "execution_count": 2,
   "metadata": {},
   "outputs": [],
   "source": [
    "def correlation(X, X_emb):\n",
    "    \n",
    "    dist_orig = np.square(euclidean_distances(X, X)).flatten()\n",
    "    dist_emb = np.square(euclidean_distances(X_emb, X_emb)).flatten()\n",
    "    \n",
    "    \n",
    "    coef, p = spearmanr(dist_orig, dist_emb)\n",
    "    return coef\n",
    "\n",
    "def stress(X, X_emb):\n",
    "    \n",
    "    DE = euclidean_distances(X_emb)\n",
    "    DE = DE/np.max(DE)\n",
    "    DH = euclidean_distances(X)\n",
    "    DH = DH/np.max(DH)\n",
    "    stress = 0.5 * np.sum((DE - DH)**2)\n",
    "    \n",
    "    return np.sqrt(stress/(0.5*np.sum(DH**2)))\n",
    "    \n",
    "\n",
    "def neighborhood_preservation(X, X_emb, Khigh=30):\n",
    "    \n",
    "    neigh_high = NearestNeighbors(n_neighbors=Khigh+1, n_jobs=-1)\n",
    "    neigh_high.fit(X)\n",
    "    high_dists, high_indices = neigh_high.kneighbors(X)\n",
    "\n",
    "\n",
    "    neigh_emb = NearestNeighbors(n_neighbors=Khigh+1, n_jobs=-1)\n",
    "    neigh_emb.fit(X_emb)\n",
    "    emb_dists, emb_indices = neigh_emb.kneighbors(X_emb)\n",
    "\n",
    "    npres = np.zeros(Khigh)\n",
    "    \n",
    "    for k in range(1, Khigh+1):\n",
    "        for i in range(X.shape[0]):\n",
    "            high_current = high_indices[i][1:k+1]\n",
    "            emb_current = emb_indices[i][1:k+1]\n",
    "            \n",
    "            tp = len(np.intersect1d(high_current, emb_current))\n",
    "            \n",
    "            npres[k-1] += (tp/k)\n",
    "        \n",
    "        \n",
    "    npres /= float(X.shape[0])\n",
    "    \n",
    "    return npres"
   ]
  },
  {
   "cell_type": "code",
   "execution_count": 3,
   "metadata": {},
   "outputs": [],
   "source": [
    "def load_fmnist():\n",
    "    fashionTrain = pd.read_csv('./../data/fashion-train.csv')\n",
    "\n",
    "    fashionX = fashionTrain.values[:,2:]\n",
    "    fashionY = fashionTrain.values[:, 1].astype(int)\n",
    "\n",
    "    X = normalize(fashionX)\n",
    "    y = fashionY\n",
    "\n",
    "    X = check_array(X, dtype=np.float32, accept_sparse='csr', order='C')\n",
    "    \n",
    "    return X, y\n",
    "\n",
    "def load_mnist():\n",
    "    X = np.load('./../data/MNIST_70000.npy')\n",
    "    y = np.load('./../data/MNIST_70000_label.npy').astype(int)\n",
    "    X = normalize(X)\n",
    "    X = check_array(X, dtype=np.float32, accept_sparse='csr', order='C')\n",
    "    \n",
    "    return X, y\n",
    "\n",
    "def load_scRNAseq():\n",
    "    download_path = os.path.expanduser(\"~/Documentos/HierarchicalUMAP/umap-cpp/umap/cpp/data\")\n",
    "    sparse=True\n",
    "    T1 = scprep.io.load_10X(os.path.join(download_path, \"scRNAseq\", \"T0_1A\"), sparse=sparse, gene_labels='both')\n",
    "    T2 = scprep.io.load_10X(os.path.join(download_path, \"scRNAseq\", \"T2_3B\"), sparse=sparse, gene_labels='both')\n",
    "    T3 = scprep.io.load_10X(os.path.join(download_path, \"scRNAseq\", \"T4_5C\"), sparse=sparse, gene_labels='both')\n",
    "    T4 = scprep.io.load_10X(os.path.join(download_path, \"scRNAseq\", \"T6_7D\"), sparse=sparse, gene_labels='both')\n",
    "    T5 = scprep.io.load_10X(os.path.join(download_path, \"scRNAseq\", \"T8_9E\"), sparse=sparse, gene_labels='both')\n",
    "    filtered_batches = []\n",
    "    for batch in [T1, T2, T3, T4, T5]:\n",
    "        batch = scprep.filter.filter_library_size(batch, percentile=20, keep_cells='above')\n",
    "        batch = scprep.filter.filter_library_size(batch, percentile=75, keep_cells='below')\n",
    "        filtered_batches.append(batch)\n",
    "    del T1, T2, T3, T4, T5\n",
    "    EBT_counts, sample_labels = scprep.utils.combine_batches(\n",
    "        filtered_batches, \n",
    "        [\"Day 00-03\", \"Day 06-09\", \"Day 12-15\", \"Day 18-21\", \"Day 24-27\"],\n",
    "        append_to_cell_names=True\n",
    "    )\n",
    "    del filtered_batches # removes objects from memory\n",
    "    EBT_counts = scprep.filter.filter_rare_genes(EBT_counts, min_cells=10)\n",
    "    EBT_counts = scprep.normalize.library_size_normalize(EBT_counts)\n",
    "    mito_genes = scprep.select.get_gene_set(EBT_counts, starts_with=\"MT-\") # Get all mitochondrial genes. There are 14, FYI.\n",
    "    EBT_counts, sample_labels = scprep.filter.filter_gene_set_expression(\n",
    "    EBT_counts, sample_labels, genes=mito_genes, \n",
    "    percentile=90, keep_cells='below')\n",
    "    EBT_counts = scprep.transform.sqrt(EBT_counts)\n",
    "    \n",
    "    le = LabelEncoder()\n",
    "    le.fit(sample_labels)\n",
    "    labels = le.transform(sample_labels)\n",
    "    X = PCA(n_components=50).fit_transform(EBT_counts.values)\n",
    "    X = check_array(X, dtype=np.float32, accept_sparse='csr', order='C')\n",
    "    return X, labels\n",
    "\n",
    "def load_mammals():\n",
    "    X = np.loadtxt(\"./../data/mammals-20000_features.txt\")\n",
    "    y = np.loadtxt(\"./../data/mammals-20000_classes.txt\")\n",
    "    X = normalize(X)\n",
    "    \n",
    "    return X, y"
   ]
  },
  {
   "cell_type": "code",
   "execution_count": 4,
   "metadata": {},
   "outputs": [],
   "source": [
    "datasets = []\n",
    "datasets.append({\n",
    "    'load': load_mammals,\n",
    "    'name': 'mammals'\n",
    "})\n",
    "datasets.append({\n",
    "    'load': load_scRNAseq,\n",
    "    'name': 'scRNAseq'\n",
    "})\n",
    "datasets.append({\n",
    "    'load': load_fmnist,\n",
    "    'name': 'fmnist'\n",
    "})\n",
    "datasets.append({\n",
    "    'load': load_mnist,\n",
    "    'name': 'mnist'\n",
    "})"
   ]
  },
  {
   "cell_type": "code",
   "execution_count": 5,
   "metadata": {},
   "outputs": [],
   "source": [
    "def compute_metrics(datasets, techniques = ['hsneCPU', 'hsneGPU', 'mphate', 'humap'], n_executions = 20):\n",
    "    map_name = {}\n",
    "    map_name['hsneCPU'] = 'HSNE CPU'\n",
    "    map_name['hsneGPU'] = 'HSNE GPU'\n",
    "    map_name['mphate'] = 'Multiscale PHATE'\n",
    "    map_name['humap'] = 'HUMAP'\n",
    "#     map_name['humapFLANN'] = 'HUMAP FLANN'\n",
    "#     map_name['humapKDTREE_NN'] = 'HUMAP KDTree + NNDescent'\n",
    "    \n",
    "    \n",
    "    corr_values = []\n",
    "    corr_level = []\n",
    "    corr_technique = []\n",
    "    \n",
    "    demap_values = []\n",
    "    demap_level = []\n",
    "    demap_technique = []\n",
    "    \n",
    "    neighborhood_values = []\n",
    "    np_values = []\n",
    "    np_level = []\n",
    "    np_technique = []\n",
    "    \n",
    "    dataset_values_corr = []\n",
    "    dataset_values_demap = []\n",
    "    dataset_values_np = []\n",
    "    \n",
    "    size_before_corr = 0\n",
    "    size_before_demap = 0\n",
    "    size_before_np = 0\n",
    "    \n",
    "    for dataset in datasets:\n",
    "        \n",
    "        path = 'comparison-techniques/'+dataset['name']\n",
    "        X, y = dataset['load']()\n",
    "        \n",
    "        print(\"DATASET: %s\" % (dataset['name']))\n",
    "        \n",
    "                \n",
    "        for technique in techniques:\n",
    "            print(\"Technique: %s\" % (technique))\n",
    "            \n",
    "            if (dataset['name'] == 'fmnist' or dataset['name'] == 'mnist') and technique == 'mphate':\n",
    "                continue\n",
    "                \n",
    "            for i, level in enumerate(['_level2.csv', '_level1.csv', '_level0.csv']):\n",
    "                \n",
    "                print(\"Level: %s\" % (level))\n",
    "                \n",
    "                demap_list = []\n",
    "                correlation_list = []\n",
    "                np_list = []\n",
    "\n",
    "                for execution in tqdm(range(n_executions)):\n",
    "                    it = str(execution)\n",
    "                    \n",
    "                    df = pd.read_csv(path+'/'+technique+'_it'+it+level)\n",
    "                    x = df['x'+it].values\n",
    "                    y = df['y'+it].values\n",
    "                    indices = df['inds'+it].values\n",
    "                    \n",
    "                    emb = np.stack((x, y), axis=-1)\n",
    "                    sample = random.sample(range(0, len(x)), min(3000, len(x)))\n",
    "                    \n",
    "                    subset_emb = emb[sample]\n",
    "                    subset_X = X[indices][sample]\n",
    "                    \n",
    "                    demap_value = demap.DEMaP(subset_X, subset_emb)\n",
    "                    demap_list.append(demap_value)\n",
    "                    \n",
    "                    corr_value = correlation(subset_X, subset_emb)\n",
    "                    correlation_list.append(corr_value)\n",
    "                    \n",
    "                    npres_values = neighborhood_preservation(subset_X, subset_emb)\n",
    "                    np_list = np_list + npres_values.tolist()\n",
    "                    \n",
    "                    \n",
    "                corr_values = corr_values + correlation_list\n",
    "                corr_technique = corr_technique + [map_name[technique]]*len(correlation_list)\n",
    "                level = 0\n",
    "                if i == 0:\n",
    "                    level = 2\n",
    "                elif i == 1:\n",
    "                    level = 1\n",
    "    \n",
    "                corr_level = corr_level + ['Level '+str(level)]*len(correlation_list)\n",
    "                \n",
    "                demap_values = demap_values + demap_list\n",
    "                demap_technique = demap_technique + [map_name[technique]]*len(demap_list)\n",
    "                demap_level = demap_level + ['Level '+str(level)]*len(demap_list)\n",
    "                \n",
    "                np_values = np_values + np_list\n",
    "                neighborhood_values = neighborhood_values + list(range(30))*n_executions\n",
    "                np_technique = np_technique + [map_name[technique]]*len(np_list)\n",
    "                np_level = np_level + ['Level '+str(level)]*len(np_list)\n",
    "        \n",
    "        \n",
    "        dataset_values_corr = dataset_values_corr + [dataset['name']]*(len(corr_values) - size_before_corr)\n",
    "        dataset_values_demap = dataset_values_demap + [dataset['name']]*(len(demap_values) - size_before_demap)\n",
    "        dataset_values_np = dataset_values_np + [dataset['name']]*(len(np_values) - size_before_np)\n",
    "        \n",
    "        size_before_corr = len(corr_values)\n",
    "        size_before_demap = len(demap_values)\n",
    "        size_before_np = len(np_values)\n",
    "        \n",
    "        \n",
    "        \n",
    "    \n",
    "    print(len(dataset_values_corr), len(corr_technique), len(corr_values))\n",
    "    \n",
    "    df_correlation = pd.DataFrame({\n",
    "        'dataset': dataset_values_corr,\n",
    "        'technique': corr_technique,\n",
    "        'level': corr_level,\n",
    "        'values': corr_values        \n",
    "    })\n",
    "    \n",
    "    print(len(dataset_values_demap), len(demap_technique), len(demap_values))\n",
    "    \n",
    "    df_demap = pd.DataFrame({\n",
    "        'dataset': dataset_values_demap,\n",
    "        'technique': demap_technique,\n",
    "        'level': demap_level,\n",
    "        'values': demap_values\n",
    "    })\n",
    "    \n",
    "    print(len(dataset_values_np), len(np_technique), len(neighborhood_values), len(np_values))\n",
    "    \n",
    "    \n",
    "    df_np = pd.DataFrame({\n",
    "        'dataset': dataset_values_np,\n",
    "        'technique': np_technique,\n",
    "        'level': np_level,\n",
    "        'neighbors': neighborhood_values,\n",
    "        'np': np_values\n",
    "    })\n",
    "        \n",
    "    return df_correlation, df_demap, df_np            \n",
    "                "
   ]
  },
  {
   "cell_type": "code",
   "execution_count": 6,
   "metadata": {
    "scrolled": true
   },
   "outputs": [
    {
     "name": "stderr",
     "output_type": "stream",
     "text": [
      "\r",
      "  0%|          | 0/20 [00:00<?, ?it/s]"
     ]
    },
    {
     "name": "stdout",
     "output_type": "stream",
     "text": [
      "DATASET: mammals\n",
      "Technique: hsneCPU\n",
      "Level: _level2.csv\n"
     ]
    },
    {
     "name": "stderr",
     "output_type": "stream",
     "text": [
      "100%|██████████| 20/20 [00:16<00:00,  1.21it/s]\n",
      "  0%|          | 0/20 [00:00<?, ?it/s]"
     ]
    },
    {
     "name": "stdout",
     "output_type": "stream",
     "text": [
      "Level: _level0.csv\n"
     ]
    },
    {
     "name": "stderr",
     "output_type": "stream",
     "text": [
      "100%|██████████| 20/20 [02:30<00:00,  7.53s/it]\n",
      "  0%|          | 0/20 [00:00<?, ?it/s]"
     ]
    },
    {
     "name": "stdout",
     "output_type": "stream",
     "text": [
      "Technique: hsneGPU\n",
      "Level: _level2.csv\n"
     ]
    },
    {
     "name": "stderr",
     "output_type": "stream",
     "text": [
      "100%|██████████| 20/20 [00:16<00:00,  1.19it/s]\n",
      "  0%|          | 0/20 [00:00<?, ?it/s]"
     ]
    },
    {
     "name": "stdout",
     "output_type": "stream",
     "text": [
      "Level: _level0.csv\n"
     ]
    },
    {
     "name": "stderr",
     "output_type": "stream",
     "text": [
      "100%|██████████| 20/20 [02:32<00:00,  7.64s/it]\n",
      "  0%|          | 0/20 [00:00<?, ?it/s]"
     ]
    },
    {
     "name": "stdout",
     "output_type": "stream",
     "text": [
      "Technique: mphate\n",
      "Level: _level2.csv\n"
     ]
    },
    {
     "name": "stderr",
     "output_type": "stream",
     "text": [
      "100%|██████████| 20/20 [00:28<00:00,  1.43s/it]\n",
      "  0%|          | 0/20 [00:00<?, ?it/s]"
     ]
    },
    {
     "name": "stdout",
     "output_type": "stream",
     "text": [
      "Level: _level0.csv\n"
     ]
    },
    {
     "name": "stderr",
     "output_type": "stream",
     "text": [
      "100%|██████████| 20/20 [02:39<00:00,  7.97s/it]\n",
      "  0%|          | 0/20 [00:00<?, ?it/s]"
     ]
    },
    {
     "name": "stdout",
     "output_type": "stream",
     "text": [
      "Technique: humap\n",
      "Level: _level2.csv\n"
     ]
    },
    {
     "name": "stderr",
     "output_type": "stream",
     "text": [
      "100%|██████████| 20/20 [00:16<00:00,  1.18it/s]\n",
      "  0%|          | 0/20 [00:00<?, ?it/s]"
     ]
    },
    {
     "name": "stdout",
     "output_type": "stream",
     "text": [
      "Level: _level0.csv\n"
     ]
    },
    {
     "name": "stderr",
     "output_type": "stream",
     "text": [
      "100%|██████████| 20/20 [02:32<00:00,  7.62s/it]\n",
      "  0%|          | 0/20 [00:00<?, ?it/s]"
     ]
    },
    {
     "name": "stdout",
     "output_type": "stream",
     "text": [
      "DATASET: scRNAseq\n",
      "Technique: hsneCPU\n",
      "Level: _level2.csv\n"
     ]
    },
    {
     "name": "stderr",
     "output_type": "stream",
     "text": [
      "100%|██████████| 20/20 [00:19<00:00,  1.02it/s]\n",
      "  0%|          | 0/20 [00:00<?, ?it/s]"
     ]
    },
    {
     "name": "stdout",
     "output_type": "stream",
     "text": [
      "Level: _level0.csv\n"
     ]
    },
    {
     "name": "stderr",
     "output_type": "stream",
     "text": [
      "100%|██████████| 20/20 [03:58<00:00, 11.95s/it]\n",
      "  0%|          | 0/20 [00:00<?, ?it/s]"
     ]
    },
    {
     "name": "stdout",
     "output_type": "stream",
     "text": [
      "Technique: hsneGPU\n",
      "Level: _level2.csv\n"
     ]
    },
    {
     "name": "stderr",
     "output_type": "stream",
     "text": [
      "100%|██████████| 20/20 [00:19<00:00,  1.00it/s]\n",
      "  0%|          | 0/20 [00:00<?, ?it/s]"
     ]
    },
    {
     "name": "stdout",
     "output_type": "stream",
     "text": [
      "Level: _level0.csv\n"
     ]
    },
    {
     "name": "stderr",
     "output_type": "stream",
     "text": [
      "100%|██████████| 20/20 [04:02<00:00, 12.12s/it]\n",
      "  0%|          | 0/20 [00:00<?, ?it/s]"
     ]
    },
    {
     "name": "stdout",
     "output_type": "stream",
     "text": [
      "Technique: mphate\n",
      "Level: _level2.csv\n"
     ]
    },
    {
     "name": "stderr",
     "output_type": "stream",
     "text": [
      "100%|██████████| 20/20 [03:50<00:00, 11.54s/it]\n",
      "  0%|          | 0/20 [00:00<?, ?it/s]"
     ]
    },
    {
     "name": "stdout",
     "output_type": "stream",
     "text": [
      "Level: _level0.csv\n"
     ]
    },
    {
     "name": "stderr",
     "output_type": "stream",
     "text": [
      "100%|██████████| 20/20 [03:56<00:00, 11.82s/it]\n",
      "  0%|          | 0/20 [00:00<?, ?it/s]"
     ]
    },
    {
     "name": "stdout",
     "output_type": "stream",
     "text": [
      "Technique: humap\n",
      "Level: _level2.csv\n"
     ]
    },
    {
     "name": "stderr",
     "output_type": "stream",
     "text": [
      "100%|██████████| 20/20 [00:19<00:00,  1.02it/s]\n",
      "  0%|          | 0/20 [00:00<?, ?it/s]"
     ]
    },
    {
     "name": "stdout",
     "output_type": "stream",
     "text": [
      "Level: _level0.csv\n"
     ]
    },
    {
     "name": "stderr",
     "output_type": "stream",
     "text": [
      "100%|██████████| 20/20 [04:19<00:00, 12.98s/it]\n",
      "  0%|          | 0/20 [00:00<?, ?it/s]"
     ]
    },
    {
     "name": "stdout",
     "output_type": "stream",
     "text": [
      "DATASET: fmnist\n",
      "Technique: hsneCPU\n",
      "Level: _level2.csv\n"
     ]
    },
    {
     "name": "stderr",
     "output_type": "stream",
     "text": [
      "/home/wilson/anaconda3/envs/py37/lib/python3.7/site-packages/graphtools/graphs.py:121: UserWarning: Building a kNNGraph on data of shape (2023, 784) is expensive. Consider setting n_pca.\n",
      "  UserWarning,\n",
      "  5%|▌         | 1/20 [00:05<01:49,  5.75s/it]/home/wilson/anaconda3/envs/py37/lib/python3.7/site-packages/graphtools/graphs.py:121: UserWarning: Building a kNNGraph on data of shape (2096, 784) is expensive. Consider setting n_pca.\n",
      "  UserWarning,\n",
      " 10%|█         | 2/20 [00:13<01:56,  6.48s/it]/home/wilson/anaconda3/envs/py37/lib/python3.7/site-packages/graphtools/graphs.py:121: UserWarning: Building a kNNGraph on data of shape (1981, 784) is expensive. Consider setting n_pca.\n",
      "  UserWarning,\n",
      " 15%|█▌        | 3/20 [00:20<01:53,  6.65s/it]/home/wilson/anaconda3/envs/py37/lib/python3.7/site-packages/graphtools/graphs.py:121: UserWarning: Building a kNNGraph on data of shape (2025, 784) is expensive. Consider setting n_pca.\n",
      "  UserWarning,\n",
      " 20%|██        | 4/20 [00:29<01:56,  7.25s/it]/home/wilson/anaconda3/envs/py37/lib/python3.7/site-packages/graphtools/graphs.py:121: UserWarning: Building a kNNGraph on data of shape (2096, 784) is expensive. Consider setting n_pca.\n",
      "  UserWarning,\n",
      " 25%|██▌       | 5/20 [00:38<01:57,  7.84s/it]/home/wilson/anaconda3/envs/py37/lib/python3.7/site-packages/graphtools/graphs.py:121: UserWarning: Building a kNNGraph on data of shape (2035, 784) is expensive. Consider setting n_pca.\n",
      "  UserWarning,\n",
      " 30%|███       | 6/20 [00:45<01:43,  7.40s/it]/home/wilson/anaconda3/envs/py37/lib/python3.7/site-packages/graphtools/graphs.py:121: UserWarning: Building a kNNGraph on data of shape (1964, 784) is expensive. Consider setting n_pca.\n",
      "  UserWarning,\n",
      " 35%|███▌      | 7/20 [00:50<01:29,  6.89s/it]/home/wilson/anaconda3/envs/py37/lib/python3.7/site-packages/graphtools/graphs.py:121: UserWarning: Building a kNNGraph on data of shape (2047, 784) is expensive. Consider setting n_pca.\n",
      "  UserWarning,\n",
      " 40%|████      | 8/20 [00:56<01:19,  6.62s/it]/home/wilson/anaconda3/envs/py37/lib/python3.7/site-packages/graphtools/graphs.py:121: UserWarning: Building a kNNGraph on data of shape (1932, 784) is expensive. Consider setting n_pca.\n",
      "  UserWarning,\n",
      " 45%|████▌     | 9/20 [01:01<01:05,  5.99s/it]/home/wilson/anaconda3/envs/py37/lib/python3.7/site-packages/graphtools/graphs.py:121: UserWarning: Building a kNNGraph on data of shape (1979, 784) is expensive. Consider setting n_pca.\n",
      "  UserWarning,\n",
      " 50%|█████     | 10/20 [01:07<01:00,  6.00s/it]/home/wilson/anaconda3/envs/py37/lib/python3.7/site-packages/graphtools/graphs.py:121: UserWarning: Building a kNNGraph on data of shape (2044, 784) is expensive. Consider setting n_pca.\n",
      "  UserWarning,\n",
      " 55%|█████▌    | 11/20 [01:13<00:54,  6.05s/it]/home/wilson/anaconda3/envs/py37/lib/python3.7/site-packages/graphtools/graphs.py:121: UserWarning: Building a kNNGraph on data of shape (2017, 784) is expensive. Consider setting n_pca.\n",
      "  UserWarning,\n",
      " 60%|██████    | 12/20 [01:19<00:48,  6.12s/it]/home/wilson/anaconda3/envs/py37/lib/python3.7/site-packages/graphtools/graphs.py:121: UserWarning: Building a kNNGraph on data of shape (1990, 784) is expensive. Consider setting n_pca.\n",
      "  UserWarning,\n",
      " 65%|██████▌   | 13/20 [01:26<00:42,  6.12s/it]/home/wilson/anaconda3/envs/py37/lib/python3.7/site-packages/graphtools/graphs.py:121: UserWarning: Building a kNNGraph on data of shape (1948, 784) is expensive. Consider setting n_pca.\n",
      "  UserWarning,\n",
      " 70%|███████   | 14/20 [01:31<00:35,  5.98s/it]/home/wilson/anaconda3/envs/py37/lib/python3.7/site-packages/graphtools/graphs.py:121: UserWarning: Building a kNNGraph on data of shape (1919, 784) is expensive. Consider setting n_pca.\n",
      "  UserWarning,\n",
      " 75%|███████▌  | 15/20 [01:37<00:29,  5.82s/it]/home/wilson/anaconda3/envs/py37/lib/python3.7/site-packages/graphtools/graphs.py:121: UserWarning: Building a kNNGraph on data of shape (2064, 784) is expensive. Consider setting n_pca.\n",
      "  UserWarning,\n",
      " 80%|████████  | 16/20 [01:43<00:23,  5.99s/it]/home/wilson/anaconda3/envs/py37/lib/python3.7/site-packages/graphtools/graphs.py:121: UserWarning: Building a kNNGraph on data of shape (1948, 784) is expensive. Consider setting n_pca.\n",
      "  UserWarning,\n",
      " 85%|████████▌ | 17/20 [01:48<00:17,  5.80s/it]/home/wilson/anaconda3/envs/py37/lib/python3.7/site-packages/graphtools/graphs.py:121: UserWarning: Building a kNNGraph on data of shape (2014, 784) is expensive. Consider setting n_pca.\n",
      "  UserWarning,\n",
      " 90%|█████████ | 18/20 [01:54<00:11,  5.75s/it]/home/wilson/anaconda3/envs/py37/lib/python3.7/site-packages/graphtools/graphs.py:121: UserWarning: Building a kNNGraph on data of shape (2021, 784) is expensive. Consider setting n_pca.\n",
      "  UserWarning,\n",
      " 95%|█████████▌| 19/20 [02:00<00:05,  5.75s/it]/home/wilson/anaconda3/envs/py37/lib/python3.7/site-packages/graphtools/graphs.py:121: UserWarning: Building a kNNGraph on data of shape (2037, 784) is expensive. Consider setting n_pca.\n",
      "  UserWarning,\n",
      "100%|██████████| 20/20 [02:06<00:00,  6.30s/it]\n",
      "  0%|          | 0/20 [00:00<?, ?it/s]/home/wilson/anaconda3/envs/py37/lib/python3.7/site-packages/graphtools/graphs.py:121: UserWarning: Building a kNNGraph on data of shape (3000, 784) is expensive. Consider setting n_pca.\n",
      "  UserWarning,\n"
     ]
    },
    {
     "name": "stdout",
     "output_type": "stream",
     "text": [
      "Level: _level0.csv\n"
     ]
    },
    {
     "name": "stderr",
     "output_type": "stream",
     "text": [
      "  5%|▌         | 1/20 [00:13<04:21, 13.74s/it]/home/wilson/anaconda3/envs/py37/lib/python3.7/site-packages/graphtools/graphs.py:121: UserWarning: Building a kNNGraph on data of shape (3000, 784) is expensive. Consider setting n_pca.\n",
      "  UserWarning,\n",
      " 10%|█         | 2/20 [00:27<04:07, 13.74s/it]/home/wilson/anaconda3/envs/py37/lib/python3.7/site-packages/graphtools/graphs.py:121: UserWarning: Building a kNNGraph on data of shape (3000, 784) is expensive. Consider setting n_pca.\n",
      "  UserWarning,\n",
      " 15%|█▌        | 3/20 [00:41<03:52, 13.69s/it]/home/wilson/anaconda3/envs/py37/lib/python3.7/site-packages/graphtools/graphs.py:121: UserWarning: Building a kNNGraph on data of shape (3000, 784) is expensive. Consider setting n_pca.\n",
      "  UserWarning,\n",
      " 20%|██        | 4/20 [00:54<03:39, 13.72s/it]/home/wilson/anaconda3/envs/py37/lib/python3.7/site-packages/graphtools/graphs.py:121: UserWarning: Building a kNNGraph on data of shape (3000, 784) is expensive. Consider setting n_pca.\n",
      "  UserWarning,\n",
      " 25%|██▌       | 5/20 [01:08<03:26, 13.76s/it]/home/wilson/anaconda3/envs/py37/lib/python3.7/site-packages/graphtools/graphs.py:121: UserWarning: Building a kNNGraph on data of shape (3000, 784) is expensive. Consider setting n_pca.\n",
      "  UserWarning,\n",
      " 30%|███       | 6/20 [01:22<03:12, 13.74s/it]/home/wilson/anaconda3/envs/py37/lib/python3.7/site-packages/graphtools/graphs.py:121: UserWarning: Building a kNNGraph on data of shape (3000, 784) is expensive. Consider setting n_pca.\n",
      "  UserWarning,\n",
      " 35%|███▌      | 7/20 [01:36<02:58, 13.73s/it]/home/wilson/anaconda3/envs/py37/lib/python3.7/site-packages/graphtools/graphs.py:121: UserWarning: Building a kNNGraph on data of shape (3000, 784) is expensive. Consider setting n_pca.\n",
      "  UserWarning,\n",
      " 40%|████      | 8/20 [01:49<02:44, 13.69s/it]/home/wilson/anaconda3/envs/py37/lib/python3.7/site-packages/graphtools/graphs.py:121: UserWarning: Building a kNNGraph on data of shape (3000, 784) is expensive. Consider setting n_pca.\n",
      "  UserWarning,\n",
      " 45%|████▌     | 9/20 [02:03<02:29, 13.61s/it]/home/wilson/anaconda3/envs/py37/lib/python3.7/site-packages/graphtools/graphs.py:121: UserWarning: Building a kNNGraph on data of shape (3000, 784) is expensive. Consider setting n_pca.\n",
      "  UserWarning,\n",
      " 50%|█████     | 10/20 [02:16<02:15, 13.60s/it]/home/wilson/anaconda3/envs/py37/lib/python3.7/site-packages/graphtools/graphs.py:121: UserWarning: Building a kNNGraph on data of shape (3000, 784) is expensive. Consider setting n_pca.\n",
      "  UserWarning,\n",
      " 55%|█████▌    | 11/20 [02:30<02:02, 13.59s/it]/home/wilson/anaconda3/envs/py37/lib/python3.7/site-packages/graphtools/graphs.py:121: UserWarning: Building a kNNGraph on data of shape (3000, 784) is expensive. Consider setting n_pca.\n",
      "  UserWarning,\n",
      " 60%|██████    | 12/20 [02:43<01:49, 13.63s/it]/home/wilson/anaconda3/envs/py37/lib/python3.7/site-packages/graphtools/graphs.py:121: UserWarning: Building a kNNGraph on data of shape (3000, 784) is expensive. Consider setting n_pca.\n",
      "  UserWarning,\n",
      " 65%|██████▌   | 13/20 [02:57<01:35, 13.65s/it]/home/wilson/anaconda3/envs/py37/lib/python3.7/site-packages/graphtools/graphs.py:121: UserWarning: Building a kNNGraph on data of shape (3000, 784) is expensive. Consider setting n_pca.\n",
      "  UserWarning,\n",
      " 70%|███████   | 14/20 [03:11<01:22, 13.68s/it]/home/wilson/anaconda3/envs/py37/lib/python3.7/site-packages/graphtools/graphs.py:121: UserWarning: Building a kNNGraph on data of shape (3000, 784) is expensive. Consider setting n_pca.\n",
      "  UserWarning,\n",
      " 75%|███████▌  | 15/20 [03:25<01:08, 13.70s/it]/home/wilson/anaconda3/envs/py37/lib/python3.7/site-packages/graphtools/graphs.py:121: UserWarning: Building a kNNGraph on data of shape (3000, 784) is expensive. Consider setting n_pca.\n",
      "  UserWarning,\n",
      " 80%|████████  | 16/20 [03:38<00:54, 13.67s/it]/home/wilson/anaconda3/envs/py37/lib/python3.7/site-packages/graphtools/graphs.py:121: UserWarning: Building a kNNGraph on data of shape (3000, 784) is expensive. Consider setting n_pca.\n",
      "  UserWarning,\n",
      " 85%|████████▌ | 17/20 [03:52<00:41, 13.68s/it]/home/wilson/anaconda3/envs/py37/lib/python3.7/site-packages/graphtools/graphs.py:121: UserWarning: Building a kNNGraph on data of shape (3000, 784) is expensive. Consider setting n_pca.\n",
      "  UserWarning,\n",
      " 90%|█████████ | 18/20 [04:06<00:27, 13.66s/it]/home/wilson/anaconda3/envs/py37/lib/python3.7/site-packages/graphtools/graphs.py:121: UserWarning: Building a kNNGraph on data of shape (3000, 784) is expensive. Consider setting n_pca.\n",
      "  UserWarning,\n",
      " 95%|█████████▌| 19/20 [04:19<00:13, 13.61s/it]/home/wilson/anaconda3/envs/py37/lib/python3.7/site-packages/graphtools/graphs.py:121: UserWarning: Building a kNNGraph on data of shape (3000, 784) is expensive. Consider setting n_pca.\n",
      "  UserWarning,\n",
      "100%|██████████| 20/20 [04:33<00:00, 13.65s/it]\n",
      "  0%|          | 0/20 [00:00<?, ?it/s]/home/wilson/anaconda3/envs/py37/lib/python3.7/site-packages/graphtools/graphs.py:121: UserWarning: Building a kNNGraph on data of shape (2030, 784) is expensive. Consider setting n_pca.\n",
      "  UserWarning,\n"
     ]
    },
    {
     "name": "stdout",
     "output_type": "stream",
     "text": [
      "Technique: hsneGPU\n",
      "Level: _level2.csv\n"
     ]
    },
    {
     "name": "stderr",
     "output_type": "stream",
     "text": [
      "  5%|▌         | 1/20 [00:05<01:50,  5.82s/it]/home/wilson/anaconda3/envs/py37/lib/python3.7/site-packages/graphtools/graphs.py:121: UserWarning: Building a kNNGraph on data of shape (1980, 784) is expensive. Consider setting n_pca.\n",
      "  UserWarning,\n",
      " 10%|█         | 2/20 [00:10<01:40,  5.58s/it]/home/wilson/anaconda3/envs/py37/lib/python3.7/site-packages/graphtools/graphs.py:121: UserWarning: Building a kNNGraph on data of shape (1994, 784) is expensive. Consider setting n_pca.\n",
      "  UserWarning,\n",
      " 15%|█▌        | 3/20 [00:16<01:35,  5.61s/it]/home/wilson/anaconda3/envs/py37/lib/python3.7/site-packages/graphtools/graphs.py:121: UserWarning: Building a kNNGraph on data of shape (1983, 784) is expensive. Consider setting n_pca.\n",
      "  UserWarning,\n",
      " 20%|██        | 4/20 [00:22<01:30,  5.65s/it]/home/wilson/anaconda3/envs/py37/lib/python3.7/site-packages/graphtools/graphs.py:121: UserWarning: Building a kNNGraph on data of shape (1984, 784) is expensive. Consider setting n_pca.\n",
      "  UserWarning,\n",
      " 25%|██▌       | 5/20 [00:27<01:24,  5.65s/it]/home/wilson/anaconda3/envs/py37/lib/python3.7/site-packages/graphtools/graphs.py:121: UserWarning: Building a kNNGraph on data of shape (2043, 784) is expensive. Consider setting n_pca.\n",
      "  UserWarning,\n",
      " 30%|███       | 6/20 [00:33<01:17,  5.52s/it]/home/wilson/anaconda3/envs/py37/lib/python3.7/site-packages/graphtools/graphs.py:121: UserWarning: Building a kNNGraph on data of shape (2024, 784) is expensive. Consider setting n_pca.\n",
      "  UserWarning,\n",
      " 35%|███▌      | 7/20 [00:39<01:13,  5.68s/it]/home/wilson/anaconda3/envs/py37/lib/python3.7/site-packages/graphtools/graphs.py:121: UserWarning: Building a kNNGraph on data of shape (2044, 784) is expensive. Consider setting n_pca.\n",
      "  UserWarning,\n",
      " 40%|████      | 8/20 [00:45<01:09,  5.82s/it]/home/wilson/anaconda3/envs/py37/lib/python3.7/site-packages/graphtools/graphs.py:121: UserWarning: Building a kNNGraph on data of shape (2025, 784) is expensive. Consider setting n_pca.\n",
      "  UserWarning,\n",
      " 45%|████▌     | 9/20 [00:50<01:01,  5.58s/it]/home/wilson/anaconda3/envs/py37/lib/python3.7/site-packages/graphtools/graphs.py:121: UserWarning: Building a kNNGraph on data of shape (2004, 784) is expensive. Consider setting n_pca.\n",
      "  UserWarning,\n",
      " 50%|█████     | 10/20 [00:55<00:54,  5.43s/it]/home/wilson/anaconda3/envs/py37/lib/python3.7/site-packages/graphtools/graphs.py:121: UserWarning: Building a kNNGraph on data of shape (1962, 784) is expensive. Consider setting n_pca.\n",
      "  UserWarning,\n",
      " 55%|█████▌    | 11/20 [01:00<00:49,  5.46s/it]/home/wilson/anaconda3/envs/py37/lib/python3.7/site-packages/graphtools/graphs.py:121: UserWarning: Building a kNNGraph on data of shape (1992, 784) is expensive. Consider setting n_pca.\n",
      "  UserWarning,\n",
      " 60%|██████    | 12/20 [01:06<00:44,  5.52s/it]/home/wilson/anaconda3/envs/py37/lib/python3.7/site-packages/graphtools/graphs.py:121: UserWarning: Building a kNNGraph on data of shape (1987, 784) is expensive. Consider setting n_pca.\n",
      "  UserWarning,\n",
      " 65%|██████▌   | 13/20 [01:12<00:39,  5.63s/it]/home/wilson/anaconda3/envs/py37/lib/python3.7/site-packages/graphtools/graphs.py:121: UserWarning: Building a kNNGraph on data of shape (2010, 784) is expensive. Consider setting n_pca.\n",
      "  UserWarning,\n",
      " 70%|███████   | 14/20 [01:18<00:34,  5.74s/it]/home/wilson/anaconda3/envs/py37/lib/python3.7/site-packages/graphtools/graphs.py:121: UserWarning: Building a kNNGraph on data of shape (1983, 784) is expensive. Consider setting n_pca.\n",
      "  UserWarning,\n",
      " 75%|███████▌  | 15/20 [01:24<00:28,  5.76s/it]/home/wilson/anaconda3/envs/py37/lib/python3.7/site-packages/graphtools/graphs.py:121: UserWarning: Building a kNNGraph on data of shape (2019, 784) is expensive. Consider setting n_pca.\n",
      "  UserWarning,\n",
      " 80%|████████  | 16/20 [01:30<00:23,  5.84s/it]/home/wilson/anaconda3/envs/py37/lib/python3.7/site-packages/graphtools/graphs.py:121: UserWarning: Building a kNNGraph on data of shape (2016, 784) is expensive. Consider setting n_pca.\n",
      "  UserWarning,\n",
      " 85%|████████▌ | 17/20 [01:36<00:17,  5.90s/it]/home/wilson/anaconda3/envs/py37/lib/python3.7/site-packages/graphtools/graphs.py:121: UserWarning: Building a kNNGraph on data of shape (2075, 784) is expensive. Consider setting n_pca.\n",
      "  UserWarning,\n",
      " 90%|█████████ | 18/20 [01:42<00:12,  6.02s/it]/home/wilson/anaconda3/envs/py37/lib/python3.7/site-packages/graphtools/graphs.py:121: UserWarning: Building a kNNGraph on data of shape (1964, 784) is expensive. Consider setting n_pca.\n",
      "  UserWarning,\n",
      " 95%|█████████▌| 19/20 [01:48<00:05,  5.96s/it]/home/wilson/anaconda3/envs/py37/lib/python3.7/site-packages/graphtools/graphs.py:121: UserWarning: Building a kNNGraph on data of shape (2012, 784) is expensive. Consider setting n_pca.\n",
      "  UserWarning,\n",
      "100%|██████████| 20/20 [01:54<00:00,  5.72s/it]\n",
      "  0%|          | 0/20 [00:00<?, ?it/s]/home/wilson/anaconda3/envs/py37/lib/python3.7/site-packages/graphtools/graphs.py:121: UserWarning: Building a kNNGraph on data of shape (3000, 784) is expensive. Consider setting n_pca.\n",
      "  UserWarning,\n"
     ]
    },
    {
     "name": "stdout",
     "output_type": "stream",
     "text": [
      "Level: _level0.csv\n"
     ]
    },
    {
     "name": "stderr",
     "output_type": "stream",
     "text": [
      "  5%|▌         | 1/20 [00:13<04:17, 13.53s/it]/home/wilson/anaconda3/envs/py37/lib/python3.7/site-packages/graphtools/graphs.py:121: UserWarning: Building a kNNGraph on data of shape (3000, 784) is expensive. Consider setting n_pca.\n",
      "  UserWarning,\n",
      " 10%|█         | 2/20 [00:27<04:05, 13.63s/it]/home/wilson/anaconda3/envs/py37/lib/python3.7/site-packages/graphtools/graphs.py:121: UserWarning: Building a kNNGraph on data of shape (3000, 784) is expensive. Consider setting n_pca.\n",
      "  UserWarning,\n",
      " 15%|█▌        | 3/20 [00:40<03:51, 13.62s/it]/home/wilson/anaconda3/envs/py37/lib/python3.7/site-packages/graphtools/graphs.py:121: UserWarning: Building a kNNGraph on data of shape (3000, 784) is expensive. Consider setting n_pca.\n",
      "  UserWarning,\n",
      " 20%|██        | 4/20 [00:54<03:37, 13.60s/it]/home/wilson/anaconda3/envs/py37/lib/python3.7/site-packages/graphtools/graphs.py:121: UserWarning: Building a kNNGraph on data of shape (3000, 784) is expensive. Consider setting n_pca.\n",
      "  UserWarning,\n",
      " 25%|██▌       | 5/20 [01:08<03:24, 13.65s/it]/home/wilson/anaconda3/envs/py37/lib/python3.7/site-packages/graphtools/graphs.py:121: UserWarning: Building a kNNGraph on data of shape (3000, 784) is expensive. Consider setting n_pca.\n",
      "  UserWarning,\n",
      " 30%|███       | 6/20 [01:22<03:12, 13.74s/it]/home/wilson/anaconda3/envs/py37/lib/python3.7/site-packages/graphtools/graphs.py:121: UserWarning: Building a kNNGraph on data of shape (3000, 784) is expensive. Consider setting n_pca.\n",
      "  UserWarning,\n",
      " 35%|███▌      | 7/20 [01:35<02:58, 13.70s/it]/home/wilson/anaconda3/envs/py37/lib/python3.7/site-packages/graphtools/graphs.py:121: UserWarning: Building a kNNGraph on data of shape (3000, 784) is expensive. Consider setting n_pca.\n",
      "  UserWarning,\n",
      " 40%|████      | 8/20 [01:49<02:44, 13.72s/it]/home/wilson/anaconda3/envs/py37/lib/python3.7/site-packages/graphtools/graphs.py:121: UserWarning: Building a kNNGraph on data of shape (3000, 784) is expensive. Consider setting n_pca.\n",
      "  UserWarning,\n",
      " 45%|████▌     | 9/20 [02:03<02:30, 13.73s/it]/home/wilson/anaconda3/envs/py37/lib/python3.7/site-packages/graphtools/graphs.py:121: UserWarning: Building a kNNGraph on data of shape (3000, 784) is expensive. Consider setting n_pca.\n",
      "  UserWarning,\n",
      " 50%|█████     | 10/20 [02:17<02:17, 13.70s/it]/home/wilson/anaconda3/envs/py37/lib/python3.7/site-packages/graphtools/graphs.py:121: UserWarning: Building a kNNGraph on data of shape (3000, 784) is expensive. Consider setting n_pca.\n",
      "  UserWarning,\n",
      " 55%|█████▌    | 11/20 [02:30<02:02, 13.65s/it]/home/wilson/anaconda3/envs/py37/lib/python3.7/site-packages/graphtools/graphs.py:121: UserWarning: Building a kNNGraph on data of shape (3000, 784) is expensive. Consider setting n_pca.\n",
      "  UserWarning,\n",
      " 60%|██████    | 12/20 [02:44<01:49, 13.71s/it]/home/wilson/anaconda3/envs/py37/lib/python3.7/site-packages/graphtools/graphs.py:121: UserWarning: Building a kNNGraph on data of shape (3000, 784) is expensive. Consider setting n_pca.\n",
      "  UserWarning,\n",
      " 65%|██████▌   | 13/20 [02:57<01:35, 13.66s/it]/home/wilson/anaconda3/envs/py37/lib/python3.7/site-packages/graphtools/graphs.py:121: UserWarning: Building a kNNGraph on data of shape (3000, 784) is expensive. Consider setting n_pca.\n",
      "  UserWarning,\n",
      " 70%|███████   | 14/20 [03:11<01:21, 13.65s/it]/home/wilson/anaconda3/envs/py37/lib/python3.7/site-packages/graphtools/graphs.py:121: UserWarning: Building a kNNGraph on data of shape (3000, 784) is expensive. Consider setting n_pca.\n",
      "  UserWarning,\n",
      " 75%|███████▌  | 15/20 [03:25<01:07, 13.59s/it]/home/wilson/anaconda3/envs/py37/lib/python3.7/site-packages/graphtools/graphs.py:121: UserWarning: Building a kNNGraph on data of shape (3000, 784) is expensive. Consider setting n_pca.\n",
      "  UserWarning,\n",
      " 80%|████████  | 16/20 [03:38<00:54, 13.64s/it]/home/wilson/anaconda3/envs/py37/lib/python3.7/site-packages/graphtools/graphs.py:121: UserWarning: Building a kNNGraph on data of shape (3000, 784) is expensive. Consider setting n_pca.\n",
      "  UserWarning,\n",
      " 85%|████████▌ | 17/20 [03:52<00:40, 13.63s/it]/home/wilson/anaconda3/envs/py37/lib/python3.7/site-packages/graphtools/graphs.py:121: UserWarning: Building a kNNGraph on data of shape (3000, 784) is expensive. Consider setting n_pca.\n",
      "  UserWarning,\n",
      " 90%|█████████ | 18/20 [04:06<00:27, 13.68s/it]/home/wilson/anaconda3/envs/py37/lib/python3.7/site-packages/graphtools/graphs.py:121: UserWarning: Building a kNNGraph on data of shape (3000, 784) is expensive. Consider setting n_pca.\n",
      "  UserWarning,\n",
      " 95%|█████████▌| 19/20 [04:19<00:13, 13.72s/it]/home/wilson/anaconda3/envs/py37/lib/python3.7/site-packages/graphtools/graphs.py:121: UserWarning: Building a kNNGraph on data of shape (3000, 784) is expensive. Consider setting n_pca.\n",
      "  UserWarning,\n",
      "100%|██████████| 20/20 [04:33<00:00, 13.68s/it]\n",
      "  0%|          | 0/20 [00:00<?, ?it/s]/home/wilson/anaconda3/envs/py37/lib/python3.7/site-packages/graphtools/graphs.py:121: UserWarning: Building a kNNGraph on data of shape (2030, 784) is expensive. Consider setting n_pca.\n",
      "  UserWarning,\n"
     ]
    },
    {
     "name": "stdout",
     "output_type": "stream",
     "text": [
      "Technique: mphate\n",
      "Technique: humap\n",
      "Level: _level2.csv\n"
     ]
    },
    {
     "name": "stderr",
     "output_type": "stream",
     "text": [
      "  5%|▌         | 1/20 [00:06<01:54,  6.05s/it]/home/wilson/anaconda3/envs/py37/lib/python3.7/site-packages/graphtools/graphs.py:121: UserWarning: Building a kNNGraph on data of shape (1980, 784) is expensive. Consider setting n_pca.\n",
      "  UserWarning,\n",
      " 10%|█         | 2/20 [00:11<01:46,  5.94s/it]/home/wilson/anaconda3/envs/py37/lib/python3.7/site-packages/graphtools/graphs.py:121: UserWarning: Building a kNNGraph on data of shape (1994, 784) is expensive. Consider setting n_pca.\n",
      "  UserWarning,\n",
      " 15%|█▌        | 3/20 [00:17<01:39,  5.87s/it]/home/wilson/anaconda3/envs/py37/lib/python3.7/site-packages/graphtools/graphs.py:121: UserWarning: Building a kNNGraph on data of shape (1982, 784) is expensive. Consider setting n_pca.\n",
      "  UserWarning,\n",
      " 20%|██        | 4/20 [00:23<01:34,  5.88s/it]/home/wilson/anaconda3/envs/py37/lib/python3.7/site-packages/graphtools/graphs.py:121: UserWarning: Building a kNNGraph on data of shape (1984, 784) is expensive. Consider setting n_pca.\n",
      "  UserWarning,\n",
      " 25%|██▌       | 5/20 [00:29<01:27,  5.82s/it]/home/wilson/anaconda3/envs/py37/lib/python3.7/site-packages/graphtools/graphs.py:121: UserWarning: Building a kNNGraph on data of shape (2043, 784) is expensive. Consider setting n_pca.\n",
      "  UserWarning,\n",
      " 30%|███       | 6/20 [00:35<01:22,  5.93s/it]/home/wilson/anaconda3/envs/py37/lib/python3.7/site-packages/graphtools/graphs.py:121: UserWarning: Building a kNNGraph on data of shape (2024, 784) is expensive. Consider setting n_pca.\n",
      "  UserWarning,\n",
      " 35%|███▌      | 7/20 [00:41<01:17,  5.94s/it]/home/wilson/anaconda3/envs/py37/lib/python3.7/site-packages/graphtools/graphs.py:121: UserWarning: Building a kNNGraph on data of shape (2043, 784) is expensive. Consider setting n_pca.\n",
      "  UserWarning,\n",
      " 40%|████      | 8/20 [00:47<01:11,  5.98s/it]/home/wilson/anaconda3/envs/py37/lib/python3.7/site-packages/graphtools/graphs.py:121: UserWarning: Building a kNNGraph on data of shape (2024, 784) is expensive. Consider setting n_pca.\n",
      "  UserWarning,\n",
      " 45%|████▌     | 9/20 [00:53<01:05,  5.98s/it]/home/wilson/anaconda3/envs/py37/lib/python3.7/site-packages/graphtools/graphs.py:121: UserWarning: Building a kNNGraph on data of shape (2004, 784) is expensive. Consider setting n_pca.\n",
      "  UserWarning,\n",
      " 50%|█████     | 10/20 [00:59<00:59,  5.96s/it]/home/wilson/anaconda3/envs/py37/lib/python3.7/site-packages/graphtools/graphs.py:121: UserWarning: Building a kNNGraph on data of shape (1962, 784) is expensive. Consider setting n_pca.\n",
      "  UserWarning,\n",
      " 55%|█████▌    | 11/20 [01:05<00:53,  5.94s/it]/home/wilson/anaconda3/envs/py37/lib/python3.7/site-packages/graphtools/graphs.py:121: UserWarning: Building a kNNGraph on data of shape (1992, 784) is expensive. Consider setting n_pca.\n",
      "  UserWarning,\n",
      " 60%|██████    | 12/20 [01:10<00:47,  5.91s/it]/home/wilson/anaconda3/envs/py37/lib/python3.7/site-packages/graphtools/graphs.py:121: UserWarning: Building a kNNGraph on data of shape (1986, 784) is expensive. Consider setting n_pca.\n",
      "  UserWarning,\n",
      " 65%|██████▌   | 13/20 [01:16<00:41,  5.91s/it]/home/wilson/anaconda3/envs/py37/lib/python3.7/site-packages/graphtools/graphs.py:121: UserWarning: Building a kNNGraph on data of shape (2010, 784) is expensive. Consider setting n_pca.\n",
      "  UserWarning,\n",
      " 70%|███████   | 14/20 [01:22<00:35,  5.90s/it]/home/wilson/anaconda3/envs/py37/lib/python3.7/site-packages/graphtools/graphs.py:121: UserWarning: Building a kNNGraph on data of shape (1983, 784) is expensive. Consider setting n_pca.\n",
      "  UserWarning,\n",
      " 75%|███████▌  | 15/20 [01:28<00:29,  5.88s/it]/home/wilson/anaconda3/envs/py37/lib/python3.7/site-packages/graphtools/graphs.py:121: UserWarning: Building a kNNGraph on data of shape (2019, 784) is expensive. Consider setting n_pca.\n",
      "  UserWarning,\n",
      " 80%|████████  | 16/20 [01:34<00:23,  5.84s/it]/home/wilson/anaconda3/envs/py37/lib/python3.7/site-packages/graphtools/graphs.py:121: UserWarning: Building a kNNGraph on data of shape (2016, 784) is expensive. Consider setting n_pca.\n",
      "  UserWarning,\n",
      " 85%|████████▌ | 17/20 [01:40<00:17,  5.88s/it]/home/wilson/anaconda3/envs/py37/lib/python3.7/site-packages/graphtools/graphs.py:121: UserWarning: Building a kNNGraph on data of shape (2075, 784) is expensive. Consider setting n_pca.\n",
      "  UserWarning,\n",
      " 90%|█████████ | 18/20 [01:46<00:11,  5.98s/it]/home/wilson/anaconda3/envs/py37/lib/python3.7/site-packages/graphtools/graphs.py:121: UserWarning: Building a kNNGraph on data of shape (1964, 784) is expensive. Consider setting n_pca.\n",
      "  UserWarning,\n",
      " 95%|█████████▌| 19/20 [01:52<00:05,  5.88s/it]/home/wilson/anaconda3/envs/py37/lib/python3.7/site-packages/graphtools/graphs.py:121: UserWarning: Building a kNNGraph on data of shape (2012, 784) is expensive. Consider setting n_pca.\n",
      "  UserWarning,\n",
      "100%|██████████| 20/20 [01:57<00:00,  5.90s/it]\n",
      "  0%|          | 0/20 [00:00<?, ?it/s]/home/wilson/anaconda3/envs/py37/lib/python3.7/site-packages/graphtools/graphs.py:121: UserWarning: Building a kNNGraph on data of shape (3000, 784) is expensive. Consider setting n_pca.\n",
      "  UserWarning,\n"
     ]
    },
    {
     "name": "stdout",
     "output_type": "stream",
     "text": [
      "Level: _level0.csv\n"
     ]
    },
    {
     "name": "stderr",
     "output_type": "stream",
     "text": [
      "  5%|▌         | 1/20 [00:13<04:20, 13.73s/it]/home/wilson/anaconda3/envs/py37/lib/python3.7/site-packages/graphtools/graphs.py:121: UserWarning: Building a kNNGraph on data of shape (3000, 784) is expensive. Consider setting n_pca.\n",
      "  UserWarning,\n",
      " 10%|█         | 2/20 [00:27<04:05, 13.66s/it]/home/wilson/anaconda3/envs/py37/lib/python3.7/site-packages/graphtools/graphs.py:121: UserWarning: Building a kNNGraph on data of shape (3000, 784) is expensive. Consider setting n_pca.\n",
      "  UserWarning,\n",
      " 15%|█▌        | 3/20 [00:40<03:52, 13.67s/it]/home/wilson/anaconda3/envs/py37/lib/python3.7/site-packages/graphtools/graphs.py:121: UserWarning: Building a kNNGraph on data of shape (3000, 784) is expensive. Consider setting n_pca.\n",
      "  UserWarning,\n",
      " 20%|██        | 4/20 [00:54<03:40, 13.79s/it]/home/wilson/anaconda3/envs/py37/lib/python3.7/site-packages/graphtools/graphs.py:121: UserWarning: Building a kNNGraph on data of shape (3000, 784) is expensive. Consider setting n_pca.\n",
      "  UserWarning,\n",
      " 25%|██▌       | 5/20 [01:09<03:30, 14.05s/it]/home/wilson/anaconda3/envs/py37/lib/python3.7/site-packages/graphtools/graphs.py:121: UserWarning: Building a kNNGraph on data of shape (3000, 784) is expensive. Consider setting n_pca.\n",
      "  UserWarning,\n",
      " 30%|███       | 6/20 [01:23<03:14, 13.91s/it]/home/wilson/anaconda3/envs/py37/lib/python3.7/site-packages/graphtools/graphs.py:121: UserWarning: Building a kNNGraph on data of shape (3000, 784) is expensive. Consider setting n_pca.\n",
      "  UserWarning,\n",
      " 35%|███▌      | 7/20 [01:37<03:00, 13.89s/it]/home/wilson/anaconda3/envs/py37/lib/python3.7/site-packages/graphtools/graphs.py:121: UserWarning: Building a kNNGraph on data of shape (3000, 784) is expensive. Consider setting n_pca.\n",
      "  UserWarning,\n",
      " 40%|████      | 8/20 [01:51<02:47, 13.94s/it]/home/wilson/anaconda3/envs/py37/lib/python3.7/site-packages/graphtools/graphs.py:121: UserWarning: Building a kNNGraph on data of shape (3000, 784) is expensive. Consider setting n_pca.\n",
      "  UserWarning,\n",
      " 45%|████▌     | 9/20 [02:04<02:31, 13.81s/it]/home/wilson/anaconda3/envs/py37/lib/python3.7/site-packages/graphtools/graphs.py:121: UserWarning: Building a kNNGraph on data of shape (3000, 784) is expensive. Consider setting n_pca.\n",
      "  UserWarning,\n",
      " 50%|█████     | 10/20 [02:18<02:17, 13.79s/it]/home/wilson/anaconda3/envs/py37/lib/python3.7/site-packages/graphtools/graphs.py:121: UserWarning: Building a kNNGraph on data of shape (3000, 784) is expensive. Consider setting n_pca.\n",
      "  UserWarning,\n",
      " 55%|█████▌    | 11/20 [02:31<02:03, 13.72s/it]/home/wilson/anaconda3/envs/py37/lib/python3.7/site-packages/graphtools/graphs.py:121: UserWarning: Building a kNNGraph on data of shape (3000, 784) is expensive. Consider setting n_pca.\n",
      "  UserWarning,\n",
      " 60%|██████    | 12/20 [02:45<01:49, 13.74s/it]/home/wilson/anaconda3/envs/py37/lib/python3.7/site-packages/graphtools/graphs.py:121: UserWarning: Building a kNNGraph on data of shape (3000, 784) is expensive. Consider setting n_pca.\n",
      "  UserWarning,\n",
      " 65%|██████▌   | 13/20 [02:59<01:35, 13.62s/it]/home/wilson/anaconda3/envs/py37/lib/python3.7/site-packages/graphtools/graphs.py:121: UserWarning: Building a kNNGraph on data of shape (3000, 784) is expensive. Consider setting n_pca.\n",
      "  UserWarning,\n",
      " 70%|███████   | 14/20 [03:12<01:21, 13.51s/it]/home/wilson/anaconda3/envs/py37/lib/python3.7/site-packages/graphtools/graphs.py:121: UserWarning: Building a kNNGraph on data of shape (3000, 784) is expensive. Consider setting n_pca.\n",
      "  UserWarning,\n",
      " 75%|███████▌  | 15/20 [03:25<01:07, 13.52s/it]/home/wilson/anaconda3/envs/py37/lib/python3.7/site-packages/graphtools/graphs.py:121: UserWarning: Building a kNNGraph on data of shape (3000, 784) is expensive. Consider setting n_pca.\n",
      "  UserWarning,\n",
      " 80%|████████  | 16/20 [03:38<00:53, 13.35s/it]/home/wilson/anaconda3/envs/py37/lib/python3.7/site-packages/graphtools/graphs.py:121: UserWarning: Building a kNNGraph on data of shape (3000, 784) is expensive. Consider setting n_pca.\n",
      "  UserWarning,\n",
      " 85%|████████▌ | 17/20 [03:51<00:39, 13.25s/it]/home/wilson/anaconda3/envs/py37/lib/python3.7/site-packages/graphtools/graphs.py:121: UserWarning: Building a kNNGraph on data of shape (3000, 784) is expensive. Consider setting n_pca.\n",
      "  UserWarning,\n",
      " 90%|█████████ | 18/20 [04:04<00:26, 13.19s/it]/home/wilson/anaconda3/envs/py37/lib/python3.7/site-packages/graphtools/graphs.py:121: UserWarning: Building a kNNGraph on data of shape (3000, 784) is expensive. Consider setting n_pca.\n",
      "  UserWarning,\n",
      " 95%|█████████▌| 19/20 [04:17<00:13, 13.16s/it]/home/wilson/anaconda3/envs/py37/lib/python3.7/site-packages/graphtools/graphs.py:121: UserWarning: Building a kNNGraph on data of shape (3000, 784) is expensive. Consider setting n_pca.\n",
      "  UserWarning,\n",
      "100%|██████████| 20/20 [04:31<00:00, 13.56s/it]\n",
      "  0%|          | 0/20 [00:00<?, ?it/s]"
     ]
    },
    {
     "name": "stdout",
     "output_type": "stream",
     "text": [
      "DATASET: mnist\n",
      "Technique: hsneCPU\n",
      "Level: _level2.csv\n"
     ]
    },
    {
     "name": "stderr",
     "output_type": "stream",
     "text": [
      "/home/wilson/anaconda3/envs/py37/lib/python3.7/site-packages/graphtools/graphs.py:121: UserWarning: Building a kNNGraph on data of shape (2655, 784) is expensive. Consider setting n_pca.\n",
      "  UserWarning,\n",
      "  5%|▌         | 1/20 [00:10<03:10, 10.05s/it]/home/wilson/anaconda3/envs/py37/lib/python3.7/site-packages/graphtools/graphs.py:121: UserWarning: Building a kNNGraph on data of shape (2711, 784) is expensive. Consider setting n_pca.\n",
      "  UserWarning,\n",
      " 10%|█         | 2/20 [00:20<03:03, 10.21s/it]/home/wilson/anaconda3/envs/py37/lib/python3.7/site-packages/graphtools/graphs.py:121: UserWarning: Building a kNNGraph on data of shape (2650, 784) is expensive. Consider setting n_pca.\n",
      "  UserWarning,\n",
      " 15%|█▌        | 3/20 [00:30<02:52, 10.17s/it]/home/wilson/anaconda3/envs/py37/lib/python3.7/site-packages/graphtools/graphs.py:121: UserWarning: Building a kNNGraph on data of shape (2713, 784) is expensive. Consider setting n_pca.\n",
      "  UserWarning,\n",
      " 20%|██        | 4/20 [00:41<02:44, 10.30s/it]/home/wilson/anaconda3/envs/py37/lib/python3.7/site-packages/graphtools/graphs.py:121: UserWarning: Building a kNNGraph on data of shape (2718, 784) is expensive. Consider setting n_pca.\n",
      "  UserWarning,\n",
      " 25%|██▌       | 5/20 [00:51<02:35, 10.39s/it]/home/wilson/anaconda3/envs/py37/lib/python3.7/site-packages/graphtools/graphs.py:121: UserWarning: Building a kNNGraph on data of shape (2690, 784) is expensive. Consider setting n_pca.\n",
      "  UserWarning,\n",
      " 30%|███       | 6/20 [01:02<02:25, 10.38s/it]/home/wilson/anaconda3/envs/py37/lib/python3.7/site-packages/graphtools/graphs.py:121: UserWarning: Building a kNNGraph on data of shape (2773, 784) is expensive. Consider setting n_pca.\n",
      "  UserWarning,\n",
      " 35%|███▌      | 7/20 [01:13<02:17, 10.55s/it]/home/wilson/anaconda3/envs/py37/lib/python3.7/site-packages/graphtools/graphs.py:121: UserWarning: Building a kNNGraph on data of shape (2733, 784) is expensive. Consider setting n_pca.\n",
      "  UserWarning,\n",
      " 40%|████      | 8/20 [01:23<02:07, 10.62s/it]/home/wilson/anaconda3/envs/py37/lib/python3.7/site-packages/graphtools/graphs.py:121: UserWarning: Building a kNNGraph on data of shape (2760, 784) is expensive. Consider setting n_pca.\n",
      "  UserWarning,\n",
      " 45%|████▌     | 9/20 [01:34<01:57, 10.68s/it]/home/wilson/anaconda3/envs/py37/lib/python3.7/site-packages/graphtools/graphs.py:121: UserWarning: Building a kNNGraph on data of shape (2712, 784) is expensive. Consider setting n_pca.\n",
      "  UserWarning,\n",
      " 50%|█████     | 10/20 [01:45<01:46, 10.67s/it]/home/wilson/anaconda3/envs/py37/lib/python3.7/site-packages/graphtools/graphs.py:121: UserWarning: Building a kNNGraph on data of shape (2687, 784) is expensive. Consider setting n_pca.\n",
      "  UserWarning,\n",
      " 55%|█████▌    | 11/20 [01:55<01:35, 10.56s/it]/home/wilson/anaconda3/envs/py37/lib/python3.7/site-packages/graphtools/graphs.py:121: UserWarning: Building a kNNGraph on data of shape (2701, 784) is expensive. Consider setting n_pca.\n",
      "  UserWarning,\n",
      " 60%|██████    | 12/20 [02:06<01:24, 10.52s/it]/home/wilson/anaconda3/envs/py37/lib/python3.7/site-packages/graphtools/graphs.py:121: UserWarning: Building a kNNGraph on data of shape (2690, 784) is expensive. Consider setting n_pca.\n",
      "  UserWarning,\n",
      " 65%|██████▌   | 13/20 [02:16<01:13, 10.45s/it]/home/wilson/anaconda3/envs/py37/lib/python3.7/site-packages/graphtools/graphs.py:121: UserWarning: Building a kNNGraph on data of shape (2652, 784) is expensive. Consider setting n_pca.\n",
      "  UserWarning,\n",
      " 70%|███████   | 14/20 [02:26<01:02, 10.37s/it]/home/wilson/anaconda3/envs/py37/lib/python3.7/site-packages/graphtools/graphs.py:121: UserWarning: Building a kNNGraph on data of shape (2680, 784) is expensive. Consider setting n_pca.\n",
      "  UserWarning,\n",
      " 75%|███████▌  | 15/20 [02:36<00:51, 10.33s/it]/home/wilson/anaconda3/envs/py37/lib/python3.7/site-packages/graphtools/graphs.py:121: UserWarning: Building a kNNGraph on data of shape (2715, 784) is expensive. Consider setting n_pca.\n",
      "  UserWarning,\n",
      " 80%|████████  | 16/20 [02:47<00:41, 10.42s/it]/home/wilson/anaconda3/envs/py37/lib/python3.7/site-packages/graphtools/graphs.py:121: UserWarning: Building a kNNGraph on data of shape (2709, 784) is expensive. Consider setting n_pca.\n",
      "  UserWarning,\n",
      " 85%|████████▌ | 17/20 [02:58<00:31, 10.48s/it]/home/wilson/anaconda3/envs/py37/lib/python3.7/site-packages/graphtools/graphs.py:121: UserWarning: Building a kNNGraph on data of shape (2732, 784) is expensive. Consider setting n_pca.\n",
      "  UserWarning,\n",
      " 90%|█████████ | 18/20 [03:08<00:21, 10.54s/it]/home/wilson/anaconda3/envs/py37/lib/python3.7/site-packages/graphtools/graphs.py:121: UserWarning: Building a kNNGraph on data of shape (2697, 784) is expensive. Consider setting n_pca.\n",
      "  UserWarning,\n",
      " 95%|█████████▌| 19/20 [03:19<00:10, 10.53s/it]/home/wilson/anaconda3/envs/py37/lib/python3.7/site-packages/graphtools/graphs.py:121: UserWarning: Building a kNNGraph on data of shape (2681, 784) is expensive. Consider setting n_pca.\n",
      "  UserWarning,\n",
      "100%|██████████| 20/20 [03:29<00:00, 10.49s/it]\n",
      "  0%|          | 0/20 [00:00<?, ?it/s]/home/wilson/anaconda3/envs/py37/lib/python3.7/site-packages/graphtools/graphs.py:121: UserWarning: Building a kNNGraph on data of shape (3000, 784) is expensive. Consider setting n_pca.\n",
      "  UserWarning,\n"
     ]
    },
    {
     "name": "stdout",
     "output_type": "stream",
     "text": [
      "Level: _level0.csv\n"
     ]
    },
    {
     "name": "stderr",
     "output_type": "stream",
     "text": [
      "  5%|▌         | 1/20 [00:13<04:20, 13.71s/it]/home/wilson/anaconda3/envs/py37/lib/python3.7/site-packages/graphtools/graphs.py:121: UserWarning: Building a kNNGraph on data of shape (3000, 784) is expensive. Consider setting n_pca.\n",
      "  UserWarning,\n",
      " 10%|█         | 2/20 [00:27<04:07, 13.74s/it]/home/wilson/anaconda3/envs/py37/lib/python3.7/site-packages/graphtools/graphs.py:121: UserWarning: Building a kNNGraph on data of shape (3000, 784) is expensive. Consider setting n_pca.\n",
      "  UserWarning,\n",
      " 15%|█▌        | 3/20 [00:41<03:56, 13.90s/it]/home/wilson/anaconda3/envs/py37/lib/python3.7/site-packages/graphtools/graphs.py:121: UserWarning: Building a kNNGraph on data of shape (3000, 784) is expensive. Consider setting n_pca.\n",
      "  UserWarning,\n",
      " 20%|██        | 4/20 [00:55<03:42, 13.89s/it]/home/wilson/anaconda3/envs/py37/lib/python3.7/site-packages/graphtools/graphs.py:121: UserWarning: Building a kNNGraph on data of shape (3000, 784) is expensive. Consider setting n_pca.\n",
      "  UserWarning,\n",
      " 25%|██▌       | 5/20 [01:09<03:28, 13.91s/it]/home/wilson/anaconda3/envs/py37/lib/python3.7/site-packages/graphtools/graphs.py:121: UserWarning: Building a kNNGraph on data of shape (3000, 784) is expensive. Consider setting n_pca.\n",
      "  UserWarning,\n",
      " 30%|███       | 6/20 [01:23<03:15, 13.93s/it]/home/wilson/anaconda3/envs/py37/lib/python3.7/site-packages/graphtools/graphs.py:121: UserWarning: Building a kNNGraph on data of shape (3000, 784) is expensive. Consider setting n_pca.\n",
      "  UserWarning,\n",
      " 35%|███▌      | 7/20 [01:37<03:01, 13.94s/it]/home/wilson/anaconda3/envs/py37/lib/python3.7/site-packages/graphtools/graphs.py:121: UserWarning: Building a kNNGraph on data of shape (3000, 784) is expensive. Consider setting n_pca.\n",
      "  UserWarning,\n",
      " 40%|████      | 8/20 [01:51<02:47, 13.92s/it]/home/wilson/anaconda3/envs/py37/lib/python3.7/site-packages/graphtools/graphs.py:121: UserWarning: Building a kNNGraph on data of shape (3000, 784) is expensive. Consider setting n_pca.\n",
      "  UserWarning,\n",
      " 45%|████▌     | 9/20 [02:05<02:33, 13.99s/it]/home/wilson/anaconda3/envs/py37/lib/python3.7/site-packages/graphtools/graphs.py:121: UserWarning: Building a kNNGraph on data of shape (3000, 784) is expensive. Consider setting n_pca.\n",
      "  UserWarning,\n",
      " 50%|█████     | 10/20 [02:19<02:20, 14.01s/it]/home/wilson/anaconda3/envs/py37/lib/python3.7/site-packages/graphtools/graphs.py:121: UserWarning: Building a kNNGraph on data of shape (3000, 784) is expensive. Consider setting n_pca.\n",
      "  UserWarning,\n",
      " 55%|█████▌    | 11/20 [02:33<02:05, 13.98s/it]/home/wilson/anaconda3/envs/py37/lib/python3.7/site-packages/graphtools/graphs.py:121: UserWarning: Building a kNNGraph on data of shape (3000, 784) is expensive. Consider setting n_pca.\n",
      "  UserWarning,\n",
      " 60%|██████    | 12/20 [02:47<01:52, 14.00s/it]/home/wilson/anaconda3/envs/py37/lib/python3.7/site-packages/graphtools/graphs.py:121: UserWarning: Building a kNNGraph on data of shape (3000, 784) is expensive. Consider setting n_pca.\n",
      "  UserWarning,\n",
      " 65%|██████▌   | 13/20 [03:01<01:37, 13.94s/it]/home/wilson/anaconda3/envs/py37/lib/python3.7/site-packages/graphtools/graphs.py:121: UserWarning: Building a kNNGraph on data of shape (3000, 784) is expensive. Consider setting n_pca.\n",
      "  UserWarning,\n",
      " 70%|███████   | 14/20 [03:15<01:23, 13.96s/it]/home/wilson/anaconda3/envs/py37/lib/python3.7/site-packages/graphtools/graphs.py:121: UserWarning: Building a kNNGraph on data of shape (3000, 784) is expensive. Consider setting n_pca.\n",
      "  UserWarning,\n",
      " 75%|███████▌  | 15/20 [03:29<01:10, 14.05s/it]/home/wilson/anaconda3/envs/py37/lib/python3.7/site-packages/graphtools/graphs.py:121: UserWarning: Building a kNNGraph on data of shape (3000, 784) is expensive. Consider setting n_pca.\n",
      "  UserWarning,\n",
      " 80%|████████  | 16/20 [03:43<00:56, 14.03s/it]/home/wilson/anaconda3/envs/py37/lib/python3.7/site-packages/graphtools/graphs.py:121: UserWarning: Building a kNNGraph on data of shape (3000, 784) is expensive. Consider setting n_pca.\n",
      "  UserWarning,\n",
      " 85%|████████▌ | 17/20 [03:57<00:41, 13.97s/it]/home/wilson/anaconda3/envs/py37/lib/python3.7/site-packages/graphtools/graphs.py:121: UserWarning: Building a kNNGraph on data of shape (3000, 784) is expensive. Consider setting n_pca.\n",
      "  UserWarning,\n",
      " 90%|█████████ | 18/20 [04:11<00:27, 13.99s/it]/home/wilson/anaconda3/envs/py37/lib/python3.7/site-packages/graphtools/graphs.py:121: UserWarning: Building a kNNGraph on data of shape (3000, 784) is expensive. Consider setting n_pca.\n",
      "  UserWarning,\n",
      " 95%|█████████▌| 19/20 [04:25<00:14, 14.02s/it]/home/wilson/anaconda3/envs/py37/lib/python3.7/site-packages/graphtools/graphs.py:121: UserWarning: Building a kNNGraph on data of shape (3000, 784) is expensive. Consider setting n_pca.\n",
      "  UserWarning,\n",
      "100%|██████████| 20/20 [04:39<00:00, 13.98s/it]\n",
      "  0%|          | 0/20 [00:00<?, ?it/s]/home/wilson/anaconda3/envs/py37/lib/python3.7/site-packages/graphtools/graphs.py:121: UserWarning: Building a kNNGraph on data of shape (2689, 784) is expensive. Consider setting n_pca.\n",
      "  UserWarning,\n"
     ]
    },
    {
     "name": "stdout",
     "output_type": "stream",
     "text": [
      "Technique: hsneGPU\n",
      "Level: _level2.csv\n"
     ]
    },
    {
     "name": "stderr",
     "output_type": "stream",
     "text": [
      "  5%|▌         | 1/20 [00:10<03:22, 10.68s/it]/home/wilson/anaconda3/envs/py37/lib/python3.7/site-packages/graphtools/graphs.py:121: UserWarning: Building a kNNGraph on data of shape (2692, 784) is expensive. Consider setting n_pca.\n",
      "  UserWarning,\n",
      " 10%|█         | 2/20 [00:21<03:12, 10.70s/it]/home/wilson/anaconda3/envs/py37/lib/python3.7/site-packages/graphtools/graphs.py:121: UserWarning: Building a kNNGraph on data of shape (2715, 784) is expensive. Consider setting n_pca.\n",
      "  UserWarning,\n",
      " 15%|█▌        | 3/20 [00:32<03:03, 10.80s/it]/home/wilson/anaconda3/envs/py37/lib/python3.7/site-packages/graphtools/graphs.py:121: UserWarning: Building a kNNGraph on data of shape (2703, 784) is expensive. Consider setting n_pca.\n",
      "  UserWarning,\n",
      " 20%|██        | 4/20 [00:43<02:53, 10.81s/it]/home/wilson/anaconda3/envs/py37/lib/python3.7/site-packages/graphtools/graphs.py:121: UserWarning: Building a kNNGraph on data of shape (2690, 784) is expensive. Consider setting n_pca.\n",
      "  UserWarning,\n",
      " 25%|██▌       | 5/20 [00:54<02:41, 10.79s/it]/home/wilson/anaconda3/envs/py37/lib/python3.7/site-packages/graphtools/graphs.py:121: UserWarning: Building a kNNGraph on data of shape (2703, 784) is expensive. Consider setting n_pca.\n",
      "  UserWarning,\n",
      " 30%|███       | 6/20 [01:04<02:31, 10.84s/it]/home/wilson/anaconda3/envs/py37/lib/python3.7/site-packages/graphtools/graphs.py:121: UserWarning: Building a kNNGraph on data of shape (2687, 784) is expensive. Consider setting n_pca.\n",
      "  UserWarning,\n",
      " 35%|███▌      | 7/20 [01:15<02:20, 10.79s/it]/home/wilson/anaconda3/envs/py37/lib/python3.7/site-packages/graphtools/graphs.py:121: UserWarning: Building a kNNGraph on data of shape (2692, 784) is expensive. Consider setting n_pca.\n",
      "  UserWarning,\n",
      " 40%|████      | 8/20 [01:26<02:08, 10.73s/it]/home/wilson/anaconda3/envs/py37/lib/python3.7/site-packages/graphtools/graphs.py:121: UserWarning: Building a kNNGraph on data of shape (2702, 784) is expensive. Consider setting n_pca.\n",
      "  UserWarning,\n",
      " 45%|████▌     | 9/20 [01:37<01:58, 10.75s/it]/home/wilson/anaconda3/envs/py37/lib/python3.7/site-packages/graphtools/graphs.py:121: UserWarning: Building a kNNGraph on data of shape (2717, 784) is expensive. Consider setting n_pca.\n",
      "  UserWarning,\n",
      " 50%|█████     | 10/20 [01:47<01:47, 10.79s/it]/home/wilson/anaconda3/envs/py37/lib/python3.7/site-packages/graphtools/graphs.py:121: UserWarning: Building a kNNGraph on data of shape (2706, 784) is expensive. Consider setting n_pca.\n",
      "  UserWarning,\n",
      " 55%|█████▌    | 11/20 [01:58<01:37, 10.83s/it]/home/wilson/anaconda3/envs/py37/lib/python3.7/site-packages/graphtools/graphs.py:121: UserWarning: Building a kNNGraph on data of shape (2647, 784) is expensive. Consider setting n_pca.\n",
      "  UserWarning,\n",
      " 60%|██████    | 12/20 [02:09<01:25, 10.72s/it]/home/wilson/anaconda3/envs/py37/lib/python3.7/site-packages/graphtools/graphs.py:121: UserWarning: Building a kNNGraph on data of shape (2699, 784) is expensive. Consider setting n_pca.\n",
      "  UserWarning,\n",
      " 65%|██████▌   | 13/20 [02:20<01:15, 10.75s/it]/home/wilson/anaconda3/envs/py37/lib/python3.7/site-packages/graphtools/graphs.py:121: UserWarning: Building a kNNGraph on data of shape (2646, 784) is expensive. Consider setting n_pca.\n",
      "  UserWarning,\n",
      " 70%|███████   | 14/20 [02:30<01:03, 10.64s/it]/home/wilson/anaconda3/envs/py37/lib/python3.7/site-packages/graphtools/graphs.py:121: UserWarning: Building a kNNGraph on data of shape (2672, 784) is expensive. Consider setting n_pca.\n",
      "  UserWarning,\n",
      " 75%|███████▌  | 15/20 [02:40<00:52, 10.58s/it]/home/wilson/anaconda3/envs/py37/lib/python3.7/site-packages/graphtools/graphs.py:121: UserWarning: Building a kNNGraph on data of shape (2699, 784) is expensive. Consider setting n_pca.\n",
      "  UserWarning,\n",
      " 80%|████████  | 16/20 [02:51<00:42, 10.61s/it]/home/wilson/anaconda3/envs/py37/lib/python3.7/site-packages/graphtools/graphs.py:121: UserWarning: Building a kNNGraph on data of shape (2680, 784) is expensive. Consider setting n_pca.\n",
      "  UserWarning,\n",
      " 85%|████████▌ | 17/20 [03:02<00:31, 10.59s/it]/home/wilson/anaconda3/envs/py37/lib/python3.7/site-packages/graphtools/graphs.py:121: UserWarning: Building a kNNGraph on data of shape (2672, 784) is expensive. Consider setting n_pca.\n",
      "  UserWarning,\n",
      " 90%|█████████ | 18/20 [03:12<00:21, 10.59s/it]/home/wilson/anaconda3/envs/py37/lib/python3.7/site-packages/graphtools/graphs.py:121: UserWarning: Building a kNNGraph on data of shape (2731, 784) is expensive. Consider setting n_pca.\n",
      "  UserWarning,\n",
      " 95%|█████████▌| 19/20 [03:23<00:10, 10.69s/it]/home/wilson/anaconda3/envs/py37/lib/python3.7/site-packages/graphtools/graphs.py:121: UserWarning: Building a kNNGraph on data of shape (2687, 784) is expensive. Consider setting n_pca.\n",
      "  UserWarning,\n",
      "100%|██████████| 20/20 [03:34<00:00, 10.73s/it]\n",
      "  0%|          | 0/20 [00:00<?, ?it/s]/home/wilson/anaconda3/envs/py37/lib/python3.7/site-packages/graphtools/graphs.py:121: UserWarning: Building a kNNGraph on data of shape (3000, 784) is expensive. Consider setting n_pca.\n",
      "  UserWarning,\n"
     ]
    },
    {
     "name": "stdout",
     "output_type": "stream",
     "text": [
      "Level: _level0.csv\n"
     ]
    },
    {
     "name": "stderr",
     "output_type": "stream",
     "text": [
      "  5%|▌         | 1/20 [00:13<04:25, 13.99s/it]/home/wilson/anaconda3/envs/py37/lib/python3.7/site-packages/graphtools/graphs.py:121: UserWarning: Building a kNNGraph on data of shape (3000, 784) is expensive. Consider setting n_pca.\n",
      "  UserWarning,\n",
      " 10%|█         | 2/20 [00:27<04:11, 13.95s/it]/home/wilson/anaconda3/envs/py37/lib/python3.7/site-packages/graphtools/graphs.py:121: UserWarning: Building a kNNGraph on data of shape (3000, 784) is expensive. Consider setting n_pca.\n",
      "  UserWarning,\n",
      " 15%|█▌        | 3/20 [00:41<03:56, 13.94s/it]/home/wilson/anaconda3/envs/py37/lib/python3.7/site-packages/graphtools/graphs.py:121: UserWarning: Building a kNNGraph on data of shape (3000, 784) is expensive. Consider setting n_pca.\n",
      "  UserWarning,\n",
      " 20%|██        | 4/20 [00:55<03:43, 13.96s/it]/home/wilson/anaconda3/envs/py37/lib/python3.7/site-packages/graphtools/graphs.py:121: UserWarning: Building a kNNGraph on data of shape (3000, 784) is expensive. Consider setting n_pca.\n",
      "  UserWarning,\n",
      " 25%|██▌       | 5/20 [01:09<03:30, 14.01s/it]/home/wilson/anaconda3/envs/py37/lib/python3.7/site-packages/graphtools/graphs.py:121: UserWarning: Building a kNNGraph on data of shape (3000, 784) is expensive. Consider setting n_pca.\n",
      "  UserWarning,\n",
      " 30%|███       | 6/20 [01:23<03:16, 14.03s/it]/home/wilson/anaconda3/envs/py37/lib/python3.7/site-packages/graphtools/graphs.py:121: UserWarning: Building a kNNGraph on data of shape (3000, 784) is expensive. Consider setting n_pca.\n",
      "  UserWarning,\n",
      " 35%|███▌      | 7/20 [01:38<03:03, 14.09s/it]/home/wilson/anaconda3/envs/py37/lib/python3.7/site-packages/graphtools/graphs.py:121: UserWarning: Building a kNNGraph on data of shape (3000, 784) is expensive. Consider setting n_pca.\n",
      "  UserWarning,\n",
      " 40%|████      | 8/20 [01:52<02:48, 14.01s/it]/home/wilson/anaconda3/envs/py37/lib/python3.7/site-packages/graphtools/graphs.py:121: UserWarning: Building a kNNGraph on data of shape (3000, 784) is expensive. Consider setting n_pca.\n",
      "  UserWarning,\n",
      " 45%|████▌     | 9/20 [02:06<02:35, 14.09s/it]/home/wilson/anaconda3/envs/py37/lib/python3.7/site-packages/graphtools/graphs.py:121: UserWarning: Building a kNNGraph on data of shape (3000, 784) is expensive. Consider setting n_pca.\n",
      "  UserWarning,\n",
      " 50%|█████     | 10/20 [02:19<02:19, 13.95s/it]/home/wilson/anaconda3/envs/py37/lib/python3.7/site-packages/graphtools/graphs.py:121: UserWarning: Building a kNNGraph on data of shape (3000, 784) is expensive. Consider setting n_pca.\n",
      "  UserWarning,\n",
      " 55%|█████▌    | 11/20 [02:34<02:06, 14.03s/it]/home/wilson/anaconda3/envs/py37/lib/python3.7/site-packages/graphtools/graphs.py:121: UserWarning: Building a kNNGraph on data of shape (3000, 784) is expensive. Consider setting n_pca.\n",
      "  UserWarning,\n",
      " 60%|██████    | 12/20 [02:48<01:52, 14.03s/it]/home/wilson/anaconda3/envs/py37/lib/python3.7/site-packages/graphtools/graphs.py:121: UserWarning: Building a kNNGraph on data of shape (3000, 784) is expensive. Consider setting n_pca.\n",
      "  UserWarning,\n",
      " 65%|██████▌   | 13/20 [03:02<01:38, 14.00s/it]/home/wilson/anaconda3/envs/py37/lib/python3.7/site-packages/graphtools/graphs.py:121: UserWarning: Building a kNNGraph on data of shape (3000, 784) is expensive. Consider setting n_pca.\n",
      "  UserWarning,\n",
      " 70%|███████   | 14/20 [03:16<01:23, 13.98s/it]/home/wilson/anaconda3/envs/py37/lib/python3.7/site-packages/graphtools/graphs.py:121: UserWarning: Building a kNNGraph on data of shape (3000, 784) is expensive. Consider setting n_pca.\n",
      "  UserWarning,\n",
      " 75%|███████▌  | 15/20 [03:30<01:10, 14.04s/it]/home/wilson/anaconda3/envs/py37/lib/python3.7/site-packages/graphtools/graphs.py:121: UserWarning: Building a kNNGraph on data of shape (3000, 784) is expensive. Consider setting n_pca.\n",
      "  UserWarning,\n",
      " 80%|████████  | 16/20 [03:44<00:56, 14.13s/it]/home/wilson/anaconda3/envs/py37/lib/python3.7/site-packages/graphtools/graphs.py:121: UserWarning: Building a kNNGraph on data of shape (3000, 784) is expensive. Consider setting n_pca.\n",
      "  UserWarning,\n",
      " 85%|████████▌ | 17/20 [03:58<00:42, 14.16s/it]/home/wilson/anaconda3/envs/py37/lib/python3.7/site-packages/graphtools/graphs.py:121: UserWarning: Building a kNNGraph on data of shape (3000, 784) is expensive. Consider setting n_pca.\n",
      "  UserWarning,\n",
      " 90%|█████████ | 18/20 [04:13<00:28, 14.19s/it]/home/wilson/anaconda3/envs/py37/lib/python3.7/site-packages/graphtools/graphs.py:121: UserWarning: Building a kNNGraph on data of shape (3000, 784) is expensive. Consider setting n_pca.\n",
      "  UserWarning,\n",
      " 95%|█████████▌| 19/20 [04:26<00:14, 14.08s/it]/home/wilson/anaconda3/envs/py37/lib/python3.7/site-packages/graphtools/graphs.py:121: UserWarning: Building a kNNGraph on data of shape (3000, 784) is expensive. Consider setting n_pca.\n",
      "  UserWarning,\n",
      "100%|██████████| 20/20 [04:41<00:00, 14.05s/it]\n",
      "  0%|          | 0/20 [00:00<?, ?it/s]/home/wilson/anaconda3/envs/py37/lib/python3.7/site-packages/graphtools/graphs.py:121: UserWarning: Building a kNNGraph on data of shape (2689, 784) is expensive. Consider setting n_pca.\n",
      "  UserWarning,\n"
     ]
    },
    {
     "name": "stdout",
     "output_type": "stream",
     "text": [
      "Technique: mphate\n",
      "Technique: humap\n",
      "Level: _level2.csv\n"
     ]
    },
    {
     "name": "stderr",
     "output_type": "stream",
     "text": [
      "  5%|▌         | 1/20 [00:10<03:26, 10.86s/it]/home/wilson/anaconda3/envs/py37/lib/python3.7/site-packages/graphtools/graphs.py:121: UserWarning: Building a kNNGraph on data of shape (2692, 784) is expensive. Consider setting n_pca.\n",
      "  UserWarning,\n",
      " 10%|█         | 2/20 [00:21<03:14, 10.82s/it]/home/wilson/anaconda3/envs/py37/lib/python3.7/site-packages/graphtools/graphs.py:121: UserWarning: Building a kNNGraph on data of shape (2715, 784) is expensive. Consider setting n_pca.\n",
      "  UserWarning,\n",
      " 15%|█▌        | 3/20 [00:32<03:05, 10.91s/it]/home/wilson/anaconda3/envs/py37/lib/python3.7/site-packages/graphtools/graphs.py:121: UserWarning: Building a kNNGraph on data of shape (2703, 784) is expensive. Consider setting n_pca.\n",
      "  UserWarning,\n",
      " 20%|██        | 4/20 [00:44<02:56, 11.05s/it]/home/wilson/anaconda3/envs/py37/lib/python3.7/site-packages/graphtools/graphs.py:121: UserWarning: Building a kNNGraph on data of shape (2690, 784) is expensive. Consider setting n_pca.\n",
      "  UserWarning,\n",
      " 25%|██▌       | 5/20 [00:55<02:45, 11.02s/it]/home/wilson/anaconda3/envs/py37/lib/python3.7/site-packages/graphtools/graphs.py:121: UserWarning: Building a kNNGraph on data of shape (2703, 784) is expensive. Consider setting n_pca.\n",
      "  UserWarning,\n",
      " 30%|███       | 6/20 [01:06<02:34, 11.02s/it]/home/wilson/anaconda3/envs/py37/lib/python3.7/site-packages/graphtools/graphs.py:121: UserWarning: Building a kNNGraph on data of shape (2687, 784) is expensive. Consider setting n_pca.\n",
      "  UserWarning,\n",
      " 35%|███▌      | 7/20 [01:17<02:23, 11.04s/it]/home/wilson/anaconda3/envs/py37/lib/python3.7/site-packages/graphtools/graphs.py:121: UserWarning: Building a kNNGraph on data of shape (2692, 784) is expensive. Consider setting n_pca.\n",
      "  UserWarning,\n",
      " 40%|████      | 8/20 [01:28<02:12, 11.05s/it]/home/wilson/anaconda3/envs/py37/lib/python3.7/site-packages/graphtools/graphs.py:121: UserWarning: Building a kNNGraph on data of shape (2702, 784) is expensive. Consider setting n_pca.\n",
      "  UserWarning,\n",
      " 45%|████▌     | 9/20 [01:39<02:01, 11.01s/it]/home/wilson/anaconda3/envs/py37/lib/python3.7/site-packages/graphtools/graphs.py:121: UserWarning: Building a kNNGraph on data of shape (2717, 784) is expensive. Consider setting n_pca.\n",
      "  UserWarning,\n",
      " 50%|█████     | 10/20 [01:50<01:50, 11.02s/it]/home/wilson/anaconda3/envs/py37/lib/python3.7/site-packages/graphtools/graphs.py:121: UserWarning: Building a kNNGraph on data of shape (2706, 784) is expensive. Consider setting n_pca.\n",
      "  UserWarning,\n",
      " 55%|█████▌    | 11/20 [02:01<01:39, 11.02s/it]/home/wilson/anaconda3/envs/py37/lib/python3.7/site-packages/graphtools/graphs.py:121: UserWarning: Building a kNNGraph on data of shape (2647, 784) is expensive. Consider setting n_pca.\n",
      "  UserWarning,\n",
      " 60%|██████    | 12/20 [02:11<01:26, 10.81s/it]/home/wilson/anaconda3/envs/py37/lib/python3.7/site-packages/graphtools/graphs.py:121: UserWarning: Building a kNNGraph on data of shape (2699, 784) is expensive. Consider setting n_pca.\n",
      "  UserWarning,\n",
      " 65%|██████▌   | 13/20 [02:22<01:15, 10.73s/it]/home/wilson/anaconda3/envs/py37/lib/python3.7/site-packages/graphtools/graphs.py:121: UserWarning: Building a kNNGraph on data of shape (2646, 784) is expensive. Consider setting n_pca.\n",
      "  UserWarning,\n",
      " 70%|███████   | 14/20 [02:32<01:03, 10.61s/it]/home/wilson/anaconda3/envs/py37/lib/python3.7/site-packages/graphtools/graphs.py:121: UserWarning: Building a kNNGraph on data of shape (2672, 784) is expensive. Consider setting n_pca.\n",
      "  UserWarning,\n",
      " 75%|███████▌  | 15/20 [02:42<00:52, 10.54s/it]/home/wilson/anaconda3/envs/py37/lib/python3.7/site-packages/graphtools/graphs.py:121: UserWarning: Building a kNNGraph on data of shape (2699, 784) is expensive. Consider setting n_pca.\n",
      "  UserWarning,\n",
      " 80%|████████  | 16/20 [02:53<00:42, 10.54s/it]/home/wilson/anaconda3/envs/py37/lib/python3.7/site-packages/graphtools/graphs.py:121: UserWarning: Building a kNNGraph on data of shape (2680, 784) is expensive. Consider setting n_pca.\n",
      "  UserWarning,\n",
      " 85%|████████▌ | 17/20 [03:03<00:31, 10.53s/it]/home/wilson/anaconda3/envs/py37/lib/python3.7/site-packages/graphtools/graphs.py:121: UserWarning: Building a kNNGraph on data of shape (2672, 784) is expensive. Consider setting n_pca.\n",
      "  UserWarning,\n",
      " 90%|█████████ | 18/20 [03:14<00:20, 10.49s/it]/home/wilson/anaconda3/envs/py37/lib/python3.7/site-packages/graphtools/graphs.py:121: UserWarning: Building a kNNGraph on data of shape (2731, 784) is expensive. Consider setting n_pca.\n",
      "  UserWarning,\n",
      " 95%|█████████▌| 19/20 [03:25<00:10, 10.58s/it]/home/wilson/anaconda3/envs/py37/lib/python3.7/site-packages/graphtools/graphs.py:121: UserWarning: Building a kNNGraph on data of shape (2687, 784) is expensive. Consider setting n_pca.\n",
      "  UserWarning,\n",
      "100%|██████████| 20/20 [03:35<00:00, 10.78s/it]\n",
      "  0%|          | 0/20 [00:00<?, ?it/s]/home/wilson/anaconda3/envs/py37/lib/python3.7/site-packages/graphtools/graphs.py:121: UserWarning: Building a kNNGraph on data of shape (3000, 784) is expensive. Consider setting n_pca.\n",
      "  UserWarning,\n"
     ]
    },
    {
     "name": "stdout",
     "output_type": "stream",
     "text": [
      "Level: _level0.csv\n"
     ]
    },
    {
     "name": "stderr",
     "output_type": "stream",
     "text": [
      "  5%|▌         | 1/20 [00:13<04:19, 13.64s/it]/home/wilson/anaconda3/envs/py37/lib/python3.7/site-packages/graphtools/graphs.py:121: UserWarning: Building a kNNGraph on data of shape (3000, 784) is expensive. Consider setting n_pca.\n",
      "  UserWarning,\n",
      " 10%|█         | 2/20 [00:27<04:05, 13.64s/it]/home/wilson/anaconda3/envs/py37/lib/python3.7/site-packages/graphtools/graphs.py:121: UserWarning: Building a kNNGraph on data of shape (3000, 784) is expensive. Consider setting n_pca.\n",
      "  UserWarning,\n",
      " 15%|█▌        | 3/20 [00:40<03:51, 13.64s/it]/home/wilson/anaconda3/envs/py37/lib/python3.7/site-packages/graphtools/graphs.py:121: UserWarning: Building a kNNGraph on data of shape (3000, 784) is expensive. Consider setting n_pca.\n",
      "  UserWarning,\n",
      " 20%|██        | 4/20 [00:54<03:38, 13.63s/it]/home/wilson/anaconda3/envs/py37/lib/python3.7/site-packages/graphtools/graphs.py:121: UserWarning: Building a kNNGraph on data of shape (3000, 784) is expensive. Consider setting n_pca.\n",
      "  UserWarning,\n",
      " 25%|██▌       | 5/20 [01:08<03:24, 13.63s/it]/home/wilson/anaconda3/envs/py37/lib/python3.7/site-packages/graphtools/graphs.py:121: UserWarning: Building a kNNGraph on data of shape (3000, 784) is expensive. Consider setting n_pca.\n",
      "  UserWarning,\n",
      " 30%|███       | 6/20 [01:21<03:10, 13.64s/it]/home/wilson/anaconda3/envs/py37/lib/python3.7/site-packages/graphtools/graphs.py:121: UserWarning: Building a kNNGraph on data of shape (3000, 784) is expensive. Consider setting n_pca.\n",
      "  UserWarning,\n",
      " 35%|███▌      | 7/20 [01:35<02:57, 13.68s/it]/home/wilson/anaconda3/envs/py37/lib/python3.7/site-packages/graphtools/graphs.py:121: UserWarning: Building a kNNGraph on data of shape (3000, 784) is expensive. Consider setting n_pca.\n",
      "  UserWarning,\n",
      " 40%|████      | 8/20 [01:49<02:44, 13.73s/it]/home/wilson/anaconda3/envs/py37/lib/python3.7/site-packages/graphtools/graphs.py:121: UserWarning: Building a kNNGraph on data of shape (3000, 784) is expensive. Consider setting n_pca.\n",
      "  UserWarning,\n",
      " 45%|████▌     | 9/20 [02:03<02:31, 13.73s/it]/home/wilson/anaconda3/envs/py37/lib/python3.7/site-packages/graphtools/graphs.py:121: UserWarning: Building a kNNGraph on data of shape (3000, 784) is expensive. Consider setting n_pca.\n",
      "  UserWarning,\n",
      " 50%|█████     | 10/20 [02:17<02:17, 13.79s/it]/home/wilson/anaconda3/envs/py37/lib/python3.7/site-packages/graphtools/graphs.py:121: UserWarning: Building a kNNGraph on data of shape (3000, 784) is expensive. Consider setting n_pca.\n",
      "  UserWarning,\n",
      " 55%|█████▌    | 11/20 [02:30<02:04, 13.80s/it]/home/wilson/anaconda3/envs/py37/lib/python3.7/site-packages/graphtools/graphs.py:121: UserWarning: Building a kNNGraph on data of shape (3000, 784) is expensive. Consider setting n_pca.\n",
      "  UserWarning,\n",
      " 60%|██████    | 12/20 [02:44<01:50, 13.86s/it]/home/wilson/anaconda3/envs/py37/lib/python3.7/site-packages/graphtools/graphs.py:121: UserWarning: Building a kNNGraph on data of shape (3000, 784) is expensive. Consider setting n_pca.\n",
      "  UserWarning,\n",
      " 65%|██████▌   | 13/20 [02:58<01:37, 13.87s/it]/home/wilson/anaconda3/envs/py37/lib/python3.7/site-packages/graphtools/graphs.py:121: UserWarning: Building a kNNGraph on data of shape (3000, 784) is expensive. Consider setting n_pca.\n",
      "  UserWarning,\n",
      " 70%|███████   | 14/20 [03:12<01:23, 13.84s/it]/home/wilson/anaconda3/envs/py37/lib/python3.7/site-packages/graphtools/graphs.py:121: UserWarning: Building a kNNGraph on data of shape (3000, 784) is expensive. Consider setting n_pca.\n",
      "  UserWarning,\n",
      " 75%|███████▌  | 15/20 [03:26<01:09, 13.87s/it]/home/wilson/anaconda3/envs/py37/lib/python3.7/site-packages/graphtools/graphs.py:121: UserWarning: Building a kNNGraph on data of shape (3000, 784) is expensive. Consider setting n_pca.\n",
      "  UserWarning,\n",
      " 80%|████████  | 16/20 [03:40<00:55, 13.91s/it]/home/wilson/anaconda3/envs/py37/lib/python3.7/site-packages/graphtools/graphs.py:121: UserWarning: Building a kNNGraph on data of shape (3000, 784) is expensive. Consider setting n_pca.\n",
      "  UserWarning,\n",
      " 85%|████████▌ | 17/20 [03:54<00:41, 13.89s/it]/home/wilson/anaconda3/envs/py37/lib/python3.7/site-packages/graphtools/graphs.py:121: UserWarning: Building a kNNGraph on data of shape (3000, 784) is expensive. Consider setting n_pca.\n",
      "  UserWarning,\n",
      " 90%|█████████ | 18/20 [04:08<00:27, 13.90s/it]/home/wilson/anaconda3/envs/py37/lib/python3.7/site-packages/graphtools/graphs.py:121: UserWarning: Building a kNNGraph on data of shape (3000, 784) is expensive. Consider setting n_pca.\n",
      "  UserWarning,\n",
      " 95%|█████████▌| 19/20 [04:22<00:13, 13.93s/it]/home/wilson/anaconda3/envs/py37/lib/python3.7/site-packages/graphtools/graphs.py:121: UserWarning: Building a kNNGraph on data of shape (3000, 784) is expensive. Consider setting n_pca.\n",
      "  UserWarning,\n",
      "100%|██████████| 20/20 [04:36<00:00, 13.80s/it]"
     ]
    },
    {
     "name": "stdout",
     "output_type": "stream",
     "text": [
      "560 560 560\n",
      "560 560 560\n",
      "16800 16800 16800 16800\n"
     ]
    },
    {
     "name": "stderr",
     "output_type": "stream",
     "text": [
      "\n"
     ]
    }
   ],
   "source": [
    "df_correlation, df_demap, df_np = compute_metrics(datasets)"
   ]
  },
  {
   "cell_type": "code",
   "execution_count": 8,
   "metadata": {},
   "outputs": [],
   "source": [
    "df_correlation.to_csv('./correlation_values.csv', index=False)\n",
    "df_demap.to_csv('./demap_values.csv', index=False)\n",
    "df_np.to_csv('./np_values.csv', index=False)"
   ]
  },
  {
   "cell_type": "code",
   "execution_count": null,
   "metadata": {},
   "outputs": [],
   "source": []
  }
 ],
 "metadata": {
  "kernelspec": {
   "display_name": "py37",
   "language": "python",
   "name": "py37"
  },
  "language_info": {
   "codemirror_mode": {
    "name": "ipython",
    "version": 3
   },
   "file_extension": ".py",
   "mimetype": "text/x-python",
   "name": "python",
   "nbconvert_exporter": "python",
   "pygments_lexer": "ipython3",
   "version": "3.7.9"
  }
 },
 "nbformat": 4,
 "nbformat_minor": 4
}
