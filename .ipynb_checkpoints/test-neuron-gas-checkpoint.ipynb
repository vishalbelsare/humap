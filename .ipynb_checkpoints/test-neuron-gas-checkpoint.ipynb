{
 "cells": [
  {
   "cell_type": "code",
   "execution_count": 1,
   "metadata": {},
   "outputs": [],
   "source": [
    "import matplotlib.pyplot as plt\n",
    "%matplotlib inline"
   ]
  },
  {
   "cell_type": "code",
   "execution_count": 2,
   "metadata": {},
   "outputs": [
    {
     "data": {
      "text/plain": [
       "<matplotlib.collections.PathCollection at 0x7f25ef346690>"
      ]
     },
     "execution_count": 2,
     "metadata": {},
     "output_type": "execute_result"
    },
    {
     "data": {
      "image/png": "[encoded data removed]",
      "text/plain": [
       "<Figure size 432x288 with 1 Axes>"
      ]
     },
     "metadata": {
      "needs_background": "light"
     },
     "output_type": "display_data"
    }
   ],
   "source": [
    "from sklearn.datasets import make_moons\n",
    "data, _ = make_moons(10000, noise=0.06, random_state=0)\n",
    "plt.scatter(*data.T)"
   ]
  },
  {
   "cell_type": "code",
   "execution_count": null,
   "metadata": {},
   "outputs": [
    {
     "name": "stderr",
     "output_type": "stream",
     "text": [
      "/home/wilson/anaconda3/envs/py37/lib/python3.7/site-packages/tensorflow/python/framework/dtypes.py:526: FutureWarning: Passing (type, 1) or '1type' as a synonym of type is deprecated; in a future version of numpy, it will be understood as (type, (1,)) / '(1,)type'.\n",
      "  _np_qint8 = np.dtype([(\"qint8\", np.int8, 1)])\n",
      "/home/wilson/anaconda3/envs/py37/lib/python3.7/site-packages/tensorflow/python/framework/dtypes.py:527: FutureWarning: Passing (type, 1) or '1type' as a synonym of type is deprecated; in a future version of numpy, it will be understood as (type, (1,)) / '(1,)type'.\n",
      "  _np_quint8 = np.dtype([(\"quint8\", np.uint8, 1)])\n",
      "/home/wilson/anaconda3/envs/py37/lib/python3.7/site-packages/tensorflow/python/framework/dtypes.py:528: FutureWarning: Passing (type, 1) or '1type' as a synonym of type is deprecated; in a future version of numpy, it will be understood as (type, (1,)) / '(1,)type'.\n",
      "  _np_qint16 = np.dtype([(\"qint16\", np.int16, 1)])\n",
      "/home/wilson/anaconda3/envs/py37/lib/python3.7/site-packages/tensorflow/python/framework/dtypes.py:529: FutureWarning: Passing (type, 1) or '1type' as a synonym of type is deprecated; in a future version of numpy, it will be understood as (type, (1,)) / '(1,)type'.\n",
      "  _np_quint16 = np.dtype([(\"quint16\", np.uint16, 1)])\n",
      "/home/wilson/anaconda3/envs/py37/lib/python3.7/site-packages/tensorflow/python/framework/dtypes.py:530: FutureWarning: Passing (type, 1) or '1type' as a synonym of type is deprecated; in a future version of numpy, it will be understood as (type, (1,)) / '(1,)type'.\n",
      "  _np_qint32 = np.dtype([(\"qint32\", np.int32, 1)])\n",
      "/home/wilson/anaconda3/envs/py37/lib/python3.7/site-packages/tensorflow/python/framework/dtypes.py:535: FutureWarning: Passing (type, 1) or '1type' as a synonym of type is deprecated; in a future version of numpy, it will be understood as (type, (1,)) / '(1,)type'.\n",
      "  np_resource = np.dtype([(\"resource\", np.ubyte, 1)])\n",
      "/home/wilson/anaconda3/envs/py37/lib/python3.7/site-packages/ipykernel_launcher.py:61: TqdmDeprecationWarning: This function will be removed in tqdm==5.0.0\n",
      "Please use `tqdm.notebook.tqdm` instead of `tqdm.tqdm_notebook`\n"
     ]
    },
    {
     "data": {
      "application/vnd.jupyter.widget-view+json": {
       "model_id": "123e241dafc545459b8daaf54a2a67d7",
       "version_major": 2,
       "version_minor": 0
      },
      "text/plain": [
       "HBox(children=(HTML(value=''), FloatProgress(value=0.0, max=220.0), HTML(value='')))"
      ]
     },
     "metadata": {},
     "output_type": "display_data"
    },
    {
     "name": "stderr",
     "output_type": "stream",
     "text": [
      "\r",
      "                                                                               \r"
     ]
    },
    {
     "name": "stdout",
     "output_type": "stream",
     "text": [
      "\n"
     ]
    },
    {
     "name": "stderr",
     "output_type": "stream",
     "text": [
      "                                                                               \r"
     ]
    }
   ],
   "source": [
    "from tqdm import tqdm_notebook as tqdm\n",
    "import numpy as np\n",
    "import matplotlib.pyplot as plt\n",
    "import matplotlib.animation as animation\n",
    "from IPython.display import HTML\n",
    "from neupy import algorithms, utils\n",
    "    \n",
    "utils.reproducible()\n",
    "\n",
    "gng = algorithms.GrowingNeuralGas(\n",
    "    n_inputs=2,\n",
    "    n_start_nodes=2,\n",
    "\n",
    "    shuffle_data=True,\n",
    "    verbose=False,\n",
    "    \n",
    "    step=0.1,\n",
    "    neighbour_step=0.001,\n",
    "    \n",
    "    max_edge_age=50,\n",
    "    max_nodes=100,\n",
    "    \n",
    "    n_iter_before_neuron_added=100,\n",
    "    after_split_error_decay_rate=0.5,\n",
    "    error_decay_rate=0.995,\n",
    "    min_distance_for_update=0.2,\n",
    ")\n",
    "\n",
    "fig = plt.figure()\n",
    "plt.scatter(*data.T, alpha=0.02)\n",
    "plt.xticks([], [])\n",
    "plt.yticks([], [])\n",
    "\n",
    "def animate(i):\n",
    "    for line in animate.prev_lines:\n",
    "        line.remove()\n",
    "        \n",
    "    # Training will slow down overtime and we increase number\n",
    "    # of data samples for training\n",
    "    n = int(0.5 * gng.n_iter_before_neuron_added * (1 + i // 100))\n",
    "    \n",
    "    sampled_data_ids = np.random.choice(len(data), n)\n",
    "    sampled_data = data[sampled_data_ids, :]\n",
    "    gng.train(sampled_data, epochs=1)\n",
    "    \n",
    "    lines = []\n",
    "    for node_1, node_2 in gng.graph.edges:\n",
    "        weights = np.concatenate([node_1.weight, node_2.weight])\n",
    "        line, = plt.plot(*weights.T, color='black')\n",
    "\n",
    "        plt.setp(line, linewidth=1, color='black')\n",
    "        \n",
    "        lines.append(line)\n",
    "        lines.append(plt.scatter(*weights.T, color='black', s=10))\n",
    "    \n",
    "    animate.prev_lines = lines\n",
    "    return lines\n",
    "\n",
    "\n",
    "animate.prev_lines = []\n",
    "anim = animation.FuncAnimation(fig, animate, tqdm(np.arange(220)), interval=30, blit=True)\n",
    "HTML(anim.to_html5_video())"
   ]
  },
  {
   "cell_type": "code",
   "execution_count": null,
   "metadata": {},
   "outputs": [],
   "source": []
  },
  {
   "cell_type": "code",
   "execution_count": null,
   "metadata": {},
   "outputs": [],
   "source": []
  }
 ],
 "metadata": {
  "kernelspec": {
   "display_name": "py37",
   "language": "python",
   "name": "py37"
  },
  "language_info": {
   "codemirror_mode": {
    "name": "ipython",
    "version": 3
   },
   "file_extension": ".py",
   "mimetype": "text/x-python",
   "name": "python",
   "nbconvert_exporter": "python",
   "pygments_lexer": "ipython3",
   "version": "3.7.9"
  }
 },
 "nbformat": 4,
 "nbformat_minor": 2
}
