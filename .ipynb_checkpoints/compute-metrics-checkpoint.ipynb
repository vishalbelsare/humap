{
 "cells": [
  {
   "cell_type": "code",
   "execution_count": 15,
   "metadata": {},
   "outputs": [],
   "source": [
    "import os\n",
    "import scprep\n",
    "import demap\n",
    "import math\n",
    "import random\n",
    "import numpy as np\n",
    "import pandas as pd\n",
    "import hierarchical_umap as h_umap\n",
    "import matplotlib.pyplot as plt\n",
    "\n",
    "from tqdm import tqdm\n",
    "from sklearn.neighbors import NearestNeighbors\n",
    "from sklearn.utils import check_array\n",
    "from sklearn.preprocessing import normalize, LabelEncoder\n",
    "from sklearn.decomposition import PCA\n",
    "from sklearn.metrics import euclidean_distances\n",
    "from sklearn.neighbors import NearestNeighbors\n",
    "\n",
    "from scipy.stats import pearsonr, spearmanr"
   ]
  },
  {
   "cell_type": "code",
   "execution_count": 16,
   "metadata": {},
   "outputs": [],
   "source": [
    "def correlation(X, X_emb):\n",
    "    \n",
    "    dist_orig = np.square(euclidean_distances(X, X)).flatten()\n",
    "    dist_emb = np.square(euclidean_distances(X_emb, X_emb)).flatten()\n",
    "    \n",
    "    \n",
    "    coef, p = spearmanr(dist_orig, dist_emb)\n",
    "    return coef\n",
    "\n",
    "def stress(X, X_emb):\n",
    "    \n",
    "    DE = euclidean_distances(X_emb)\n",
    "    DE = DE/np.max(DE)\n",
    "    DH = euclidean_distances(X)\n",
    "    DH = DH/np.max(DH)\n",
    "    stress = 0.5 * np.sum((DE - DH)**2)\n",
    "    \n",
    "    return np.sqrt(stress/(0.5*np.sum(DH**2)))\n",
    "    \n",
    "\n",
    "def neighborhood_preservation(X, X_emb, Khigh=30):\n",
    "    \n",
    "    neigh_high = NearestNeighbors(n_neighbors=Khigh+1, n_jobs=-1)\n",
    "    neigh_high.fit(X)\n",
    "    high_dists, high_indices = neigh_high.kneighbors(X)\n",
    "\n",
    "\n",
    "    neigh_emb = NearestNeighbors(n_neighbors=Khigh+1, n_jobs=-1)\n",
    "    neigh_emb.fit(X_emb)\n",
    "    emb_dists, emb_indices = neigh_emb.kneighbors(X_emb)\n",
    "\n",
    "    npres = np.zeros(Khigh)\n",
    "    \n",
    "    for k in range(1, Khigh+1):\n",
    "        for i in range(X.shape[0]):\n",
    "            high_current = high_indices[i][1:k+1]\n",
    "            emb_current = emb_indices[i][1:k+1]\n",
    "            \n",
    "            tp = len(np.intersect1d(high_current, emb_current))\n",
    "            \n",
    "            npres[k-1] += (tp/k)\n",
    "        \n",
    "        \n",
    "    npres /= float(X.shape[0])\n",
    "    \n",
    "    return npres"
   ]
  },
  {
   "cell_type": "code",
   "execution_count": 17,
   "metadata": {},
   "outputs": [],
   "source": [
    "def load_fmnist():\n",
    "    fashionTrain = pd.read_csv('data/fashion-train.csv')\n",
    "\n",
    "    fashionX = fashionTrain.values[:,2:]\n",
    "    fashionY = fashionTrain.values[:, 1].astype(int)\n",
    "\n",
    "    X = normalize(fashionX)\n",
    "    y = fashionY\n",
    "\n",
    "    X = check_array(X, dtype=np.float32, accept_sparse='csr', order='C')\n",
    "    \n",
    "    return X, y\n",
    "\n",
    "def load_mnist():\n",
    "    X = np.load('./data/MNIST_70000.npy')\n",
    "    y = np.load('./data/MNIST_70000_label.npy').astype(int)\n",
    "    X = normalize(X)\n",
    "    X = check_array(X, dtype=np.float32, accept_sparse='csr', order='C')\n",
    "    \n",
    "    return X, y\n",
    "\n",
    "def load_scRNAseq():\n",
    "    download_path = os.path.expanduser(\"~/Documentos/HierarchicalUMAP/umap-cpp/umap/cpp/data\")\n",
    "    sparse=True\n",
    "    T1 = scprep.io.load_10X(os.path.join(download_path, \"scRNAseq\", \"T0_1A\"), sparse=sparse, gene_labels='both')\n",
    "    T2 = scprep.io.load_10X(os.path.join(download_path, \"scRNAseq\", \"T2_3B\"), sparse=sparse, gene_labels='both')\n",
    "    T3 = scprep.io.load_10X(os.path.join(download_path, \"scRNAseq\", \"T4_5C\"), sparse=sparse, gene_labels='both')\n",
    "    T4 = scprep.io.load_10X(os.path.join(download_path, \"scRNAseq\", \"T6_7D\"), sparse=sparse, gene_labels='both')\n",
    "    T5 = scprep.io.load_10X(os.path.join(download_path, \"scRNAseq\", \"T8_9E\"), sparse=sparse, gene_labels='both')\n",
    "    filtered_batches = []\n",
    "    for batch in [T1, T2, T3, T4, T5]:\n",
    "        batch = scprep.filter.filter_library_size(batch, percentile=20, keep_cells='above')\n",
    "        batch = scprep.filter.filter_library_size(batch, percentile=75, keep_cells='below')\n",
    "        filtered_batches.append(batch)\n",
    "    del T1, T2, T3, T4, T5\n",
    "    EBT_counts, sample_labels = scprep.utils.combine_batches(\n",
    "        filtered_batches, \n",
    "        [\"Day 00-03\", \"Day 06-09\", \"Day 12-15\", \"Day 18-21\", \"Day 24-27\"],\n",
    "        append_to_cell_names=True\n",
    "    )\n",
    "    del filtered_batches # removes objects from memory\n",
    "    EBT_counts = scprep.filter.filter_rare_genes(EBT_counts, min_cells=10)\n",
    "    EBT_counts = scprep.normalize.library_size_normalize(EBT_counts)\n",
    "    mito_genes = scprep.select.get_gene_set(EBT_counts, starts_with=\"MT-\") # Get all mitochondrial genes. There are 14, FYI.\n",
    "    EBT_counts, sample_labels = scprep.filter.filter_gene_set_expression(\n",
    "    EBT_counts, sample_labels, genes=mito_genes, \n",
    "    percentile=90, keep_cells='below')\n",
    "    EBT_counts = scprep.transform.sqrt(EBT_counts)\n",
    "    \n",
    "    le = LabelEncoder()\n",
    "    le.fit(sample_labels)\n",
    "    labels = le.transform(sample_labels)\n",
    "    X = PCA(n_components=50).fit_transform(EBT_counts.values)\n",
    "    X = check_array(X, dtype=np.float32, accept_sparse='csr', order='C')\n",
    "    return X, labels\n",
    "\n",
    "def load_mammals():\n",
    "    X = np.loadtxt(\"data/mammals-20000_features.txt\")\n",
    "    y = np.loadtxt(\"data/mammals-20000_classes.txt\")\n",
    "    X = normalize(X)\n",
    "    \n",
    "    return X, y"
   ]
  },
  {
   "cell_type": "code",
   "execution_count": 18,
   "metadata": {},
   "outputs": [],
   "source": [
    "datasets = []\n",
    "datasets.append({\n",
    "    'load': load_mammals,\n",
    "    'name': 'mammals'\n",
    "})\n",
    "datasets.append({\n",
    "    'load': load_scRNAseq,\n",
    "    'name': 'scRNAseq'\n",
    "})\n",
    "datasets.append({\n",
    "    'load': load_fmnist,\n",
    "    'name': 'fmnist'\n",
    "})\n",
    "datasets.append({\n",
    "    'load': load_mnist,\n",
    "    'name': 'mnist'\n",
    "})"
   ]
  },
  {
   "cell_type": "code",
   "execution_count": 33,
   "metadata": {},
   "outputs": [],
   "source": [
    "def compute_metrics(datasets, techniques = ['hsneCPU', 'hsneGPU', 'mphate', 'humap', 'humapFLANN', 'humapKDTREE_NN'], n_executions = 20):\n",
    "    map_name = {}\n",
    "    map_name['hsneCPU'] = 'HSNE CPU'\n",
    "    map_name['hsneGPU'] = 'HSNE GPU'\n",
    "    map_name['mphate'] = 'Multiscale PHATE'\n",
    "    map_name['humap'] = 'HUMAP'\n",
    "    map_name['humapFLANN'] = 'HUMAP FLANN'\n",
    "    map_name['humapKDTREE_NN'] = 'HUMAP KDTree + NNDescent'\n",
    "    \n",
    "    \n",
    "    corr_values = []\n",
    "    corr_level = []\n",
    "    corr_technique = []\n",
    "    \n",
    "    demap_values = []\n",
    "    demap_level = []\n",
    "    demap_technique = []\n",
    "    \n",
    "    neighborhood_values = []\n",
    "    np_values = []\n",
    "    np_level = []\n",
    "    np_technique = []\n",
    "    \n",
    "    dataset_values_corr = []\n",
    "    dataset_values_demap = []\n",
    "    dataset_values_np = []\n",
    "    \n",
    "    size_before_corr = 0\n",
    "    size_before_demap = 0\n",
    "    size_before_np = 0\n",
    "    \n",
    "    for dataset in datasets:\n",
    "        \n",
    "        path = 'experiments/comparison/'+dataset['name']\n",
    "        X, y = dataset['load']()\n",
    "        \n",
    "        print(\"DATASET: %s\" % (dataset['name']))\n",
    "        \n",
    "                \n",
    "        for technique in techniques:\n",
    "            print(\"Technique: %s\" % (technique))\n",
    "            \n",
    "            if (dataset['name'] == 'fmnist' or dataset['name'] == 'mnist') and technique == 'mphate':\n",
    "                continue\n",
    "                \n",
    "            for i, level in enumerate(['_level2.csv', '_level0.csv']):\n",
    "                \n",
    "                print(\"Level: %s\" % (level))\n",
    "                \n",
    "                demap_list = []\n",
    "                correlation_list = []\n",
    "                np_list = []\n",
    "\n",
    "                for execution in tqdm(range(n_executions)):\n",
    "                    it = str(execution)\n",
    "                    \n",
    "                    df = pd.read_csv(path+'/'+technique+'_it'+it+level)\n",
    "                    x = df['x'+it].values\n",
    "                    y = df['y'+it].values\n",
    "                    indices = df['inds'+it].values\n",
    "                    \n",
    "                    emb = np.stack((x, y), axis=-1)\n",
    "                    sample = random.sample(range(0, len(x)), min(2000, len(x)))\n",
    "                    \n",
    "                    subset_emb = emb[sample]\n",
    "                    subset_X = X[indices][sample]\n",
    "                    \n",
    "                    demap_value = demap.DEMaP(subset_X, subset_emb)\n",
    "                    demap_list.append(demap_value)\n",
    "                    \n",
    "                    corr_value = correlation(subset_X, subset_emb)\n",
    "                    correlation_list.append(corr_value)\n",
    "                    \n",
    "                    npres_values = neighborhood_preservation(subset_X, subset_emb)\n",
    "                    np_list = np_list + npres_values.tolist()\n",
    "                    \n",
    "                    \n",
    "                corr_values = corr_values + correlation_list\n",
    "                corr_technique = corr_technique + [map_name[technique]]*len(correlation_list)\n",
    "                corr_level = corr_level + ['Level '+str(i)]*len(correlation_list)\n",
    "                \n",
    "                demap_values = demap_values + demap_list\n",
    "                demap_technique = demap_technique + [map_name[technique]]*len(demap_list)\n",
    "                demap_level = demap_level + ['Level '+str(i)]*len(demap_list)\n",
    "                \n",
    "                np_values = np_values + np_list\n",
    "                neighborhood_values = neighborhood_values + list(range(30))*n_executions\n",
    "                np_technique = np_technique + [map_name[technique]]*len(np_list)\n",
    "                np_level = np_level + ['Level '+str(i)]*len(np_list)\n",
    "        \n",
    "        \n",
    "        dataset_values_corr = dataset_values_corr + [dataset['name']]*(len(corr_values) - size_before_corr)\n",
    "        dataset_values_demap = dataset_values_demap + [dataset['name']]*(len(demap_values) - size_before_demap)\n",
    "        dataset_values_np = dataset_values_np + [dataset['name']]*(len(np_values) - size_before_np)\n",
    "        \n",
    "        size_before_corr = len(corr_values)\n",
    "        size_before_demap = len(demap_values)\n",
    "        size_before_np = len(np_values)\n",
    "        \n",
    "        \n",
    "        \n",
    "    \n",
    "    print(len(dataset_values_corr), len(corr_technique), len(corr_values))\n",
    "    \n",
    "    df_correlation = pd.DataFrame({\n",
    "        'dataset': dataset_values_corr,\n",
    "        'technique': corr_technique,\n",
    "        'level': corr_level,\n",
    "        'values': corr_values        \n",
    "    })\n",
    "    \n",
    "    print(len(dataset_values_demap), len(demap_technique), len(demap_values))\n",
    "    \n",
    "    df_demap = pd.DataFrame({\n",
    "        'dataset': dataset_values_demap,\n",
    "        'technique': demap_technique,\n",
    "        'level': demap_level,\n",
    "        'values': demap_values\n",
    "    })\n",
    "    \n",
    "    print(len(dataset_values_np), len(np_technique), len(neighborhood_values), len(np_values))\n",
    "    \n",
    "    \n",
    "    df_np = pd.DataFrame({\n",
    "        'dataset': dataset_values_np,\n",
    "        'technique': np_technique,\n",
    "        'level': np_level,\n",
    "        'neighbors': neighborhood_values,\n",
    "        'np': np_values\n",
    "    })\n",
    "        \n",
    "    return df_correlation, df_demap, df_np            \n",
    "                "
   ]
  },
  {
   "cell_type": "code",
   "execution_count": 34,
   "metadata": {
    "scrolled": true
   },
   "outputs": [
    {
     "name": "stderr",
     "output_type": "stream",
     "text": [
      "\r",
      "  0%|          | 0/20 [00:00<?, ?it/s]"
     ]
    },
    {
     "name": "stdout",
     "output_type": "stream",
     "text": [
      "DATASET: mammals\n",
      "Technique: hsneCPU\n",
      "Level: _level2.csv\n"
     ]
    },
    {
     "name": "stderr",
     "output_type": "stream",
     "text": [
      "100%|██████████| 20/20 [00:15<00:00,  1.26it/s]\n",
      "  0%|          | 0/20 [00:00<?, ?it/s]"
     ]
    },
    {
     "name": "stdout",
     "output_type": "stream",
     "text": [
      "Level: _level0.csv\n"
     ]
    },
    {
     "name": "stderr",
     "output_type": "stream",
     "text": [
      "100%|██████████| 20/20 [01:08<00:00,  3.44s/it]\n",
      "  0%|          | 0/20 [00:00<?, ?it/s]"
     ]
    },
    {
     "name": "stdout",
     "output_type": "stream",
     "text": [
      "Technique: hsneGPU\n",
      "Level: _level2.csv\n"
     ]
    },
    {
     "name": "stderr",
     "output_type": "stream",
     "text": [
      "100%|██████████| 20/20 [00:16<00:00,  1.19it/s]\n",
      "  0%|          | 0/20 [00:00<?, ?it/s]"
     ]
    },
    {
     "name": "stdout",
     "output_type": "stream",
     "text": [
      "Level: _level0.csv\n"
     ]
    },
    {
     "name": "stderr",
     "output_type": "stream",
     "text": [
      "100%|██████████| 20/20 [01:10<00:00,  3.55s/it]\n",
      "  0%|          | 0/20 [00:00<?, ?it/s]"
     ]
    },
    {
     "name": "stdout",
     "output_type": "stream",
     "text": [
      "Technique: mphate\n",
      "Level: _level2.csv\n"
     ]
    },
    {
     "name": "stderr",
     "output_type": "stream",
     "text": [
      "100%|██████████| 20/20 [00:24<00:00,  1.23s/it]\n",
      "  0%|          | 0/20 [00:00<?, ?it/s]"
     ]
    },
    {
     "name": "stdout",
     "output_type": "stream",
     "text": [
      "Level: _level0.csv\n"
     ]
    },
    {
     "name": "stderr",
     "output_type": "stream",
     "text": [
      "100%|██████████| 20/20 [01:06<00:00,  3.32s/it]\n",
      "  0%|          | 0/20 [00:00<?, ?it/s]"
     ]
    },
    {
     "name": "stdout",
     "output_type": "stream",
     "text": [
      "Technique: humap\n",
      "Level: _level2.csv\n"
     ]
    },
    {
     "name": "stderr",
     "output_type": "stream",
     "text": [
      "100%|██████████| 20/20 [01:06<00:00,  3.31s/it]\n",
      "  0%|          | 0/20 [00:00<?, ?it/s]"
     ]
    },
    {
     "name": "stdout",
     "output_type": "stream",
     "text": [
      "Level: _level0.csv\n"
     ]
    },
    {
     "name": "stderr",
     "output_type": "stream",
     "text": [
      "100%|██████████| 20/20 [01:07<00:00,  3.35s/it]\n",
      "  0%|          | 0/20 [00:00<?, ?it/s]"
     ]
    },
    {
     "name": "stdout",
     "output_type": "stream",
     "text": [
      "Technique: humapFLANN\n",
      "Level: _level2.csv\n"
     ]
    },
    {
     "name": "stderr",
     "output_type": "stream",
     "text": [
      "100%|██████████| 20/20 [01:06<00:00,  3.34s/it]\n",
      "  0%|          | 0/20 [00:00<?, ?it/s]"
     ]
    },
    {
     "name": "stdout",
     "output_type": "stream",
     "text": [
      "Level: _level0.csv\n"
     ]
    },
    {
     "name": "stderr",
     "output_type": "stream",
     "text": [
      "100%|██████████| 20/20 [01:06<00:00,  3.34s/it]\n",
      "  0%|          | 0/20 [00:00<?, ?it/s]"
     ]
    },
    {
     "name": "stdout",
     "output_type": "stream",
     "text": [
      "Technique: humapKDTREE_NN\n",
      "Level: _level2.csv\n"
     ]
    },
    {
     "name": "stderr",
     "output_type": "stream",
     "text": [
      "100%|██████████| 20/20 [01:06<00:00,  3.32s/it]\n",
      "  0%|          | 0/20 [00:00<?, ?it/s]"
     ]
    },
    {
     "name": "stdout",
     "output_type": "stream",
     "text": [
      "Level: _level0.csv\n"
     ]
    },
    {
     "name": "stderr",
     "output_type": "stream",
     "text": [
      "100%|██████████| 20/20 [01:06<00:00,  3.34s/it]\n",
      "  0%|          | 0/20 [00:00<?, ?it/s]"
     ]
    },
    {
     "name": "stdout",
     "output_type": "stream",
     "text": [
      "DATASET: scRNAseq\n",
      "Technique: hsneCPU\n",
      "Level: _level2.csv\n"
     ]
    },
    {
     "name": "stderr",
     "output_type": "stream",
     "text": [
      "100%|██████████| 20/20 [00:19<00:00,  1.02it/s]\n",
      "  0%|          | 0/20 [00:00<?, ?it/s]"
     ]
    },
    {
     "name": "stdout",
     "output_type": "stream",
     "text": [
      "Level: _level0.csv\n"
     ]
    },
    {
     "name": "stderr",
     "output_type": "stream",
     "text": [
      "100%|██████████| 20/20 [01:39<00:00,  4.99s/it]\n",
      "  0%|          | 0/20 [00:00<?, ?it/s]"
     ]
    },
    {
     "name": "stdout",
     "output_type": "stream",
     "text": [
      "Technique: hsneGPU\n",
      "Level: _level2.csv\n"
     ]
    },
    {
     "name": "stderr",
     "output_type": "stream",
     "text": [
      "100%|██████████| 20/20 [00:19<00:00,  1.03it/s]\n",
      "  0%|          | 0/20 [00:00<?, ?it/s]"
     ]
    },
    {
     "name": "stdout",
     "output_type": "stream",
     "text": [
      "Level: _level0.csv\n"
     ]
    },
    {
     "name": "stderr",
     "output_type": "stream",
     "text": [
      "100%|██████████| 20/20 [01:44<00:00,  5.22s/it]\n",
      "  0%|          | 0/20 [00:00<?, ?it/s]"
     ]
    },
    {
     "name": "stdout",
     "output_type": "stream",
     "text": [
      "Technique: mphate\n",
      "Level: _level2.csv\n"
     ]
    },
    {
     "name": "stderr",
     "output_type": "stream",
     "text": [
      "100%|██████████| 20/20 [01:40<00:00,  5.04s/it]\n",
      "  0%|          | 0/20 [00:00<?, ?it/s]"
     ]
    },
    {
     "name": "stdout",
     "output_type": "stream",
     "text": [
      "Level: _level0.csv\n"
     ]
    },
    {
     "name": "stderr",
     "output_type": "stream",
     "text": [
      "100%|██████████| 20/20 [01:43<00:00,  5.17s/it]\n",
      "  0%|          | 0/20 [00:00<?, ?it/s]"
     ]
    },
    {
     "name": "stdout",
     "output_type": "stream",
     "text": [
      "Technique: humap\n",
      "Level: _level2.csv\n"
     ]
    },
    {
     "name": "stderr",
     "output_type": "stream",
     "text": [
      "100%|██████████| 20/20 [01:39<00:00,  4.96s/it]\n",
      "  0%|          | 0/20 [00:00<?, ?it/s]"
     ]
    },
    {
     "name": "stdout",
     "output_type": "stream",
     "text": [
      "Level: _level0.csv\n"
     ]
    },
    {
     "name": "stderr",
     "output_type": "stream",
     "text": [
      "100%|██████████| 20/20 [01:42<00:00,  5.10s/it]\n",
      "  0%|          | 0/20 [00:00<?, ?it/s]"
     ]
    },
    {
     "name": "stdout",
     "output_type": "stream",
     "text": [
      "Technique: humapFLANN\n",
      "Level: _level2.csv\n"
     ]
    },
    {
     "name": "stderr",
     "output_type": "stream",
     "text": [
      "100%|██████████| 20/20 [01:38<00:00,  4.92s/it]\n",
      "  0%|          | 0/20 [00:00<?, ?it/s]"
     ]
    },
    {
     "name": "stdout",
     "output_type": "stream",
     "text": [
      "Level: _level0.csv\n"
     ]
    },
    {
     "name": "stderr",
     "output_type": "stream",
     "text": [
      "100%|██████████| 20/20 [01:43<00:00,  5.19s/it]\n",
      "  0%|          | 0/20 [00:00<?, ?it/s]"
     ]
    },
    {
     "name": "stdout",
     "output_type": "stream",
     "text": [
      "Technique: humapKDTREE_NN\n",
      "Level: _level2.csv\n"
     ]
    },
    {
     "name": "stderr",
     "output_type": "stream",
     "text": [
      "100%|██████████| 20/20 [01:41<00:00,  5.06s/it]\n",
      "  0%|          | 0/20 [00:00<?, ?it/s]"
     ]
    },
    {
     "name": "stdout",
     "output_type": "stream",
     "text": [
      "Level: _level0.csv\n"
     ]
    },
    {
     "name": "stderr",
     "output_type": "stream",
     "text": [
      "100%|██████████| 20/20 [01:44<00:00,  5.23s/it]\n",
      "  0%|          | 0/20 [00:00<?, ?it/s]"
     ]
    },
    {
     "name": "stdout",
     "output_type": "stream",
     "text": [
      "DATASET: fmnist\n",
      "Technique: hsneCPU\n",
      "Level: _level2.csv\n"
     ]
    },
    {
     "name": "stderr",
     "output_type": "stream",
     "text": [
      "/home/wilson/anaconda3/envs/py37/lib/python3.7/site-packages/graphtools/graphs.py:121: UserWarning: Building a kNNGraph on data of shape (2000, 784) is expensive. Consider setting n_pca.\n",
      "  UserWarning,\n",
      "  5%|▌         | 1/20 [00:05<01:50,  5.82s/it]/home/wilson/anaconda3/envs/py37/lib/python3.7/site-packages/graphtools/graphs.py:121: UserWarning: Building a kNNGraph on data of shape (1955, 784) is expensive. Consider setting n_pca.\n",
      "  UserWarning,\n",
      " 10%|█         | 2/20 [00:11<01:43,  5.74s/it]/home/wilson/anaconda3/envs/py37/lib/python3.7/site-packages/graphtools/graphs.py:121: UserWarning: Building a kNNGraph on data of shape (2000, 784) is expensive. Consider setting n_pca.\n",
      "  UserWarning,\n",
      " 15%|█▌        | 3/20 [00:17<01:37,  5.75s/it]/home/wilson/anaconda3/envs/py37/lib/python3.7/site-packages/graphtools/graphs.py:121: UserWarning: Building a kNNGraph on data of shape (1979, 784) is expensive. Consider setting n_pca.\n",
      "  UserWarning,\n",
      " 20%|██        | 4/20 [00:22<01:31,  5.70s/it]/home/wilson/anaconda3/envs/py37/lib/python3.7/site-packages/graphtools/graphs.py:121: UserWarning: Building a kNNGraph on data of shape (2000, 784) is expensive. Consider setting n_pca.\n",
      "  UserWarning,\n",
      " 25%|██▌       | 5/20 [00:28<01:25,  5.71s/it]/home/wilson/anaconda3/envs/py37/lib/python3.7/site-packages/graphtools/graphs.py:121: UserWarning: Building a kNNGraph on data of shape (2000, 784) is expensive. Consider setting n_pca.\n",
      "  UserWarning,\n",
      " 30%|███       | 6/20 [00:34<01:20,  5.72s/it]/home/wilson/anaconda3/envs/py37/lib/python3.7/site-packages/graphtools/graphs.py:121: UserWarning: Building a kNNGraph on data of shape (2000, 784) is expensive. Consider setting n_pca.\n",
      "  UserWarning,\n",
      " 35%|███▌      | 7/20 [00:39<01:14,  5.74s/it]/home/wilson/anaconda3/envs/py37/lib/python3.7/site-packages/graphtools/graphs.py:121: UserWarning: Building a kNNGraph on data of shape (2000, 784) is expensive. Consider setting n_pca.\n",
      "  UserWarning,\n",
      " 40%|████      | 8/20 [00:45<01:08,  5.73s/it]/home/wilson/anaconda3/envs/py37/lib/python3.7/site-packages/graphtools/graphs.py:121: UserWarning: Building a kNNGraph on data of shape (1970, 784) is expensive. Consider setting n_pca.\n",
      "  UserWarning,\n",
      " 45%|████▌     | 9/20 [00:51<01:02,  5.69s/it]/home/wilson/anaconda3/envs/py37/lib/python3.7/site-packages/graphtools/graphs.py:121: UserWarning: Building a kNNGraph on data of shape (2000, 784) is expensive. Consider setting n_pca.\n",
      "  UserWarning,\n",
      " 50%|█████     | 10/20 [00:56<00:56,  5.67s/it]/home/wilson/anaconda3/envs/py37/lib/python3.7/site-packages/graphtools/graphs.py:121: UserWarning: Building a kNNGraph on data of shape (2000, 784) is expensive. Consider setting n_pca.\n",
      "  UserWarning,\n",
      " 55%|█████▌    | 11/20 [01:02<00:50,  5.66s/it]/home/wilson/anaconda3/envs/py37/lib/python3.7/site-packages/graphtools/graphs.py:121: UserWarning: Building a kNNGraph on data of shape (1952, 784) is expensive. Consider setting n_pca.\n",
      "  UserWarning,\n",
      " 60%|██████    | 12/20 [01:07<00:44,  5.60s/it]/home/wilson/anaconda3/envs/py37/lib/python3.7/site-packages/graphtools/graphs.py:121: UserWarning: Building a kNNGraph on data of shape (2000, 784) is expensive. Consider setting n_pca.\n",
      "  UserWarning,\n",
      " 65%|██████▌   | 13/20 [01:13<00:39,  5.68s/it]/home/wilson/anaconda3/envs/py37/lib/python3.7/site-packages/graphtools/graphs.py:121: UserWarning: Building a kNNGraph on data of shape (2000, 784) is expensive. Consider setting n_pca.\n",
      "  UserWarning,\n",
      " 70%|███████   | 14/20 [01:19<00:34,  5.71s/it]/home/wilson/anaconda3/envs/py37/lib/python3.7/site-packages/graphtools/graphs.py:121: UserWarning: Building a kNNGraph on data of shape (2000, 784) is expensive. Consider setting n_pca.\n",
      "  UserWarning,\n",
      " 75%|███████▌  | 15/20 [01:25<00:28,  5.71s/it]/home/wilson/anaconda3/envs/py37/lib/python3.7/site-packages/graphtools/graphs.py:121: UserWarning: Building a kNNGraph on data of shape (2000, 784) is expensive. Consider setting n_pca.\n",
      "  UserWarning,\n",
      " 80%|████████  | 16/20 [01:31<00:22,  5.75s/it]/home/wilson/anaconda3/envs/py37/lib/python3.7/site-packages/graphtools/graphs.py:121: UserWarning: Building a kNNGraph on data of shape (2000, 784) is expensive. Consider setting n_pca.\n",
      "  UserWarning,\n",
      " 85%|████████▌ | 17/20 [01:36<00:17,  5.73s/it]/home/wilson/anaconda3/envs/py37/lib/python3.7/site-packages/graphtools/graphs.py:121: UserWarning: Building a kNNGraph on data of shape (2000, 784) is expensive. Consider setting n_pca.\n",
      "  UserWarning,\n",
      " 90%|█████████ | 18/20 [01:42<00:11,  5.75s/it]/home/wilson/anaconda3/envs/py37/lib/python3.7/site-packages/graphtools/graphs.py:121: UserWarning: Building a kNNGraph on data of shape (2000, 784) is expensive. Consider setting n_pca.\n",
      "  UserWarning,\n",
      " 95%|█████████▌| 19/20 [01:48<00:05,  5.90s/it]/home/wilson/anaconda3/envs/py37/lib/python3.7/site-packages/graphtools/graphs.py:121: UserWarning: Building a kNNGraph on data of shape (1970, 784) is expensive. Consider setting n_pca.\n",
      "  UserWarning,\n",
      "100%|██████████| 20/20 [01:54<00:00,  5.75s/it]\n",
      "  0%|          | 0/20 [00:00<?, ?it/s]/home/wilson/anaconda3/envs/py37/lib/python3.7/site-packages/graphtools/graphs.py:121: UserWarning: Building a kNNGraph on data of shape (2000, 784) is expensive. Consider setting n_pca.\n",
      "  UserWarning,\n"
     ]
    },
    {
     "name": "stdout",
     "output_type": "stream",
     "text": [
      "Level: _level0.csv\n"
     ]
    },
    {
     "name": "stderr",
     "output_type": "stream",
     "text": [
      "  5%|▌         | 1/20 [00:06<02:04,  6.53s/it]/home/wilson/anaconda3/envs/py37/lib/python3.7/site-packages/graphtools/graphs.py:121: UserWarning: Building a kNNGraph on data of shape (2000, 784) is expensive. Consider setting n_pca.\n",
      "  UserWarning,\n",
      " 10%|█         | 2/20 [00:12<01:56,  6.48s/it]/home/wilson/anaconda3/envs/py37/lib/python3.7/site-packages/graphtools/graphs.py:121: UserWarning: Building a kNNGraph on data of shape (2000, 784) is expensive. Consider setting n_pca.\n",
      "  UserWarning,\n",
      " 15%|█▌        | 3/20 [00:19<01:49,  6.42s/it]/home/wilson/anaconda3/envs/py37/lib/python3.7/site-packages/graphtools/graphs.py:121: UserWarning: Building a kNNGraph on data of shape (2000, 784) is expensive. Consider setting n_pca.\n",
      "  UserWarning,\n",
      " 20%|██        | 4/20 [00:25<01:42,  6.39s/it]/home/wilson/anaconda3/envs/py37/lib/python3.7/site-packages/graphtools/graphs.py:121: UserWarning: Building a kNNGraph on data of shape (2000, 784) is expensive. Consider setting n_pca.\n",
      "  UserWarning,\n",
      " 25%|██▌       | 5/20 [00:31<01:35,  6.35s/it]/home/wilson/anaconda3/envs/py37/lib/python3.7/site-packages/graphtools/graphs.py:121: UserWarning: Building a kNNGraph on data of shape (2000, 784) is expensive. Consider setting n_pca.\n",
      "  UserWarning,\n",
      " 30%|███       | 6/20 [00:38<01:29,  6.37s/it]/home/wilson/anaconda3/envs/py37/lib/python3.7/site-packages/graphtools/graphs.py:121: UserWarning: Building a kNNGraph on data of shape (2000, 784) is expensive. Consider setting n_pca.\n",
      "  UserWarning,\n",
      " 35%|███▌      | 7/20 [00:44<01:22,  6.32s/it]/home/wilson/anaconda3/envs/py37/lib/python3.7/site-packages/graphtools/graphs.py:121: UserWarning: Building a kNNGraph on data of shape (2000, 784) is expensive. Consider setting n_pca.\n",
      "  UserWarning,\n",
      " 40%|████      | 8/20 [00:50<01:15,  6.32s/it]/home/wilson/anaconda3/envs/py37/lib/python3.7/site-packages/graphtools/graphs.py:121: UserWarning: Building a kNNGraph on data of shape (2000, 784) is expensive. Consider setting n_pca.\n",
      "  UserWarning,\n",
      " 45%|████▌     | 9/20 [00:56<01:09,  6.29s/it]/home/wilson/anaconda3/envs/py37/lib/python3.7/site-packages/graphtools/graphs.py:121: UserWarning: Building a kNNGraph on data of shape (2000, 784) is expensive. Consider setting n_pca.\n",
      "  UserWarning,\n",
      " 50%|█████     | 10/20 [01:03<01:03,  6.31s/it]/home/wilson/anaconda3/envs/py37/lib/python3.7/site-packages/graphtools/graphs.py:121: UserWarning: Building a kNNGraph on data of shape (2000, 784) is expensive. Consider setting n_pca.\n",
      "  UserWarning,\n",
      " 55%|█████▌    | 11/20 [01:09<00:56,  6.28s/it]/home/wilson/anaconda3/envs/py37/lib/python3.7/site-packages/graphtools/graphs.py:121: UserWarning: Building a kNNGraph on data of shape (2000, 784) is expensive. Consider setting n_pca.\n",
      "  UserWarning,\n",
      " 60%|██████    | 12/20 [01:15<00:50,  6.27s/it]/home/wilson/anaconda3/envs/py37/lib/python3.7/site-packages/graphtools/graphs.py:121: UserWarning: Building a kNNGraph on data of shape (2000, 784) is expensive. Consider setting n_pca.\n",
      "  UserWarning,\n",
      " 65%|██████▌   | 13/20 [01:21<00:43,  6.25s/it]/home/wilson/anaconda3/envs/py37/lib/python3.7/site-packages/graphtools/graphs.py:121: UserWarning: Building a kNNGraph on data of shape (2000, 784) is expensive. Consider setting n_pca.\n",
      "  UserWarning,\n",
      " 70%|███████   | 14/20 [01:28<00:37,  6.30s/it]/home/wilson/anaconda3/envs/py37/lib/python3.7/site-packages/graphtools/graphs.py:121: UserWarning: Building a kNNGraph on data of shape (2000, 784) is expensive. Consider setting n_pca.\n",
      "  UserWarning,\n",
      " 75%|███████▌  | 15/20 [01:34<00:31,  6.29s/it]/home/wilson/anaconda3/envs/py37/lib/python3.7/site-packages/graphtools/graphs.py:121: UserWarning: Building a kNNGraph on data of shape (2000, 784) is expensive. Consider setting n_pca.\n",
      "  UserWarning,\n",
      " 80%|████████  | 16/20 [01:40<00:25,  6.31s/it]/home/wilson/anaconda3/envs/py37/lib/python3.7/site-packages/graphtools/graphs.py:121: UserWarning: Building a kNNGraph on data of shape (2000, 784) is expensive. Consider setting n_pca.\n",
      "  UserWarning,\n",
      " 85%|████████▌ | 17/20 [01:47<00:18,  6.30s/it]/home/wilson/anaconda3/envs/py37/lib/python3.7/site-packages/graphtools/graphs.py:121: UserWarning: Building a kNNGraph on data of shape (2000, 784) is expensive. Consider setting n_pca.\n",
      "  UserWarning,\n",
      " 90%|█████████ | 18/20 [01:53<00:12,  6.29s/it]/home/wilson/anaconda3/envs/py37/lib/python3.7/site-packages/graphtools/graphs.py:121: UserWarning: Building a kNNGraph on data of shape (2000, 784) is expensive. Consider setting n_pca.\n",
      "  UserWarning,\n",
      " 95%|█████████▌| 19/20 [01:59<00:06,  6.26s/it]/home/wilson/anaconda3/envs/py37/lib/python3.7/site-packages/graphtools/graphs.py:121: UserWarning: Building a kNNGraph on data of shape (2000, 784) is expensive. Consider setting n_pca.\n",
      "  UserWarning,\n",
      "100%|██████████| 20/20 [02:05<00:00,  6.30s/it]\n",
      "  0%|          | 0/20 [00:00<?, ?it/s]/home/wilson/anaconda3/envs/py37/lib/python3.7/site-packages/graphtools/graphs.py:121: UserWarning: Building a kNNGraph on data of shape (1981, 784) is expensive. Consider setting n_pca.\n",
      "  UserWarning,\n"
     ]
    },
    {
     "name": "stdout",
     "output_type": "stream",
     "text": [
      "Technique: hsneGPU\n",
      "Level: _level2.csv\n"
     ]
    },
    {
     "name": "stderr",
     "output_type": "stream",
     "text": [
      "  5%|▌         | 1/20 [00:05<01:46,  5.61s/it]/home/wilson/anaconda3/envs/py37/lib/python3.7/site-packages/graphtools/graphs.py:121: UserWarning: Building a kNNGraph on data of shape (2000, 784) is expensive. Consider setting n_pca.\n",
      "  UserWarning,\n",
      " 10%|█         | 2/20 [00:11<01:42,  5.69s/it]/home/wilson/anaconda3/envs/py37/lib/python3.7/site-packages/graphtools/graphs.py:121: UserWarning: Building a kNNGraph on data of shape (2000, 784) is expensive. Consider setting n_pca.\n",
      "  UserWarning,\n",
      " 15%|█▌        | 3/20 [00:16<01:34,  5.55s/it]/home/wilson/anaconda3/envs/py37/lib/python3.7/site-packages/graphtools/graphs.py:121: UserWarning: Building a kNNGraph on data of shape (2000, 784) is expensive. Consider setting n_pca.\n",
      "  UserWarning,\n",
      " 20%|██        | 4/20 [00:22<01:30,  5.67s/it]/home/wilson/anaconda3/envs/py37/lib/python3.7/site-packages/graphtools/graphs.py:121: UserWarning: Building a kNNGraph on data of shape (1999, 784) is expensive. Consider setting n_pca.\n",
      "  UserWarning,\n",
      " 25%|██▌       | 5/20 [00:28<01:26,  5.75s/it]/home/wilson/anaconda3/envs/py37/lib/python3.7/site-packages/graphtools/graphs.py:121: UserWarning: Building a kNNGraph on data of shape (2000, 784) is expensive. Consider setting n_pca.\n",
      "  UserWarning,\n",
      " 30%|███       | 6/20 [00:34<01:21,  5.80s/it]/home/wilson/anaconda3/envs/py37/lib/python3.7/site-packages/graphtools/graphs.py:121: UserWarning: Building a kNNGraph on data of shape (1982, 784) is expensive. Consider setting n_pca.\n",
      "  UserWarning,\n",
      " 35%|███▌      | 7/20 [00:39<01:11,  5.47s/it]/home/wilson/anaconda3/envs/py37/lib/python3.7/site-packages/graphtools/graphs.py:121: UserWarning: Building a kNNGraph on data of shape (1932, 784) is expensive. Consider setting n_pca.\n",
      "  UserWarning,\n",
      " 40%|████      | 8/20 [00:44<01:05,  5.47s/it]/home/wilson/anaconda3/envs/py37/lib/python3.7/site-packages/graphtools/graphs.py:121: UserWarning: Building a kNNGraph on data of shape (2000, 784) is expensive. Consider setting n_pca.\n",
      "  UserWarning,\n",
      " 45%|████▌     | 9/20 [00:50<01:01,  5.61s/it]/home/wilson/anaconda3/envs/py37/lib/python3.7/site-packages/graphtools/graphs.py:121: UserWarning: Building a kNNGraph on data of shape (1997, 784) is expensive. Consider setting n_pca.\n",
      "  UserWarning,\n",
      " 50%|█████     | 10/20 [00:56<00:57,  5.72s/it]/home/wilson/anaconda3/envs/py37/lib/python3.7/site-packages/graphtools/graphs.py:121: UserWarning: Building a kNNGraph on data of shape (2000, 784) is expensive. Consider setting n_pca.\n",
      "  UserWarning,\n",
      " 55%|█████▌    | 11/20 [01:02<00:51,  5.76s/it]/home/wilson/anaconda3/envs/py37/lib/python3.7/site-packages/graphtools/graphs.py:121: UserWarning: Building a kNNGraph on data of shape (2000, 784) is expensive. Consider setting n_pca.\n",
      "  UserWarning,\n",
      " 60%|██████    | 12/20 [01:08<00:46,  5.84s/it]/home/wilson/anaconda3/envs/py37/lib/python3.7/site-packages/graphtools/graphs.py:121: UserWarning: Building a kNNGraph on data of shape (2000, 784) is expensive. Consider setting n_pca.\n",
      "  UserWarning,\n",
      " 65%|██████▌   | 13/20 [01:14<00:40,  5.79s/it]/home/wilson/anaconda3/envs/py37/lib/python3.7/site-packages/graphtools/graphs.py:121: UserWarning: Building a kNNGraph on data of shape (2000, 784) is expensive. Consider setting n_pca.\n",
      "  UserWarning,\n",
      " 70%|███████   | 14/20 [01:20<00:35,  5.87s/it]/home/wilson/anaconda3/envs/py37/lib/python3.7/site-packages/graphtools/graphs.py:121: UserWarning: Building a kNNGraph on data of shape (1996, 784) is expensive. Consider setting n_pca.\n",
      "  UserWarning,\n",
      " 75%|███████▌  | 15/20 [01:26<00:29,  5.90s/it]/home/wilson/anaconda3/envs/py37/lib/python3.7/site-packages/graphtools/graphs.py:121: UserWarning: Building a kNNGraph on data of shape (2000, 784) is expensive. Consider setting n_pca.\n",
      "  UserWarning,\n",
      " 80%|████████  | 16/20 [01:32<00:23,  5.97s/it]/home/wilson/anaconda3/envs/py37/lib/python3.7/site-packages/graphtools/graphs.py:121: UserWarning: Building a kNNGraph on data of shape (2000, 784) is expensive. Consider setting n_pca.\n",
      "  UserWarning,\n",
      " 85%|████████▌ | 17/20 [01:38<00:17,  5.93s/it]/home/wilson/anaconda3/envs/py37/lib/python3.7/site-packages/graphtools/graphs.py:121: UserWarning: Building a kNNGraph on data of shape (2000, 784) is expensive. Consider setting n_pca.\n",
      "  UserWarning,\n",
      " 90%|█████████ | 18/20 [01:44<00:11,  5.93s/it]/home/wilson/anaconda3/envs/py37/lib/python3.7/site-packages/graphtools/graphs.py:121: UserWarning: Building a kNNGraph on data of shape (2000, 784) is expensive. Consider setting n_pca.\n",
      "  UserWarning,\n",
      " 95%|█████████▌| 19/20 [01:49<00:05,  5.86s/it]/home/wilson/anaconda3/envs/py37/lib/python3.7/site-packages/graphtools/graphs.py:121: UserWarning: Building a kNNGraph on data of shape (2000, 784) is expensive. Consider setting n_pca.\n",
      "  UserWarning,\n",
      "100%|██████████| 20/20 [01:55<00:00,  5.78s/it]\n",
      "  0%|          | 0/20 [00:00<?, ?it/s]/home/wilson/anaconda3/envs/py37/lib/python3.7/site-packages/graphtools/graphs.py:121: UserWarning: Building a kNNGraph on data of shape (2000, 784) is expensive. Consider setting n_pca.\n",
      "  UserWarning,\n"
     ]
    },
    {
     "name": "stdout",
     "output_type": "stream",
     "text": [
      "Level: _level0.csv\n"
     ]
    },
    {
     "name": "stderr",
     "output_type": "stream",
     "text": [
      "  5%|▌         | 1/20 [00:06<01:58,  6.23s/it]/home/wilson/anaconda3/envs/py37/lib/python3.7/site-packages/graphtools/graphs.py:121: UserWarning: Building a kNNGraph on data of shape (2000, 784) is expensive. Consider setting n_pca.\n",
      "  UserWarning,\n",
      " 10%|█         | 2/20 [00:12<01:53,  6.28s/it]/home/wilson/anaconda3/envs/py37/lib/python3.7/site-packages/graphtools/graphs.py:121: UserWarning: Building a kNNGraph on data of shape (2000, 784) is expensive. Consider setting n_pca.\n",
      "  UserWarning,\n",
      " 15%|█▌        | 3/20 [00:18<01:46,  6.28s/it]/home/wilson/anaconda3/envs/py37/lib/python3.7/site-packages/graphtools/graphs.py:121: UserWarning: Building a kNNGraph on data of shape (2000, 784) is expensive. Consider setting n_pca.\n",
      "  UserWarning,\n",
      " 20%|██        | 4/20 [00:25<01:42,  6.41s/it]/home/wilson/anaconda3/envs/py37/lib/python3.7/site-packages/graphtools/graphs.py:121: UserWarning: Building a kNNGraph on data of shape (2000, 784) is expensive. Consider setting n_pca.\n",
      "  UserWarning,\n",
      " 25%|██▌       | 5/20 [00:32<01:37,  6.48s/it]/home/wilson/anaconda3/envs/py37/lib/python3.7/site-packages/graphtools/graphs.py:121: UserWarning: Building a kNNGraph on data of shape (2000, 784) is expensive. Consider setting n_pca.\n",
      "  UserWarning,\n",
      " 30%|███       | 6/20 [00:38<01:30,  6.48s/it]/home/wilson/anaconda3/envs/py37/lib/python3.7/site-packages/graphtools/graphs.py:121: UserWarning: Building a kNNGraph on data of shape (2000, 784) is expensive. Consider setting n_pca.\n",
      "  UserWarning,\n",
      " 35%|███▌      | 7/20 [00:45<01:23,  6.41s/it]/home/wilson/anaconda3/envs/py37/lib/python3.7/site-packages/graphtools/graphs.py:121: UserWarning: Building a kNNGraph on data of shape (2000, 784) is expensive. Consider setting n_pca.\n",
      "  UserWarning,\n",
      " 40%|████      | 8/20 [00:51<01:16,  6.38s/it]/home/wilson/anaconda3/envs/py37/lib/python3.7/site-packages/graphtools/graphs.py:121: UserWarning: Building a kNNGraph on data of shape (2000, 784) is expensive. Consider setting n_pca.\n",
      "  UserWarning,\n",
      " 45%|████▌     | 9/20 [00:57<01:10,  6.38s/it]/home/wilson/anaconda3/envs/py37/lib/python3.7/site-packages/graphtools/graphs.py:121: UserWarning: Building a kNNGraph on data of shape (2000, 784) is expensive. Consider setting n_pca.\n",
      "  UserWarning,\n",
      " 50%|█████     | 10/20 [01:04<01:05,  6.57s/it]/home/wilson/anaconda3/envs/py37/lib/python3.7/site-packages/graphtools/graphs.py:121: UserWarning: Building a kNNGraph on data of shape (2000, 784) is expensive. Consider setting n_pca.\n",
      "  UserWarning,\n",
      " 55%|█████▌    | 11/20 [01:11<00:59,  6.64s/it]/home/wilson/anaconda3/envs/py37/lib/python3.7/site-packages/graphtools/graphs.py:121: UserWarning: Building a kNNGraph on data of shape (2000, 784) is expensive. Consider setting n_pca.\n",
      "  UserWarning,\n",
      " 60%|██████    | 12/20 [01:18<00:53,  6.67s/it]/home/wilson/anaconda3/envs/py37/lib/python3.7/site-packages/graphtools/graphs.py:121: UserWarning: Building a kNNGraph on data of shape (2000, 784) is expensive. Consider setting n_pca.\n",
      "  UserWarning,\n",
      " 65%|██████▌   | 13/20 [01:24<00:46,  6.62s/it]/home/wilson/anaconda3/envs/py37/lib/python3.7/site-packages/graphtools/graphs.py:121: UserWarning: Building a kNNGraph on data of shape (2000, 784) is expensive. Consider setting n_pca.\n",
      "  UserWarning,\n",
      " 70%|███████   | 14/20 [01:31<00:39,  6.58s/it]/home/wilson/anaconda3/envs/py37/lib/python3.7/site-packages/graphtools/graphs.py:121: UserWarning: Building a kNNGraph on data of shape (2000, 784) is expensive. Consider setting n_pca.\n",
      "  UserWarning,\n",
      " 75%|███████▌  | 15/20 [01:37<00:32,  6.50s/it]/home/wilson/anaconda3/envs/py37/lib/python3.7/site-packages/graphtools/graphs.py:121: UserWarning: Building a kNNGraph on data of shape (2000, 784) is expensive. Consider setting n_pca.\n",
      "  UserWarning,\n",
      " 80%|████████  | 16/20 [01:44<00:25,  6.49s/it]/home/wilson/anaconda3/envs/py37/lib/python3.7/site-packages/graphtools/graphs.py:121: UserWarning: Building a kNNGraph on data of shape (2000, 784) is expensive. Consider setting n_pca.\n",
      "  UserWarning,\n",
      " 85%|████████▌ | 17/20 [01:50<00:19,  6.53s/it]/home/wilson/anaconda3/envs/py37/lib/python3.7/site-packages/graphtools/graphs.py:121: UserWarning: Building a kNNGraph on data of shape (2000, 784) is expensive. Consider setting n_pca.\n",
      "  UserWarning,\n",
      " 90%|█████████ | 18/20 [01:57<00:13,  6.53s/it]/home/wilson/anaconda3/envs/py37/lib/python3.7/site-packages/graphtools/graphs.py:121: UserWarning: Building a kNNGraph on data of shape (2000, 784) is expensive. Consider setting n_pca.\n",
      "  UserWarning,\n",
      " 95%|█████████▌| 19/20 [02:03<00:06,  6.45s/it]/home/wilson/anaconda3/envs/py37/lib/python3.7/site-packages/graphtools/graphs.py:121: UserWarning: Building a kNNGraph on data of shape (2000, 784) is expensive. Consider setting n_pca.\n",
      "  UserWarning,\n",
      "100%|██████████| 20/20 [02:09<00:00,  6.48s/it]\n",
      "  0%|          | 0/20 [00:00<?, ?it/s]/home/wilson/anaconda3/envs/py37/lib/python3.7/site-packages/graphtools/graphs.py:121: UserWarning: Building a kNNGraph on data of shape (2000, 784) is expensive. Consider setting n_pca.\n",
      "  UserWarning,\n"
     ]
    },
    {
     "name": "stdout",
     "output_type": "stream",
     "text": [
      "Technique: mphate\n",
      "Technique: humap\n",
      "Level: _level2.csv\n"
     ]
    },
    {
     "name": "stderr",
     "output_type": "stream",
     "text": [
      "  5%|▌         | 1/20 [00:04<01:32,  4.89s/it]/home/wilson/anaconda3/envs/py37/lib/python3.7/site-packages/graphtools/graphs.py:121: UserWarning: Building a kNNGraph on data of shape (2000, 784) is expensive. Consider setting n_pca.\n",
      "  UserWarning,\n",
      " 10%|█         | 2/20 [00:10<01:34,  5.24s/it]/home/wilson/anaconda3/envs/py37/lib/python3.7/site-packages/graphtools/graphs.py:121: UserWarning: Building a kNNGraph on data of shape (2000, 784) is expensive. Consider setting n_pca.\n",
      "  UserWarning,\n",
      " 15%|█▌        | 3/20 [00:17<01:33,  5.49s/it]/home/wilson/anaconda3/envs/py37/lib/python3.7/site-packages/graphtools/graphs.py:121: UserWarning: Building a kNNGraph on data of shape (2000, 784) is expensive. Consider setting n_pca.\n",
      "  UserWarning,\n",
      " 20%|██        | 4/20 [00:22<01:29,  5.62s/it]/home/wilson/anaconda3/envs/py37/lib/python3.7/site-packages/graphtools/graphs.py:121: UserWarning: Building a kNNGraph on data of shape (2000, 784) is expensive. Consider setting n_pca.\n",
      "  UserWarning,\n",
      " 25%|██▌       | 5/20 [00:28<01:24,  5.64s/it]/home/wilson/anaconda3/envs/py37/lib/python3.7/site-packages/graphtools/graphs.py:121: UserWarning: Building a kNNGraph on data of shape (2000, 784) is expensive. Consider setting n_pca.\n",
      "  UserWarning,\n",
      " 30%|███       | 6/20 [00:34<01:20,  5.72s/it]/home/wilson/anaconda3/envs/py37/lib/python3.7/site-packages/graphtools/graphs.py:121: UserWarning: Building a kNNGraph on data of shape (2000, 784) is expensive. Consider setting n_pca.\n",
      "  UserWarning,\n",
      " 35%|███▌      | 7/20 [00:40<01:14,  5.75s/it]/home/wilson/anaconda3/envs/py37/lib/python3.7/site-packages/graphtools/graphs.py:121: UserWarning: Building a kNNGraph on data of shape (2000, 784) is expensive. Consider setting n_pca.\n",
      "  UserWarning,\n",
      " 40%|████      | 8/20 [00:46<01:09,  5.81s/it]/home/wilson/anaconda3/envs/py37/lib/python3.7/site-packages/graphtools/graphs.py:121: UserWarning: Building a kNNGraph on data of shape (2000, 784) is expensive. Consider setting n_pca.\n",
      "  UserWarning,\n",
      " 45%|████▌     | 9/20 [00:52<01:03,  5.82s/it]/home/wilson/anaconda3/envs/py37/lib/python3.7/site-packages/graphtools/graphs.py:121: UserWarning: Building a kNNGraph on data of shape (2000, 784) is expensive. Consider setting n_pca.\n",
      "  UserWarning,\n",
      " 50%|█████     | 10/20 [00:57<00:58,  5.81s/it]/home/wilson/anaconda3/envs/py37/lib/python3.7/site-packages/graphtools/graphs.py:121: UserWarning: Building a kNNGraph on data of shape (2000, 784) is expensive. Consider setting n_pca.\n",
      "  UserWarning,\n",
      " 55%|█████▌    | 11/20 [01:03<00:52,  5.81s/it]/home/wilson/anaconda3/envs/py37/lib/python3.7/site-packages/graphtools/graphs.py:121: UserWarning: Building a kNNGraph on data of shape (2000, 784) is expensive. Consider setting n_pca.\n",
      "  UserWarning,\n",
      " 60%|██████    | 12/20 [01:09<00:46,  5.85s/it]/home/wilson/anaconda3/envs/py37/lib/python3.7/site-packages/graphtools/graphs.py:121: UserWarning: Building a kNNGraph on data of shape (2000, 784) is expensive. Consider setting n_pca.\n",
      "  UserWarning,\n",
      " 65%|██████▌   | 13/20 [01:15<00:40,  5.79s/it]/home/wilson/anaconda3/envs/py37/lib/python3.7/site-packages/graphtools/graphs.py:121: UserWarning: Building a kNNGraph on data of shape (2000, 784) is expensive. Consider setting n_pca.\n",
      "  UserWarning,\n",
      " 70%|███████   | 14/20 [01:21<00:34,  5.83s/it]/home/wilson/anaconda3/envs/py37/lib/python3.7/site-packages/graphtools/graphs.py:121: UserWarning: Building a kNNGraph on data of shape (2000, 784) is expensive. Consider setting n_pca.\n",
      "  UserWarning,\n",
      " 75%|███████▌  | 15/20 [01:26<00:28,  5.79s/it]/home/wilson/anaconda3/envs/py37/lib/python3.7/site-packages/graphtools/graphs.py:121: UserWarning: Building a kNNGraph on data of shape (2000, 784) is expensive. Consider setting n_pca.\n",
      "  UserWarning,\n",
      " 80%|████████  | 16/20 [01:32<00:22,  5.72s/it]/home/wilson/anaconda3/envs/py37/lib/python3.7/site-packages/graphtools/graphs.py:121: UserWarning: Building a kNNGraph on data of shape (2000, 784) is expensive. Consider setting n_pca.\n",
      "  UserWarning,\n",
      " 85%|████████▌ | 17/20 [01:38<00:16,  5.66s/it]/home/wilson/anaconda3/envs/py37/lib/python3.7/site-packages/graphtools/graphs.py:121: UserWarning: Building a kNNGraph on data of shape (2000, 784) is expensive. Consider setting n_pca.\n",
      "  UserWarning,\n",
      " 90%|█████████ | 18/20 [01:43<00:11,  5.65s/it]/home/wilson/anaconda3/envs/py37/lib/python3.7/site-packages/graphtools/graphs.py:121: UserWarning: Building a kNNGraph on data of shape (2000, 784) is expensive. Consider setting n_pca.\n",
      "  UserWarning,\n",
      " 95%|█████████▌| 19/20 [01:49<00:05,  5.63s/it]/home/wilson/anaconda3/envs/py37/lib/python3.7/site-packages/graphtools/graphs.py:121: UserWarning: Building a kNNGraph on data of shape (2000, 784) is expensive. Consider setting n_pca.\n",
      "  UserWarning,\n",
      "100%|██████████| 20/20 [01:55<00:00,  5.75s/it]\n",
      "  0%|          | 0/20 [00:00<?, ?it/s]/home/wilson/anaconda3/envs/py37/lib/python3.7/site-packages/graphtools/graphs.py:121: UserWarning: Building a kNNGraph on data of shape (2000, 784) is expensive. Consider setting n_pca.\n",
      "  UserWarning,\n"
     ]
    },
    {
     "name": "stdout",
     "output_type": "stream",
     "text": [
      "Level: _level0.csv\n"
     ]
    },
    {
     "name": "stderr",
     "output_type": "stream",
     "text": [
      "  5%|▌         | 1/20 [00:06<01:58,  6.23s/it]/home/wilson/anaconda3/envs/py37/lib/python3.7/site-packages/graphtools/graphs.py:121: UserWarning: Building a kNNGraph on data of shape (2000, 784) is expensive. Consider setting n_pca.\n",
      "  UserWarning,\n",
      " 10%|█         | 2/20 [00:12<01:53,  6.28s/it]/home/wilson/anaconda3/envs/py37/lib/python3.7/site-packages/graphtools/graphs.py:121: UserWarning: Building a kNNGraph on data of shape (2000, 784) is expensive. Consider setting n_pca.\n",
      "  UserWarning,\n",
      " 15%|█▌        | 3/20 [00:19<01:47,  6.31s/it]/home/wilson/anaconda3/envs/py37/lib/python3.7/site-packages/graphtools/graphs.py:121: UserWarning: Building a kNNGraph on data of shape (2000, 784) is expensive. Consider setting n_pca.\n",
      "  UserWarning,\n",
      " 20%|██        | 4/20 [00:25<01:41,  6.37s/it]/home/wilson/anaconda3/envs/py37/lib/python3.7/site-packages/graphtools/graphs.py:121: UserWarning: Building a kNNGraph on data of shape (2000, 784) is expensive. Consider setting n_pca.\n",
      "  UserWarning,\n",
      " 25%|██▌       | 5/20 [00:31<01:35,  6.34s/it]/home/wilson/anaconda3/envs/py37/lib/python3.7/site-packages/graphtools/graphs.py:121: UserWarning: Building a kNNGraph on data of shape (2000, 784) is expensive. Consider setting n_pca.\n",
      "  UserWarning,\n",
      " 30%|███       | 6/20 [00:38<01:28,  6.31s/it]/home/wilson/anaconda3/envs/py37/lib/python3.7/site-packages/graphtools/graphs.py:121: UserWarning: Building a kNNGraph on data of shape (2000, 784) is expensive. Consider setting n_pca.\n",
      "  UserWarning,\n",
      " 35%|███▌      | 7/20 [00:44<01:21,  6.29s/it]/home/wilson/anaconda3/envs/py37/lib/python3.7/site-packages/graphtools/graphs.py:121: UserWarning: Building a kNNGraph on data of shape (2000, 784) is expensive. Consider setting n_pca.\n",
      "  UserWarning,\n",
      " 40%|████      | 8/20 [00:50<01:15,  6.32s/it]/home/wilson/anaconda3/envs/py37/lib/python3.7/site-packages/graphtools/graphs.py:121: UserWarning: Building a kNNGraph on data of shape (2000, 784) is expensive. Consider setting n_pca.\n",
      "  UserWarning,\n",
      " 45%|████▌     | 9/20 [00:56<01:09,  6.30s/it]/home/wilson/anaconda3/envs/py37/lib/python3.7/site-packages/graphtools/graphs.py:121: UserWarning: Building a kNNGraph on data of shape (2000, 784) is expensive. Consider setting n_pca.\n",
      "  UserWarning,\n",
      " 50%|█████     | 10/20 [01:03<01:02,  6.28s/it]/home/wilson/anaconda3/envs/py37/lib/python3.7/site-packages/graphtools/graphs.py:121: UserWarning: Building a kNNGraph on data of shape (2000, 784) is expensive. Consider setting n_pca.\n",
      "  UserWarning,\n",
      " 55%|█████▌    | 11/20 [01:09<00:56,  6.28s/it]/home/wilson/anaconda3/envs/py37/lib/python3.7/site-packages/graphtools/graphs.py:121: UserWarning: Building a kNNGraph on data of shape (2000, 784) is expensive. Consider setting n_pca.\n",
      "  UserWarning,\n",
      " 60%|██████    | 12/20 [01:15<00:50,  6.31s/it]/home/wilson/anaconda3/envs/py37/lib/python3.7/site-packages/graphtools/graphs.py:121: UserWarning: Building a kNNGraph on data of shape (2000, 784) is expensive. Consider setting n_pca.\n",
      "  UserWarning,\n",
      " 65%|██████▌   | 13/20 [01:22<00:44,  6.31s/it]/home/wilson/anaconda3/envs/py37/lib/python3.7/site-packages/graphtools/graphs.py:121: UserWarning: Building a kNNGraph on data of shape (2000, 784) is expensive. Consider setting n_pca.\n",
      "  UserWarning,\n",
      " 70%|███████   | 14/20 [01:28<00:37,  6.29s/it]/home/wilson/anaconda3/envs/py37/lib/python3.7/site-packages/graphtools/graphs.py:121: UserWarning: Building a kNNGraph on data of shape (2000, 784) is expensive. Consider setting n_pca.\n",
      "  UserWarning,\n",
      " 75%|███████▌  | 15/20 [01:34<00:31,  6.27s/it]/home/wilson/anaconda3/envs/py37/lib/python3.7/site-packages/graphtools/graphs.py:121: UserWarning: Building a kNNGraph on data of shape (2000, 784) is expensive. Consider setting n_pca.\n",
      "  UserWarning,\n",
      " 80%|████████  | 16/20 [01:40<00:25,  6.25s/it]/home/wilson/anaconda3/envs/py37/lib/python3.7/site-packages/graphtools/graphs.py:121: UserWarning: Building a kNNGraph on data of shape (2000, 784) is expensive. Consider setting n_pca.\n",
      "  UserWarning,\n",
      " 85%|████████▌ | 17/20 [01:47<00:18,  6.30s/it]/home/wilson/anaconda3/envs/py37/lib/python3.7/site-packages/graphtools/graphs.py:121: UserWarning: Building a kNNGraph on data of shape (2000, 784) is expensive. Consider setting n_pca.\n",
      "  UserWarning,\n",
      " 90%|█████████ | 18/20 [01:53<00:12,  6.29s/it]/home/wilson/anaconda3/envs/py37/lib/python3.7/site-packages/graphtools/graphs.py:121: UserWarning: Building a kNNGraph on data of shape (2000, 784) is expensive. Consider setting n_pca.\n",
      "  UserWarning,\n",
      " 95%|█████████▌| 19/20 [01:59<00:06,  6.26s/it]/home/wilson/anaconda3/envs/py37/lib/python3.7/site-packages/graphtools/graphs.py:121: UserWarning: Building a kNNGraph on data of shape (2000, 784) is expensive. Consider setting n_pca.\n",
      "  UserWarning,\n",
      "100%|██████████| 20/20 [02:05<00:00,  6.29s/it]\n",
      "  0%|          | 0/20 [00:00<?, ?it/s]/home/wilson/anaconda3/envs/py37/lib/python3.7/site-packages/graphtools/graphs.py:121: UserWarning: Building a kNNGraph on data of shape (2000, 784) is expensive. Consider setting n_pca.\n",
      "  UserWarning,\n"
     ]
    },
    {
     "name": "stdout",
     "output_type": "stream",
     "text": [
      "Technique: humapFLANN\n",
      "Level: _level2.csv\n"
     ]
    },
    {
     "name": "stderr",
     "output_type": "stream",
     "text": [
      "  5%|▌         | 1/20 [00:05<01:53,  5.97s/it]/home/wilson/anaconda3/envs/py37/lib/python3.7/site-packages/graphtools/graphs.py:121: UserWarning: Building a kNNGraph on data of shape (2000, 784) is expensive. Consider setting n_pca.\n",
      "  UserWarning,\n",
      " 10%|█         | 2/20 [00:11<01:47,  5.95s/it]/home/wilson/anaconda3/envs/py37/lib/python3.7/site-packages/graphtools/graphs.py:121: UserWarning: Building a kNNGraph on data of shape (2000, 784) is expensive. Consider setting n_pca.\n",
      "  UserWarning,\n",
      " 15%|█▌        | 3/20 [00:17<01:40,  5.92s/it]/home/wilson/anaconda3/envs/py37/lib/python3.7/site-packages/graphtools/graphs.py:121: UserWarning: Building a kNNGraph on data of shape (2000, 784) is expensive. Consider setting n_pca.\n",
      "  UserWarning,\n",
      " 20%|██        | 4/20 [00:23<01:34,  5.91s/it]/home/wilson/anaconda3/envs/py37/lib/python3.7/site-packages/graphtools/graphs.py:121: UserWarning: Building a kNNGraph on data of shape (2000, 784) is expensive. Consider setting n_pca.\n",
      "  UserWarning,\n",
      " 25%|██▌       | 5/20 [00:29<01:27,  5.85s/it]/home/wilson/anaconda3/envs/py37/lib/python3.7/site-packages/graphtools/graphs.py:121: UserWarning: Building a kNNGraph on data of shape (2000, 784) is expensive. Consider setting n_pca.\n",
      "  UserWarning,\n",
      " 30%|███       | 6/20 [00:34<01:20,  5.78s/it]/home/wilson/anaconda3/envs/py37/lib/python3.7/site-packages/graphtools/graphs.py:121: UserWarning: Building a kNNGraph on data of shape (2000, 784) is expensive. Consider setting n_pca.\n",
      "  UserWarning,\n",
      " 35%|███▌      | 7/20 [00:40<01:15,  5.81s/it]/home/wilson/anaconda3/envs/py37/lib/python3.7/site-packages/graphtools/graphs.py:121: UserWarning: Building a kNNGraph on data of shape (2000, 784) is expensive. Consider setting n_pca.\n",
      "  UserWarning,\n",
      " 40%|████      | 8/20 [00:46<01:09,  5.80s/it]/home/wilson/anaconda3/envs/py37/lib/python3.7/site-packages/graphtools/graphs.py:121: UserWarning: Building a kNNGraph on data of shape (2000, 784) is expensive. Consider setting n_pca.\n",
      "  UserWarning,\n",
      " 45%|████▌     | 9/20 [00:51<01:00,  5.51s/it]/home/wilson/anaconda3/envs/py37/lib/python3.7/site-packages/graphtools/graphs.py:121: UserWarning: Building a kNNGraph on data of shape (2000, 784) is expensive. Consider setting n_pca.\n",
      "  UserWarning,\n",
      " 50%|█████     | 10/20 [00:57<00:55,  5.58s/it]/home/wilson/anaconda3/envs/py37/lib/python3.7/site-packages/graphtools/graphs.py:121: UserWarning: Building a kNNGraph on data of shape (2000, 784) is expensive. Consider setting n_pca.\n",
      "  UserWarning,\n",
      " 55%|█████▌    | 11/20 [01:02<00:50,  5.63s/it]/home/wilson/anaconda3/envs/py37/lib/python3.7/site-packages/graphtools/graphs.py:121: UserWarning: Building a kNNGraph on data of shape (2000, 784) is expensive. Consider setting n_pca.\n",
      "  UserWarning,\n",
      " 60%|██████    | 12/20 [01:07<00:43,  5.43s/it]/home/wilson/anaconda3/envs/py37/lib/python3.7/site-packages/graphtools/graphs.py:121: UserWarning: Building a kNNGraph on data of shape (2000, 784) is expensive. Consider setting n_pca.\n",
      "  UserWarning,\n",
      " 65%|██████▌   | 13/20 [01:13<00:39,  5.59s/it]/home/wilson/anaconda3/envs/py37/lib/python3.7/site-packages/graphtools/graphs.py:121: UserWarning: Building a kNNGraph on data of shape (2000, 784) is expensive. Consider setting n_pca.\n",
      "  UserWarning,\n",
      " 70%|███████   | 14/20 [01:19<00:33,  5.64s/it]/home/wilson/anaconda3/envs/py37/lib/python3.7/site-packages/graphtools/graphs.py:121: UserWarning: Building a kNNGraph on data of shape (2000, 784) is expensive. Consider setting n_pca.\n",
      "  UserWarning,\n",
      " 75%|███████▌  | 15/20 [01:25<00:28,  5.73s/it]/home/wilson/anaconda3/envs/py37/lib/python3.7/site-packages/graphtools/graphs.py:121: UserWarning: Building a kNNGraph on data of shape (2000, 784) is expensive. Consider setting n_pca.\n",
      "  UserWarning,\n",
      " 80%|████████  | 16/20 [01:31<00:22,  5.69s/it]/home/wilson/anaconda3/envs/py37/lib/python3.7/site-packages/graphtools/graphs.py:121: UserWarning: Building a kNNGraph on data of shape (2000, 784) is expensive. Consider setting n_pca.\n",
      "  UserWarning,\n",
      " 85%|████████▌ | 17/20 [01:36<00:16,  5.52s/it]/home/wilson/anaconda3/envs/py37/lib/python3.7/site-packages/graphtools/graphs.py:121: UserWarning: Building a kNNGraph on data of shape (2000, 784) is expensive. Consider setting n_pca.\n",
      "  UserWarning,\n",
      " 90%|█████████ | 18/20 [01:42<00:11,  5.62s/it]/home/wilson/anaconda3/envs/py37/lib/python3.7/site-packages/graphtools/graphs.py:121: UserWarning: Building a kNNGraph on data of shape (2000, 784) is expensive. Consider setting n_pca.\n",
      "  UserWarning,\n",
      " 95%|█████████▌| 19/20 [01:48<00:05,  5.71s/it]/home/wilson/anaconda3/envs/py37/lib/python3.7/site-packages/graphtools/graphs.py:121: UserWarning: Building a kNNGraph on data of shape (2000, 784) is expensive. Consider setting n_pca.\n",
      "  UserWarning,\n",
      "100%|██████████| 20/20 [01:52<00:00,  5.65s/it]\n",
      "  0%|          | 0/20 [00:00<?, ?it/s]/home/wilson/anaconda3/envs/py37/lib/python3.7/site-packages/graphtools/graphs.py:121: UserWarning: Building a kNNGraph on data of shape (2000, 784) is expensive. Consider setting n_pca.\n",
      "  UserWarning,\n"
     ]
    },
    {
     "name": "stdout",
     "output_type": "stream",
     "text": [
      "Level: _level0.csv\n"
     ]
    },
    {
     "name": "stderr",
     "output_type": "stream",
     "text": [
      "  5%|▌         | 1/20 [00:06<02:02,  6.44s/it]/home/wilson/anaconda3/envs/py37/lib/python3.7/site-packages/graphtools/graphs.py:121: UserWarning: Building a kNNGraph on data of shape (2000, 784) is expensive. Consider setting n_pca.\n",
      "  UserWarning,\n",
      " 10%|█         | 2/20 [00:12<01:55,  6.39s/it]/home/wilson/anaconda3/envs/py37/lib/python3.7/site-packages/graphtools/graphs.py:121: UserWarning: Building a kNNGraph on data of shape (2000, 784) is expensive. Consider setting n_pca.\n",
      "  UserWarning,\n",
      " 15%|█▌        | 3/20 [00:19<01:48,  6.38s/it]/home/wilson/anaconda3/envs/py37/lib/python3.7/site-packages/graphtools/graphs.py:121: UserWarning: Building a kNNGraph on data of shape (2000, 784) is expensive. Consider setting n_pca.\n",
      "  UserWarning,\n",
      " 20%|██        | 4/20 [00:25<01:41,  6.35s/it]/home/wilson/anaconda3/envs/py37/lib/python3.7/site-packages/graphtools/graphs.py:121: UserWarning: Building a kNNGraph on data of shape (2000, 784) is expensive. Consider setting n_pca.\n",
      "  UserWarning,\n",
      " 25%|██▌       | 5/20 [00:31<01:35,  6.35s/it]/home/wilson/anaconda3/envs/py37/lib/python3.7/site-packages/graphtools/graphs.py:121: UserWarning: Building a kNNGraph on data of shape (2000, 784) is expensive. Consider setting n_pca.\n",
      "  UserWarning,\n",
      " 30%|███       | 6/20 [00:37<01:28,  6.33s/it]/home/wilson/anaconda3/envs/py37/lib/python3.7/site-packages/graphtools/graphs.py:121: UserWarning: Building a kNNGraph on data of shape (2000, 784) is expensive. Consider setting n_pca.\n",
      "  UserWarning,\n",
      " 35%|███▌      | 7/20 [00:44<01:21,  6.30s/it]/home/wilson/anaconda3/envs/py37/lib/python3.7/site-packages/graphtools/graphs.py:121: UserWarning: Building a kNNGraph on data of shape (2000, 784) is expensive. Consider setting n_pca.\n",
      "  UserWarning,\n",
      " 40%|████      | 8/20 [00:50<01:15,  6.30s/it]/home/wilson/anaconda3/envs/py37/lib/python3.7/site-packages/graphtools/graphs.py:121: UserWarning: Building a kNNGraph on data of shape (2000, 784) is expensive. Consider setting n_pca.\n",
      "  UserWarning,\n",
      " 45%|████▌     | 9/20 [00:56<01:09,  6.28s/it]/home/wilson/anaconda3/envs/py37/lib/python3.7/site-packages/graphtools/graphs.py:121: UserWarning: Building a kNNGraph on data of shape (2000, 784) is expensive. Consider setting n_pca.\n",
      "  UserWarning,\n",
      " 50%|█████     | 10/20 [01:02<01:02,  6.26s/it]/home/wilson/anaconda3/envs/py37/lib/python3.7/site-packages/graphtools/graphs.py:121: UserWarning: Building a kNNGraph on data of shape (2000, 784) is expensive. Consider setting n_pca.\n",
      "  UserWarning,\n",
      " 55%|█████▌    | 11/20 [01:09<00:56,  6.28s/it]/home/wilson/anaconda3/envs/py37/lib/python3.7/site-packages/graphtools/graphs.py:121: UserWarning: Building a kNNGraph on data of shape (2000, 784) is expensive. Consider setting n_pca.\n",
      "  UserWarning,\n",
      " 60%|██████    | 12/20 [01:15<00:50,  6.28s/it]/home/wilson/anaconda3/envs/py37/lib/python3.7/site-packages/graphtools/graphs.py:121: UserWarning: Building a kNNGraph on data of shape (2000, 784) is expensive. Consider setting n_pca.\n",
      "  UserWarning,\n",
      " 65%|██████▌   | 13/20 [01:22<00:44,  6.34s/it]/home/wilson/anaconda3/envs/py37/lib/python3.7/site-packages/graphtools/graphs.py:121: UserWarning: Building a kNNGraph on data of shape (2000, 784) is expensive. Consider setting n_pca.\n",
      "  UserWarning,\n",
      " 70%|███████   | 14/20 [01:28<00:38,  6.36s/it]/home/wilson/anaconda3/envs/py37/lib/python3.7/site-packages/graphtools/graphs.py:121: UserWarning: Building a kNNGraph on data of shape (2000, 784) is expensive. Consider setting n_pca.\n",
      "  UserWarning,\n",
      " 75%|███████▌  | 15/20 [01:35<00:32,  6.42s/it]/home/wilson/anaconda3/envs/py37/lib/python3.7/site-packages/graphtools/graphs.py:121: UserWarning: Building a kNNGraph on data of shape (2000, 784) is expensive. Consider setting n_pca.\n",
      "  UserWarning,\n",
      " 80%|████████  | 16/20 [01:41<00:25,  6.42s/it]/home/wilson/anaconda3/envs/py37/lib/python3.7/site-packages/graphtools/graphs.py:121: UserWarning: Building a kNNGraph on data of shape (2000, 784) is expensive. Consider setting n_pca.\n",
      "  UserWarning,\n",
      " 85%|████████▌ | 17/20 [01:47<00:19,  6.41s/it]/home/wilson/anaconda3/envs/py37/lib/python3.7/site-packages/graphtools/graphs.py:121: UserWarning: Building a kNNGraph on data of shape (2000, 784) is expensive. Consider setting n_pca.\n",
      "  UserWarning,\n",
      " 90%|█████████ | 18/20 [01:54<00:12,  6.37s/it]/home/wilson/anaconda3/envs/py37/lib/python3.7/site-packages/graphtools/graphs.py:121: UserWarning: Building a kNNGraph on data of shape (2000, 784) is expensive. Consider setting n_pca.\n",
      "  UserWarning,\n",
      " 95%|█████████▌| 19/20 [02:00<00:06,  6.38s/it]/home/wilson/anaconda3/envs/py37/lib/python3.7/site-packages/graphtools/graphs.py:121: UserWarning: Building a kNNGraph on data of shape (2000, 784) is expensive. Consider setting n_pca.\n",
      "  UserWarning,\n",
      "100%|██████████| 20/20 [02:06<00:00,  6.34s/it]\n",
      "  0%|          | 0/20 [00:00<?, ?it/s]/home/wilson/anaconda3/envs/py37/lib/python3.7/site-packages/graphtools/graphs.py:121: UserWarning: Building a kNNGraph on data of shape (2000, 784) is expensive. Consider setting n_pca.\n",
      "  UserWarning,\n"
     ]
    },
    {
     "name": "stdout",
     "output_type": "stream",
     "text": [
      "Technique: humapKDTREE_NN\n",
      "Level: _level2.csv\n"
     ]
    },
    {
     "name": "stderr",
     "output_type": "stream",
     "text": [
      "  5%|▌         | 1/20 [00:05<01:53,  5.98s/it]/home/wilson/anaconda3/envs/py37/lib/python3.7/site-packages/graphtools/graphs.py:121: UserWarning: Building a kNNGraph on data of shape (2000, 784) is expensive. Consider setting n_pca.\n",
      "  UserWarning,\n",
      " 10%|█         | 2/20 [00:11<01:47,  5.97s/it]/home/wilson/anaconda3/envs/py37/lib/python3.7/site-packages/graphtools/graphs.py:121: UserWarning: Building a kNNGraph on data of shape (2000, 784) is expensive. Consider setting n_pca.\n",
      "  UserWarning,\n",
      " 15%|█▌        | 3/20 [00:17<01:36,  5.70s/it]/home/wilson/anaconda3/envs/py37/lib/python3.7/site-packages/graphtools/graphs.py:121: UserWarning: Building a kNNGraph on data of shape (2000, 784) is expensive. Consider setting n_pca.\n",
      "  UserWarning,\n",
      " 20%|██        | 4/20 [00:22<01:31,  5.72s/it]/home/wilson/anaconda3/envs/py37/lib/python3.7/site-packages/graphtools/graphs.py:121: UserWarning: Building a kNNGraph on data of shape (2000, 784) is expensive. Consider setting n_pca.\n",
      "  UserWarning,\n",
      " 25%|██▌       | 5/20 [00:28<01:26,  5.78s/it]/home/wilson/anaconda3/envs/py37/lib/python3.7/site-packages/graphtools/graphs.py:121: UserWarning: Building a kNNGraph on data of shape (2000, 784) is expensive. Consider setting n_pca.\n",
      "  UserWarning,\n",
      " 30%|███       | 6/20 [00:34<01:21,  5.84s/it]/home/wilson/anaconda3/envs/py37/lib/python3.7/site-packages/graphtools/graphs.py:121: UserWarning: Building a kNNGraph on data of shape (2000, 784) is expensive. Consider setting n_pca.\n",
      "  UserWarning,\n",
      " 35%|███▌      | 7/20 [00:40<01:15,  5.83s/it]/home/wilson/anaconda3/envs/py37/lib/python3.7/site-packages/graphtools/graphs.py:121: UserWarning: Building a kNNGraph on data of shape (2000, 784) is expensive. Consider setting n_pca.\n",
      "  UserWarning,\n",
      " 40%|████      | 8/20 [00:46<01:09,  5.79s/it]/home/wilson/anaconda3/envs/py37/lib/python3.7/site-packages/graphtools/graphs.py:121: UserWarning: Building a kNNGraph on data of shape (2000, 784) is expensive. Consider setting n_pca.\n",
      "  UserWarning,\n",
      " 45%|████▌     | 9/20 [00:51<01:03,  5.80s/it]/home/wilson/anaconda3/envs/py37/lib/python3.7/site-packages/graphtools/graphs.py:121: UserWarning: Building a kNNGraph on data of shape (2000, 784) is expensive. Consider setting n_pca.\n",
      "  UserWarning,\n",
      " 50%|█████     | 10/20 [00:57<00:58,  5.83s/it]/home/wilson/anaconda3/envs/py37/lib/python3.7/site-packages/graphtools/graphs.py:121: UserWarning: Building a kNNGraph on data of shape (2000, 784) is expensive. Consider setting n_pca.\n",
      "  UserWarning,\n",
      " 55%|█████▌    | 11/20 [01:03<00:50,  5.66s/it]/home/wilson/anaconda3/envs/py37/lib/python3.7/site-packages/graphtools/graphs.py:121: UserWarning: Building a kNNGraph on data of shape (2000, 784) is expensive. Consider setting n_pca.\n",
      "  UserWarning,\n",
      " 60%|██████    | 12/20 [01:08<00:45,  5.70s/it]/home/wilson/anaconda3/envs/py37/lib/python3.7/site-packages/graphtools/graphs.py:121: UserWarning: Building a kNNGraph on data of shape (2000, 784) is expensive. Consider setting n_pca.\n",
      "  UserWarning,\n",
      " 65%|██████▌   | 13/20 [01:14<00:40,  5.77s/it]/home/wilson/anaconda3/envs/py37/lib/python3.7/site-packages/graphtools/graphs.py:121: UserWarning: Building a kNNGraph on data of shape (2000, 784) is expensive. Consider setting n_pca.\n",
      "  UserWarning,\n",
      " 70%|███████   | 14/20 [01:20<00:34,  5.78s/it]/home/wilson/anaconda3/envs/py37/lib/python3.7/site-packages/graphtools/graphs.py:121: UserWarning: Building a kNNGraph on data of shape (2000, 784) is expensive. Consider setting n_pca.\n",
      "  UserWarning,\n",
      " 75%|███████▌  | 15/20 [01:25<00:27,  5.57s/it]/home/wilson/anaconda3/envs/py37/lib/python3.7/site-packages/graphtools/graphs.py:121: UserWarning: Building a kNNGraph on data of shape (2000, 784) is expensive. Consider setting n_pca.\n",
      "  UserWarning,\n",
      " 80%|████████  | 16/20 [01:31<00:22,  5.63s/it]/home/wilson/anaconda3/envs/py37/lib/python3.7/site-packages/graphtools/graphs.py:121: UserWarning: Building a kNNGraph on data of shape (2000, 784) is expensive. Consider setting n_pca.\n",
      "  UserWarning,\n",
      " 85%|████████▌ | 17/20 [01:37<00:17,  5.70s/it]/home/wilson/anaconda3/envs/py37/lib/python3.7/site-packages/graphtools/graphs.py:121: UserWarning: Building a kNNGraph on data of shape (2000, 784) is expensive. Consider setting n_pca.\n",
      "  UserWarning,\n",
      " 90%|█████████ | 18/20 [01:43<00:11,  5.77s/it]/home/wilson/anaconda3/envs/py37/lib/python3.7/site-packages/graphtools/graphs.py:121: UserWarning: Building a kNNGraph on data of shape (2000, 784) is expensive. Consider setting n_pca.\n",
      "  UserWarning,\n",
      " 95%|█████████▌| 19/20 [01:49<00:05,  5.76s/it]/home/wilson/anaconda3/envs/py37/lib/python3.7/site-packages/graphtools/graphs.py:121: UserWarning: Building a kNNGraph on data of shape (2000, 784) is expensive. Consider setting n_pca.\n",
      "  UserWarning,\n",
      "100%|██████████| 20/20 [01:54<00:00,  5.74s/it]\n",
      "  0%|          | 0/20 [00:00<?, ?it/s]/home/wilson/anaconda3/envs/py37/lib/python3.7/site-packages/graphtools/graphs.py:121: UserWarning: Building a kNNGraph on data of shape (2000, 784) is expensive. Consider setting n_pca.\n",
      "  UserWarning,\n"
     ]
    },
    {
     "name": "stdout",
     "output_type": "stream",
     "text": [
      "Level: _level0.csv\n"
     ]
    },
    {
     "name": "stderr",
     "output_type": "stream",
     "text": [
      "  5%|▌         | 1/20 [00:06<02:01,  6.40s/it]/home/wilson/anaconda3/envs/py37/lib/python3.7/site-packages/graphtools/graphs.py:121: UserWarning: Building a kNNGraph on data of shape (2000, 784) is expensive. Consider setting n_pca.\n",
      "  UserWarning,\n",
      " 10%|█         | 2/20 [00:12<01:54,  6.37s/it]/home/wilson/anaconda3/envs/py37/lib/python3.7/site-packages/graphtools/graphs.py:121: UserWarning: Building a kNNGraph on data of shape (2000, 784) is expensive. Consider setting n_pca.\n",
      "  UserWarning,\n",
      " 15%|█▌        | 3/20 [00:19<01:48,  6.37s/it]/home/wilson/anaconda3/envs/py37/lib/python3.7/site-packages/graphtools/graphs.py:121: UserWarning: Building a kNNGraph on data of shape (2000, 784) is expensive. Consider setting n_pca.\n",
      "  UserWarning,\n",
      " 20%|██        | 4/20 [00:25<01:41,  6.37s/it]/home/wilson/anaconda3/envs/py37/lib/python3.7/site-packages/graphtools/graphs.py:121: UserWarning: Building a kNNGraph on data of shape (2000, 784) is expensive. Consider setting n_pca.\n",
      "  UserWarning,\n",
      " 25%|██▌       | 5/20 [00:31<01:35,  6.36s/it]/home/wilson/anaconda3/envs/py37/lib/python3.7/site-packages/graphtools/graphs.py:121: UserWarning: Building a kNNGraph on data of shape (2000, 784) is expensive. Consider setting n_pca.\n",
      "  UserWarning,\n",
      " 30%|███       | 6/20 [00:38<01:28,  6.33s/it]/home/wilson/anaconda3/envs/py37/lib/python3.7/site-packages/graphtools/graphs.py:121: UserWarning: Building a kNNGraph on data of shape (2000, 784) is expensive. Consider setting n_pca.\n",
      "  UserWarning,\n",
      " 35%|███▌      | 7/20 [00:44<01:22,  6.33s/it]/home/wilson/anaconda3/envs/py37/lib/python3.7/site-packages/graphtools/graphs.py:121: UserWarning: Building a kNNGraph on data of shape (2000, 784) is expensive. Consider setting n_pca.\n",
      "  UserWarning,\n",
      " 40%|████      | 8/20 [00:50<01:15,  6.31s/it]/home/wilson/anaconda3/envs/py37/lib/python3.7/site-packages/graphtools/graphs.py:121: UserWarning: Building a kNNGraph on data of shape (2000, 784) is expensive. Consider setting n_pca.\n",
      "  UserWarning,\n",
      " 45%|████▌     | 9/20 [00:56<01:09,  6.33s/it]/home/wilson/anaconda3/envs/py37/lib/python3.7/site-packages/graphtools/graphs.py:121: UserWarning: Building a kNNGraph on data of shape (2000, 784) is expensive. Consider setting n_pca.\n",
      "  UserWarning,\n",
      " 50%|█████     | 10/20 [01:03<01:02,  6.29s/it]/home/wilson/anaconda3/envs/py37/lib/python3.7/site-packages/graphtools/graphs.py:121: UserWarning: Building a kNNGraph on data of shape (2000, 784) is expensive. Consider setting n_pca.\n",
      "  UserWarning,\n",
      " 55%|█████▌    | 11/20 [01:09<00:56,  6.27s/it]/home/wilson/anaconda3/envs/py37/lib/python3.7/site-packages/graphtools/graphs.py:121: UserWarning: Building a kNNGraph on data of shape (2000, 784) is expensive. Consider setting n_pca.\n",
      "  UserWarning,\n",
      " 60%|██████    | 12/20 [01:15<00:50,  6.27s/it]/home/wilson/anaconda3/envs/py37/lib/python3.7/site-packages/graphtools/graphs.py:121: UserWarning: Building a kNNGraph on data of shape (2000, 784) is expensive. Consider setting n_pca.\n",
      "  UserWarning,\n",
      " 65%|██████▌   | 13/20 [01:21<00:43,  6.26s/it]/home/wilson/anaconda3/envs/py37/lib/python3.7/site-packages/graphtools/graphs.py:121: UserWarning: Building a kNNGraph on data of shape (2000, 784) is expensive. Consider setting n_pca.\n",
      "  UserWarning,\n",
      " 70%|███████   | 14/20 [01:28<00:37,  6.25s/it]/home/wilson/anaconda3/envs/py37/lib/python3.7/site-packages/graphtools/graphs.py:121: UserWarning: Building a kNNGraph on data of shape (2000, 784) is expensive. Consider setting n_pca.\n",
      "  UserWarning,\n",
      " 75%|███████▌  | 15/20 [01:34<00:31,  6.29s/it]/home/wilson/anaconda3/envs/py37/lib/python3.7/site-packages/graphtools/graphs.py:121: UserWarning: Building a kNNGraph on data of shape (2000, 784) is expensive. Consider setting n_pca.\n",
      "  UserWarning,\n",
      " 80%|████████  | 16/20 [01:40<00:25,  6.27s/it]/home/wilson/anaconda3/envs/py37/lib/python3.7/site-packages/graphtools/graphs.py:121: UserWarning: Building a kNNGraph on data of shape (2000, 784) is expensive. Consider setting n_pca.\n",
      "  UserWarning,\n",
      " 85%|████████▌ | 17/20 [01:47<00:18,  6.29s/it]/home/wilson/anaconda3/envs/py37/lib/python3.7/site-packages/graphtools/graphs.py:121: UserWarning: Building a kNNGraph on data of shape (2000, 784) is expensive. Consider setting n_pca.\n",
      "  UserWarning,\n",
      " 90%|█████████ | 18/20 [01:53<00:12,  6.32s/it]/home/wilson/anaconda3/envs/py37/lib/python3.7/site-packages/graphtools/graphs.py:121: UserWarning: Building a kNNGraph on data of shape (2000, 784) is expensive. Consider setting n_pca.\n",
      "  UserWarning,\n",
      " 95%|█████████▌| 19/20 [01:59<00:06,  6.33s/it]/home/wilson/anaconda3/envs/py37/lib/python3.7/site-packages/graphtools/graphs.py:121: UserWarning: Building a kNNGraph on data of shape (2000, 784) is expensive. Consider setting n_pca.\n",
      "  UserWarning,\n",
      "100%|██████████| 20/20 [02:06<00:00,  6.31s/it]\n",
      "  0%|          | 0/20 [00:00<?, ?it/s]"
     ]
    },
    {
     "name": "stdout",
     "output_type": "stream",
     "text": [
      "DATASET: mnist\n",
      "Technique: hsneCPU\n",
      "Level: _level2.csv\n"
     ]
    },
    {
     "name": "stderr",
     "output_type": "stream",
     "text": [
      "/home/wilson/anaconda3/envs/py37/lib/python3.7/site-packages/graphtools/graphs.py:121: UserWarning: Building a kNNGraph on data of shape (2000, 784) is expensive. Consider setting n_pca.\n",
      "  UserWarning,\n",
      "  5%|▌         | 1/20 [00:06<01:56,  6.14s/it]/home/wilson/anaconda3/envs/py37/lib/python3.7/site-packages/graphtools/graphs.py:121: UserWarning: Building a kNNGraph on data of shape (2000, 784) is expensive. Consider setting n_pca.\n",
      "  UserWarning,\n",
      " 10%|█         | 2/20 [00:12<01:50,  6.14s/it]/home/wilson/anaconda3/envs/py37/lib/python3.7/site-packages/graphtools/graphs.py:121: UserWarning: Building a kNNGraph on data of shape (2000, 784) is expensive. Consider setting n_pca.\n",
      "  UserWarning,\n",
      " 15%|█▌        | 3/20 [00:18<01:45,  6.18s/it]/home/wilson/anaconda3/envs/py37/lib/python3.7/site-packages/graphtools/graphs.py:121: UserWarning: Building a kNNGraph on data of shape (2000, 784) is expensive. Consider setting n_pca.\n",
      "  UserWarning,\n",
      " 20%|██        | 4/20 [00:24<01:38,  6.16s/it]/home/wilson/anaconda3/envs/py37/lib/python3.7/site-packages/graphtools/graphs.py:121: UserWarning: Building a kNNGraph on data of shape (2000, 784) is expensive. Consider setting n_pca.\n",
      "  UserWarning,\n",
      " 25%|██▌       | 5/20 [00:31<01:33,  6.23s/it]/home/wilson/anaconda3/envs/py37/lib/python3.7/site-packages/graphtools/graphs.py:121: UserWarning: Building a kNNGraph on data of shape (2000, 784) is expensive. Consider setting n_pca.\n",
      "  UserWarning,\n",
      " 30%|███       | 6/20 [00:37<01:27,  6.22s/it]/home/wilson/anaconda3/envs/py37/lib/python3.7/site-packages/graphtools/graphs.py:121: UserWarning: Building a kNNGraph on data of shape (2000, 784) is expensive. Consider setting n_pca.\n",
      "  UserWarning,\n",
      " 35%|███▌      | 7/20 [00:43<01:20,  6.17s/it]/home/wilson/anaconda3/envs/py37/lib/python3.7/site-packages/graphtools/graphs.py:121: UserWarning: Building a kNNGraph on data of shape (2000, 784) is expensive. Consider setting n_pca.\n",
      "  UserWarning,\n",
      " 40%|████      | 8/20 [00:49<01:13,  6.17s/it]/home/wilson/anaconda3/envs/py37/lib/python3.7/site-packages/graphtools/graphs.py:121: UserWarning: Building a kNNGraph on data of shape (2000, 784) is expensive. Consider setting n_pca.\n",
      "  UserWarning,\n",
      " 45%|████▌     | 9/20 [00:56<01:11,  6.53s/it]/home/wilson/anaconda3/envs/py37/lib/python3.7/site-packages/graphtools/graphs.py:121: UserWarning: Building a kNNGraph on data of shape (2000, 784) is expensive. Consider setting n_pca.\n",
      "  UserWarning,\n",
      " 50%|█████     | 10/20 [01:02<01:03,  6.40s/it]/home/wilson/anaconda3/envs/py37/lib/python3.7/site-packages/graphtools/graphs.py:121: UserWarning: Building a kNNGraph on data of shape (2000, 784) is expensive. Consider setting n_pca.\n",
      "  UserWarning,\n",
      " 55%|█████▌    | 11/20 [01:09<00:56,  6.33s/it]/home/wilson/anaconda3/envs/py37/lib/python3.7/site-packages/graphtools/graphs.py:121: UserWarning: Building a kNNGraph on data of shape (2000, 784) is expensive. Consider setting n_pca.\n",
      "  UserWarning,\n",
      " 60%|██████    | 12/20 [01:15<00:50,  6.26s/it]/home/wilson/anaconda3/envs/py37/lib/python3.7/site-packages/graphtools/graphs.py:121: UserWarning: Building a kNNGraph on data of shape (2000, 784) is expensive. Consider setting n_pca.\n",
      "  UserWarning,\n",
      " 65%|██████▌   | 13/20 [01:21<00:43,  6.24s/it]/home/wilson/anaconda3/envs/py37/lib/python3.7/site-packages/graphtools/graphs.py:121: UserWarning: Building a kNNGraph on data of shape (2000, 784) is expensive. Consider setting n_pca.\n",
      "  UserWarning,\n",
      " 70%|███████   | 14/20 [01:27<00:37,  6.27s/it]/home/wilson/anaconda3/envs/py37/lib/python3.7/site-packages/graphtools/graphs.py:121: UserWarning: Building a kNNGraph on data of shape (2000, 784) is expensive. Consider setting n_pca.\n",
      "  UserWarning,\n",
      " 75%|███████▌  | 15/20 [01:34<00:31,  6.27s/it]/home/wilson/anaconda3/envs/py37/lib/python3.7/site-packages/graphtools/graphs.py:121: UserWarning: Building a kNNGraph on data of shape (2000, 784) is expensive. Consider setting n_pca.\n",
      "  UserWarning,\n",
      " 80%|████████  | 16/20 [01:40<00:25,  6.29s/it]/home/wilson/anaconda3/envs/py37/lib/python3.7/site-packages/graphtools/graphs.py:121: UserWarning: Building a kNNGraph on data of shape (2000, 784) is expensive. Consider setting n_pca.\n",
      "  UserWarning,\n",
      " 85%|████████▌ | 17/20 [01:46<00:18,  6.28s/it]/home/wilson/anaconda3/envs/py37/lib/python3.7/site-packages/graphtools/graphs.py:121: UserWarning: Building a kNNGraph on data of shape (2000, 784) is expensive. Consider setting n_pca.\n",
      "  UserWarning,\n",
      " 90%|█████████ | 18/20 [01:52<00:12,  6.24s/it]/home/wilson/anaconda3/envs/py37/lib/python3.7/site-packages/graphtools/graphs.py:121: UserWarning: Building a kNNGraph on data of shape (2000, 784) is expensive. Consider setting n_pca.\n",
      "  UserWarning,\n",
      " 95%|█████████▌| 19/20 [01:58<00:06,  6.19s/it]/home/wilson/anaconda3/envs/py37/lib/python3.7/site-packages/graphtools/graphs.py:121: UserWarning: Building a kNNGraph on data of shape (2000, 784) is expensive. Consider setting n_pca.\n",
      "  UserWarning,\n",
      "100%|██████████| 20/20 [02:04<00:00,  6.25s/it]\n",
      "  0%|          | 0/20 [00:00<?, ?it/s]/home/wilson/anaconda3/envs/py37/lib/python3.7/site-packages/graphtools/graphs.py:121: UserWarning: Building a kNNGraph on data of shape (2000, 784) is expensive. Consider setting n_pca.\n",
      "  UserWarning,\n"
     ]
    },
    {
     "name": "stdout",
     "output_type": "stream",
     "text": [
      "Level: _level0.csv\n"
     ]
    },
    {
     "name": "stderr",
     "output_type": "stream",
     "text": [
      "  5%|▌         | 1/20 [00:06<02:04,  6.55s/it]/home/wilson/anaconda3/envs/py37/lib/python3.7/site-packages/graphtools/graphs.py:121: UserWarning: Building a kNNGraph on data of shape (2000, 784) is expensive. Consider setting n_pca.\n",
      "  UserWarning,\n",
      " 10%|█         | 2/20 [00:12<01:57,  6.50s/it]/home/wilson/anaconda3/envs/py37/lib/python3.7/site-packages/graphtools/graphs.py:121: UserWarning: Building a kNNGraph on data of shape (2000, 784) is expensive. Consider setting n_pca.\n",
      "  UserWarning,\n",
      " 15%|█▌        | 3/20 [00:19<01:50,  6.51s/it]/home/wilson/anaconda3/envs/py37/lib/python3.7/site-packages/graphtools/graphs.py:121: UserWarning: Building a kNNGraph on data of shape (2000, 784) is expensive. Consider setting n_pca.\n",
      "  UserWarning,\n",
      " 20%|██        | 4/20 [00:25<01:43,  6.49s/it]/home/wilson/anaconda3/envs/py37/lib/python3.7/site-packages/graphtools/graphs.py:121: UserWarning: Building a kNNGraph on data of shape (2000, 784) is expensive. Consider setting n_pca.\n",
      "  UserWarning,\n",
      " 25%|██▌       | 5/20 [00:32<01:37,  6.50s/it]/home/wilson/anaconda3/envs/py37/lib/python3.7/site-packages/graphtools/graphs.py:121: UserWarning: Building a kNNGraph on data of shape (2000, 784) is expensive. Consider setting n_pca.\n",
      "  UserWarning,\n",
      " 30%|███       | 6/20 [00:38<01:30,  6.47s/it]/home/wilson/anaconda3/envs/py37/lib/python3.7/site-packages/graphtools/graphs.py:121: UserWarning: Building a kNNGraph on data of shape (2000, 784) is expensive. Consider setting n_pca.\n",
      "  UserWarning,\n",
      " 35%|███▌      | 7/20 [00:45<01:24,  6.48s/it]/home/wilson/anaconda3/envs/py37/lib/python3.7/site-packages/graphtools/graphs.py:121: UserWarning: Building a kNNGraph on data of shape (2000, 784) is expensive. Consider setting n_pca.\n",
      "  UserWarning,\n",
      " 40%|████      | 8/20 [00:51<01:17,  6.47s/it]/home/wilson/anaconda3/envs/py37/lib/python3.7/site-packages/graphtools/graphs.py:121: UserWarning: Building a kNNGraph on data of shape (2000, 784) is expensive. Consider setting n_pca.\n",
      "  UserWarning,\n",
      " 45%|████▌     | 9/20 [00:58<01:11,  6.46s/it]/home/wilson/anaconda3/envs/py37/lib/python3.7/site-packages/graphtools/graphs.py:121: UserWarning: Building a kNNGraph on data of shape (2000, 784) is expensive. Consider setting n_pca.\n",
      "  UserWarning,\n",
      " 50%|█████     | 10/20 [01:04<01:04,  6.46s/it]/home/wilson/anaconda3/envs/py37/lib/python3.7/site-packages/graphtools/graphs.py:121: UserWarning: Building a kNNGraph on data of shape (2000, 784) is expensive. Consider setting n_pca.\n",
      "  UserWarning,\n",
      " 55%|█████▌    | 11/20 [01:10<00:57,  6.40s/it]/home/wilson/anaconda3/envs/py37/lib/python3.7/site-packages/graphtools/graphs.py:121: UserWarning: Building a kNNGraph on data of shape (2000, 784) is expensive. Consider setting n_pca.\n",
      "  UserWarning,\n",
      " 60%|██████    | 12/20 [01:16<00:50,  6.30s/it]/home/wilson/anaconda3/envs/py37/lib/python3.7/site-packages/graphtools/graphs.py:121: UserWarning: Building a kNNGraph on data of shape (2000, 784) is expensive. Consider setting n_pca.\n",
      "  UserWarning,\n",
      " 65%|██████▌   | 13/20 [01:23<00:43,  6.28s/it]/home/wilson/anaconda3/envs/py37/lib/python3.7/site-packages/graphtools/graphs.py:121: UserWarning: Building a kNNGraph on data of shape (2000, 784) is expensive. Consider setting n_pca.\n",
      "  UserWarning,\n",
      " 70%|███████   | 14/20 [01:29<00:37,  6.28s/it]/home/wilson/anaconda3/envs/py37/lib/python3.7/site-packages/graphtools/graphs.py:121: UserWarning: Building a kNNGraph on data of shape (2000, 784) is expensive. Consider setting n_pca.\n",
      "  UserWarning,\n",
      " 75%|███████▌  | 15/20 [01:35<00:31,  6.33s/it]/home/wilson/anaconda3/envs/py37/lib/python3.7/site-packages/graphtools/graphs.py:121: UserWarning: Building a kNNGraph on data of shape (2000, 784) is expensive. Consider setting n_pca.\n",
      "  UserWarning,\n",
      " 80%|████████  | 16/20 [01:42<00:25,  6.27s/it]/home/wilson/anaconda3/envs/py37/lib/python3.7/site-packages/graphtools/graphs.py:121: UserWarning: Building a kNNGraph on data of shape (2000, 784) is expensive. Consider setting n_pca.\n",
      "  UserWarning,\n",
      " 85%|████████▌ | 17/20 [01:48<00:18,  6.21s/it]/home/wilson/anaconda3/envs/py37/lib/python3.7/site-packages/graphtools/graphs.py:121: UserWarning: Building a kNNGraph on data of shape (2000, 784) is expensive. Consider setting n_pca.\n",
      "  UserWarning,\n",
      " 90%|█████████ | 18/20 [01:54<00:12,  6.21s/it]/home/wilson/anaconda3/envs/py37/lib/python3.7/site-packages/graphtools/graphs.py:121: UserWarning: Building a kNNGraph on data of shape (2000, 784) is expensive. Consider setting n_pca.\n",
      "  UserWarning,\n",
      " 95%|█████████▌| 19/20 [02:00<00:06,  6.26s/it]/home/wilson/anaconda3/envs/py37/lib/python3.7/site-packages/graphtools/graphs.py:121: UserWarning: Building a kNNGraph on data of shape (2000, 784) is expensive. Consider setting n_pca.\n",
      "  UserWarning,\n",
      "100%|██████████| 20/20 [02:06<00:00,  6.34s/it]\n",
      "  0%|          | 0/20 [00:00<?, ?it/s]/home/wilson/anaconda3/envs/py37/lib/python3.7/site-packages/graphtools/graphs.py:121: UserWarning: Building a kNNGraph on data of shape (2000, 784) is expensive. Consider setting n_pca.\n",
      "  UserWarning,\n"
     ]
    },
    {
     "name": "stdout",
     "output_type": "stream",
     "text": [
      "Technique: hsneGPU\n",
      "Level: _level2.csv\n"
     ]
    },
    {
     "name": "stderr",
     "output_type": "stream",
     "text": [
      "  5%|▌         | 1/20 [00:06<01:54,  6.05s/it]/home/wilson/anaconda3/envs/py37/lib/python3.7/site-packages/graphtools/graphs.py:121: UserWarning: Building a kNNGraph on data of shape (2000, 784) is expensive. Consider setting n_pca.\n",
      "  UserWarning,\n",
      " 10%|█         | 2/20 [00:12<01:48,  6.04s/it]/home/wilson/anaconda3/envs/py37/lib/python3.7/site-packages/graphtools/graphs.py:121: UserWarning: Building a kNNGraph on data of shape (2000, 784) is expensive. Consider setting n_pca.\n",
      "  UserWarning,\n",
      " 15%|█▌        | 3/20 [00:18<01:42,  6.04s/it]/home/wilson/anaconda3/envs/py37/lib/python3.7/site-packages/graphtools/graphs.py:121: UserWarning: Building a kNNGraph on data of shape (2000, 784) is expensive. Consider setting n_pca.\n",
      "  UserWarning,\n",
      " 20%|██        | 4/20 [00:23<01:35,  5.99s/it]/home/wilson/anaconda3/envs/py37/lib/python3.7/site-packages/graphtools/graphs.py:121: UserWarning: Building a kNNGraph on data of shape (2000, 784) is expensive. Consider setting n_pca.\n",
      "  UserWarning,\n",
      " 25%|██▌       | 5/20 [00:29<01:29,  5.98s/it]/home/wilson/anaconda3/envs/py37/lib/python3.7/site-packages/graphtools/graphs.py:121: UserWarning: Building a kNNGraph on data of shape (2000, 784) is expensive. Consider setting n_pca.\n",
      "  UserWarning,\n",
      " 30%|███       | 6/20 [00:35<01:23,  5.99s/it]/home/wilson/anaconda3/envs/py37/lib/python3.7/site-packages/graphtools/graphs.py:121: UserWarning: Building a kNNGraph on data of shape (2000, 784) is expensive. Consider setting n_pca.\n",
      "  UserWarning,\n",
      " 35%|███▌      | 7/20 [00:41<01:17,  5.99s/it]/home/wilson/anaconda3/envs/py37/lib/python3.7/site-packages/graphtools/graphs.py:121: UserWarning: Building a kNNGraph on data of shape (2000, 784) is expensive. Consider setting n_pca.\n",
      "  UserWarning,\n",
      " 40%|████      | 8/20 [00:47<01:12,  6.00s/it]/home/wilson/anaconda3/envs/py37/lib/python3.7/site-packages/graphtools/graphs.py:121: UserWarning: Building a kNNGraph on data of shape (2000, 784) is expensive. Consider setting n_pca.\n",
      "  UserWarning,\n",
      " 45%|████▌     | 9/20 [00:53<01:05,  5.99s/it]/home/wilson/anaconda3/envs/py37/lib/python3.7/site-packages/graphtools/graphs.py:121: UserWarning: Building a kNNGraph on data of shape (2000, 784) is expensive. Consider setting n_pca.\n",
      "  UserWarning,\n",
      " 50%|█████     | 10/20 [01:00<01:00,  6.05s/it]/home/wilson/anaconda3/envs/py37/lib/python3.7/site-packages/graphtools/graphs.py:121: UserWarning: Building a kNNGraph on data of shape (2000, 784) is expensive. Consider setting n_pca.\n",
      "  UserWarning,\n",
      " 55%|█████▌    | 11/20 [01:06<00:54,  6.04s/it]/home/wilson/anaconda3/envs/py37/lib/python3.7/site-packages/graphtools/graphs.py:121: UserWarning: Building a kNNGraph on data of shape (2000, 784) is expensive. Consider setting n_pca.\n",
      "  UserWarning,\n",
      " 60%|██████    | 12/20 [01:12<00:48,  6.10s/it]/home/wilson/anaconda3/envs/py37/lib/python3.7/site-packages/graphtools/graphs.py:121: UserWarning: Building a kNNGraph on data of shape (2000, 784) is expensive. Consider setting n_pca.\n",
      "  UserWarning,\n",
      " 65%|██████▌   | 13/20 [01:18<00:42,  6.12s/it]/home/wilson/anaconda3/envs/py37/lib/python3.7/site-packages/graphtools/graphs.py:121: UserWarning: Building a kNNGraph on data of shape (2000, 784) is expensive. Consider setting n_pca.\n",
      "  UserWarning,\n",
      " 70%|███████   | 14/20 [01:24<00:36,  6.12s/it]/home/wilson/anaconda3/envs/py37/lib/python3.7/site-packages/graphtools/graphs.py:121: UserWarning: Building a kNNGraph on data of shape (2000, 784) is expensive. Consider setting n_pca.\n",
      "  UserWarning,\n",
      " 75%|███████▌  | 15/20 [01:30<00:30,  6.04s/it]/home/wilson/anaconda3/envs/py37/lib/python3.7/site-packages/graphtools/graphs.py:121: UserWarning: Building a kNNGraph on data of shape (2000, 784) is expensive. Consider setting n_pca.\n",
      "  UserWarning,\n",
      " 80%|████████  | 16/20 [01:36<00:23,  5.97s/it]/home/wilson/anaconda3/envs/py37/lib/python3.7/site-packages/graphtools/graphs.py:121: UserWarning: Building a kNNGraph on data of shape (2000, 784) is expensive. Consider setting n_pca.\n",
      "  UserWarning,\n",
      " 85%|████████▌ | 17/20 [01:42<00:17,  5.98s/it]/home/wilson/anaconda3/envs/py37/lib/python3.7/site-packages/graphtools/graphs.py:121: UserWarning: Building a kNNGraph on data of shape (2000, 784) is expensive. Consider setting n_pca.\n",
      "  UserWarning,\n",
      " 90%|█████████ | 18/20 [01:48<00:11,  5.97s/it]/home/wilson/anaconda3/envs/py37/lib/python3.7/site-packages/graphtools/graphs.py:121: UserWarning: Building a kNNGraph on data of shape (2000, 784) is expensive. Consider setting n_pca.\n",
      "  UserWarning,\n",
      " 95%|█████████▌| 19/20 [01:54<00:05,  5.96s/it]/home/wilson/anaconda3/envs/py37/lib/python3.7/site-packages/graphtools/graphs.py:121: UserWarning: Building a kNNGraph on data of shape (2000, 784) is expensive. Consider setting n_pca.\n",
      "  UserWarning,\n",
      "100%|██████████| 20/20 [01:59<00:00,  6.00s/it]\n",
      "  0%|          | 0/20 [00:00<?, ?it/s]/home/wilson/anaconda3/envs/py37/lib/python3.7/site-packages/graphtools/graphs.py:121: UserWarning: Building a kNNGraph on data of shape (2000, 784) is expensive. Consider setting n_pca.\n",
      "  UserWarning,\n"
     ]
    },
    {
     "name": "stdout",
     "output_type": "stream",
     "text": [
      "Level: _level0.csv\n"
     ]
    },
    {
     "name": "stderr",
     "output_type": "stream",
     "text": [
      "  5%|▌         | 1/20 [00:06<01:55,  6.09s/it]/home/wilson/anaconda3/envs/py37/lib/python3.7/site-packages/graphtools/graphs.py:121: UserWarning: Building a kNNGraph on data of shape (2000, 784) is expensive. Consider setting n_pca.\n",
      "  UserWarning,\n",
      " 10%|█         | 2/20 [00:12<01:50,  6.13s/it]/home/wilson/anaconda3/envs/py37/lib/python3.7/site-packages/graphtools/graphs.py:121: UserWarning: Building a kNNGraph on data of shape (2000, 784) is expensive. Consider setting n_pca.\n",
      "  UserWarning,\n",
      " 15%|█▌        | 3/20 [00:18<01:44,  6.14s/it]/home/wilson/anaconda3/envs/py37/lib/python3.7/site-packages/graphtools/graphs.py:121: UserWarning: Building a kNNGraph on data of shape (2000, 784) is expensive. Consider setting n_pca.\n",
      "  UserWarning,\n",
      " 20%|██        | 4/20 [00:24<01:37,  6.10s/it]/home/wilson/anaconda3/envs/py37/lib/python3.7/site-packages/graphtools/graphs.py:121: UserWarning: Building a kNNGraph on data of shape (2000, 784) is expensive. Consider setting n_pca.\n",
      "  UserWarning,\n",
      " 25%|██▌       | 5/20 [00:30<01:32,  6.17s/it]/home/wilson/anaconda3/envs/py37/lib/python3.7/site-packages/graphtools/graphs.py:121: UserWarning: Building a kNNGraph on data of shape (2000, 784) is expensive. Consider setting n_pca.\n",
      "  UserWarning,\n",
      " 30%|███       | 6/20 [00:37<01:26,  6.20s/it]/home/wilson/anaconda3/envs/py37/lib/python3.7/site-packages/graphtools/graphs.py:121: UserWarning: Building a kNNGraph on data of shape (2000, 784) is expensive. Consider setting n_pca.\n",
      "  UserWarning,\n",
      " 35%|███▌      | 7/20 [00:43<01:20,  6.19s/it]/home/wilson/anaconda3/envs/py37/lib/python3.7/site-packages/graphtools/graphs.py:121: UserWarning: Building a kNNGraph on data of shape (2000, 784) is expensive. Consider setting n_pca.\n",
      "  UserWarning,\n",
      " 40%|████      | 8/20 [00:49<01:13,  6.12s/it]/home/wilson/anaconda3/envs/py37/lib/python3.7/site-packages/graphtools/graphs.py:121: UserWarning: Building a kNNGraph on data of shape (2000, 784) is expensive. Consider setting n_pca.\n",
      "  UserWarning,\n",
      " 45%|████▌     | 9/20 [00:55<01:06,  6.09s/it]/home/wilson/anaconda3/envs/py37/lib/python3.7/site-packages/graphtools/graphs.py:121: UserWarning: Building a kNNGraph on data of shape (2000, 784) is expensive. Consider setting n_pca.\n",
      "  UserWarning,\n",
      " 50%|█████     | 10/20 [01:01<01:00,  6.09s/it]/home/wilson/anaconda3/envs/py37/lib/python3.7/site-packages/graphtools/graphs.py:121: UserWarning: Building a kNNGraph on data of shape (2000, 784) is expensive. Consider setting n_pca.\n",
      "  UserWarning,\n",
      " 55%|█████▌    | 11/20 [01:07<00:54,  6.07s/it]/home/wilson/anaconda3/envs/py37/lib/python3.7/site-packages/graphtools/graphs.py:121: UserWarning: Building a kNNGraph on data of shape (2000, 784) is expensive. Consider setting n_pca.\n",
      "  UserWarning,\n",
      " 60%|██████    | 12/20 [01:13<00:48,  6.04s/it]/home/wilson/anaconda3/envs/py37/lib/python3.7/site-packages/graphtools/graphs.py:121: UserWarning: Building a kNNGraph on data of shape (2000, 784) is expensive. Consider setting n_pca.\n",
      "  UserWarning,\n",
      " 65%|██████▌   | 13/20 [01:19<00:42,  6.04s/it]/home/wilson/anaconda3/envs/py37/lib/python3.7/site-packages/graphtools/graphs.py:121: UserWarning: Building a kNNGraph on data of shape (2000, 784) is expensive. Consider setting n_pca.\n",
      "  UserWarning,\n",
      " 70%|███████   | 14/20 [01:25<00:36,  6.09s/it]/home/wilson/anaconda3/envs/py37/lib/python3.7/site-packages/graphtools/graphs.py:121: UserWarning: Building a kNNGraph on data of shape (2000, 784) is expensive. Consider setting n_pca.\n",
      "  UserWarning,\n",
      " 75%|███████▌  | 15/20 [01:31<00:30,  6.06s/it]/home/wilson/anaconda3/envs/py37/lib/python3.7/site-packages/graphtools/graphs.py:121: UserWarning: Building a kNNGraph on data of shape (2000, 784) is expensive. Consider setting n_pca.\n",
      "  UserWarning,\n",
      " 80%|████████  | 16/20 [01:37<00:24,  6.08s/it]/home/wilson/anaconda3/envs/py37/lib/python3.7/site-packages/graphtools/graphs.py:121: UserWarning: Building a kNNGraph on data of shape (2000, 784) is expensive. Consider setting n_pca.\n",
      "  UserWarning,\n",
      " 85%|████████▌ | 17/20 [01:43<00:18,  6.14s/it]/home/wilson/anaconda3/envs/py37/lib/python3.7/site-packages/graphtools/graphs.py:121: UserWarning: Building a kNNGraph on data of shape (2000, 784) is expensive. Consider setting n_pca.\n",
      "  UserWarning,\n",
      " 90%|█████████ | 18/20 [01:49<00:12,  6.11s/it]/home/wilson/anaconda3/envs/py37/lib/python3.7/site-packages/graphtools/graphs.py:121: UserWarning: Building a kNNGraph on data of shape (2000, 784) is expensive. Consider setting n_pca.\n",
      "  UserWarning,\n",
      " 95%|█████████▌| 19/20 [01:56<00:06,  6.20s/it]/home/wilson/anaconda3/envs/py37/lib/python3.7/site-packages/graphtools/graphs.py:121: UserWarning: Building a kNNGraph on data of shape (2000, 784) is expensive. Consider setting n_pca.\n",
      "  UserWarning,\n",
      "100%|██████████| 20/20 [02:02<00:00,  6.14s/it]\n",
      "  0%|          | 0/20 [00:00<?, ?it/s]/home/wilson/anaconda3/envs/py37/lib/python3.7/site-packages/graphtools/graphs.py:121: UserWarning: Building a kNNGraph on data of shape (2000, 784) is expensive. Consider setting n_pca.\n",
      "  UserWarning,\n"
     ]
    },
    {
     "name": "stdout",
     "output_type": "stream",
     "text": [
      "Technique: mphate\n",
      "Technique: humap\n",
      "Level: _level2.csv\n"
     ]
    },
    {
     "name": "stderr",
     "output_type": "stream",
     "text": [
      "  5%|▌         | 1/20 [00:06<01:56,  6.11s/it]/home/wilson/anaconda3/envs/py37/lib/python3.7/site-packages/graphtools/graphs.py:121: UserWarning: Building a kNNGraph on data of shape (2000, 784) is expensive. Consider setting n_pca.\n",
      "  UserWarning,\n",
      " 10%|█         | 2/20 [00:12<01:50,  6.13s/it]/home/wilson/anaconda3/envs/py37/lib/python3.7/site-packages/graphtools/graphs.py:121: UserWarning: Building a kNNGraph on data of shape (2000, 784) is expensive. Consider setting n_pca.\n",
      "  UserWarning,\n",
      " 15%|█▌        | 3/20 [00:18<01:45,  6.18s/it]/home/wilson/anaconda3/envs/py37/lib/python3.7/site-packages/graphtools/graphs.py:121: UserWarning: Building a kNNGraph on data of shape (2000, 784) is expensive. Consider setting n_pca.\n",
      "  UserWarning,\n",
      " 20%|██        | 4/20 [00:24<01:38,  6.19s/it]/home/wilson/anaconda3/envs/py37/lib/python3.7/site-packages/graphtools/graphs.py:121: UserWarning: Building a kNNGraph on data of shape (2000, 784) is expensive. Consider setting n_pca.\n",
      "  UserWarning,\n",
      " 25%|██▌       | 5/20 [00:32<01:38,  6.56s/it]/home/wilson/anaconda3/envs/py37/lib/python3.7/site-packages/graphtools/graphs.py:121: UserWarning: Building a kNNGraph on data of shape (2000, 784) is expensive. Consider setting n_pca.\n",
      "  UserWarning,\n",
      " 30%|███       | 6/20 [00:38<01:29,  6.39s/it]/home/wilson/anaconda3/envs/py37/lib/python3.7/site-packages/graphtools/graphs.py:121: UserWarning: Building a kNNGraph on data of shape (2000, 784) is expensive. Consider setting n_pca.\n",
      "  UserWarning,\n",
      " 35%|███▌      | 7/20 [00:44<01:20,  6.21s/it]/home/wilson/anaconda3/envs/py37/lib/python3.7/site-packages/graphtools/graphs.py:121: UserWarning: Building a kNNGraph on data of shape (2000, 784) is expensive. Consider setting n_pca.\n",
      "  UserWarning,\n",
      " 40%|████      | 8/20 [00:49<01:12,  6.07s/it]/home/wilson/anaconda3/envs/py37/lib/python3.7/site-packages/graphtools/graphs.py:121: UserWarning: Building a kNNGraph on data of shape (2000, 784) is expensive. Consider setting n_pca.\n",
      "  UserWarning,\n",
      " 45%|████▌     | 9/20 [00:55<01:05,  5.97s/it]/home/wilson/anaconda3/envs/py37/lib/python3.7/site-packages/graphtools/graphs.py:121: UserWarning: Building a kNNGraph on data of shape (2000, 784) is expensive. Consider setting n_pca.\n",
      "  UserWarning,\n",
      " 50%|█████     | 10/20 [01:01<00:58,  5.90s/it]/home/wilson/anaconda3/envs/py37/lib/python3.7/site-packages/graphtools/graphs.py:121: UserWarning: Building a kNNGraph on data of shape (2000, 784) is expensive. Consider setting n_pca.\n",
      "  UserWarning,\n",
      " 55%|█████▌    | 11/20 [01:07<00:52,  5.86s/it]/home/wilson/anaconda3/envs/py37/lib/python3.7/site-packages/graphtools/graphs.py:121: UserWarning: Building a kNNGraph on data of shape (2000, 784) is expensive. Consider setting n_pca.\n",
      "  UserWarning,\n",
      " 60%|██████    | 12/20 [01:12<00:46,  5.84s/it]/home/wilson/anaconda3/envs/py37/lib/python3.7/site-packages/graphtools/graphs.py:121: UserWarning: Building a kNNGraph on data of shape (2000, 784) is expensive. Consider setting n_pca.\n",
      "  UserWarning,\n",
      " 65%|██████▌   | 13/20 [01:18<00:40,  5.82s/it]/home/wilson/anaconda3/envs/py37/lib/python3.7/site-packages/graphtools/graphs.py:121: UserWarning: Building a kNNGraph on data of shape (2000, 784) is expensive. Consider setting n_pca.\n",
      "  UserWarning,\n",
      " 70%|███████   | 14/20 [01:24<00:34,  5.80s/it]/home/wilson/anaconda3/envs/py37/lib/python3.7/site-packages/graphtools/graphs.py:121: UserWarning: Building a kNNGraph on data of shape (2000, 784) is expensive. Consider setting n_pca.\n",
      "  UserWarning,\n",
      " 75%|███████▌  | 15/20 [01:30<00:28,  5.79s/it]/home/wilson/anaconda3/envs/py37/lib/python3.7/site-packages/graphtools/graphs.py:121: UserWarning: Building a kNNGraph on data of shape (2000, 784) is expensive. Consider setting n_pca.\n",
      "  UserWarning,\n",
      " 80%|████████  | 16/20 [01:35<00:23,  5.79s/it]/home/wilson/anaconda3/envs/py37/lib/python3.7/site-packages/graphtools/graphs.py:121: UserWarning: Building a kNNGraph on data of shape (2000, 784) is expensive. Consider setting n_pca.\n",
      "  UserWarning,\n",
      " 85%|████████▌ | 17/20 [01:41<00:17,  5.77s/it]/home/wilson/anaconda3/envs/py37/lib/python3.7/site-packages/graphtools/graphs.py:121: UserWarning: Building a kNNGraph on data of shape (2000, 784) is expensive. Consider setting n_pca.\n",
      "  UserWarning,\n",
      " 90%|█████████ | 18/20 [01:47<00:11,  5.77s/it]/home/wilson/anaconda3/envs/py37/lib/python3.7/site-packages/graphtools/graphs.py:121: UserWarning: Building a kNNGraph on data of shape (2000, 784) is expensive. Consider setting n_pca.\n",
      "  UserWarning,\n",
      " 95%|█████████▌| 19/20 [01:53<00:05,  5.79s/it]/home/wilson/anaconda3/envs/py37/lib/python3.7/site-packages/graphtools/graphs.py:121: UserWarning: Building a kNNGraph on data of shape (2000, 784) is expensive. Consider setting n_pca.\n",
      "  UserWarning,\n",
      "100%|██████████| 20/20 [01:59<00:00,  5.96s/it]\n",
      "  0%|          | 0/20 [00:00<?, ?it/s]/home/wilson/anaconda3/envs/py37/lib/python3.7/site-packages/graphtools/graphs.py:121: UserWarning: Building a kNNGraph on data of shape (2000, 784) is expensive. Consider setting n_pca.\n",
      "  UserWarning,\n"
     ]
    },
    {
     "name": "stdout",
     "output_type": "stream",
     "text": [
      "Level: _level0.csv\n"
     ]
    },
    {
     "name": "stderr",
     "output_type": "stream",
     "text": [
      "  5%|▌         | 1/20 [00:05<01:53,  5.99s/it]/home/wilson/anaconda3/envs/py37/lib/python3.7/site-packages/graphtools/graphs.py:121: UserWarning: Building a kNNGraph on data of shape (2000, 784) is expensive. Consider setting n_pca.\n",
      "  UserWarning,\n",
      " 10%|█         | 2/20 [00:11<01:47,  5.98s/it]/home/wilson/anaconda3/envs/py37/lib/python3.7/site-packages/graphtools/graphs.py:121: UserWarning: Building a kNNGraph on data of shape (2000, 784) is expensive. Consider setting n_pca.\n",
      "  UserWarning,\n",
      " 15%|█▌        | 3/20 [00:17<01:41,  5.99s/it]/home/wilson/anaconda3/envs/py37/lib/python3.7/site-packages/graphtools/graphs.py:121: UserWarning: Building a kNNGraph on data of shape (2000, 784) is expensive. Consider setting n_pca.\n",
      "  UserWarning,\n",
      " 20%|██        | 4/20 [00:23<01:35,  5.97s/it]/home/wilson/anaconda3/envs/py37/lib/python3.7/site-packages/graphtools/graphs.py:121: UserWarning: Building a kNNGraph on data of shape (2000, 784) is expensive. Consider setting n_pca.\n",
      "  UserWarning,\n",
      " 25%|██▌       | 5/20 [00:29<01:29,  5.96s/it]/home/wilson/anaconda3/envs/py37/lib/python3.7/site-packages/graphtools/graphs.py:121: UserWarning: Building a kNNGraph on data of shape (2000, 784) is expensive. Consider setting n_pca.\n",
      "  UserWarning,\n",
      " 30%|███       | 6/20 [00:35<01:23,  5.98s/it]/home/wilson/anaconda3/envs/py37/lib/python3.7/site-packages/graphtools/graphs.py:121: UserWarning: Building a kNNGraph on data of shape (2000, 784) is expensive. Consider setting n_pca.\n",
      "  UserWarning,\n",
      " 35%|███▌      | 7/20 [00:41<01:17,  5.97s/it]/home/wilson/anaconda3/envs/py37/lib/python3.7/site-packages/graphtools/graphs.py:121: UserWarning: Building a kNNGraph on data of shape (2000, 784) is expensive. Consider setting n_pca.\n",
      "  UserWarning,\n",
      " 40%|████      | 8/20 [00:47<01:11,  5.97s/it]/home/wilson/anaconda3/envs/py37/lib/python3.7/site-packages/graphtools/graphs.py:121: UserWarning: Building a kNNGraph on data of shape (2000, 784) is expensive. Consider setting n_pca.\n",
      "  UserWarning,\n",
      " 45%|████▌     | 9/20 [00:53<01:05,  5.96s/it]/home/wilson/anaconda3/envs/py37/lib/python3.7/site-packages/graphtools/graphs.py:121: UserWarning: Building a kNNGraph on data of shape (2000, 784) is expensive. Consider setting n_pca.\n",
      "  UserWarning,\n",
      " 50%|█████     | 10/20 [00:59<00:59,  5.94s/it]/home/wilson/anaconda3/envs/py37/lib/python3.7/site-packages/graphtools/graphs.py:121: UserWarning: Building a kNNGraph on data of shape (2000, 784) is expensive. Consider setting n_pca.\n",
      "  UserWarning,\n",
      " 55%|█████▌    | 11/20 [01:05<00:53,  5.96s/it]/home/wilson/anaconda3/envs/py37/lib/python3.7/site-packages/graphtools/graphs.py:121: UserWarning: Building a kNNGraph on data of shape (2000, 784) is expensive. Consider setting n_pca.\n",
      "  UserWarning,\n",
      " 60%|██████    | 12/20 [01:11<00:47,  5.96s/it]/home/wilson/anaconda3/envs/py37/lib/python3.7/site-packages/graphtools/graphs.py:121: UserWarning: Building a kNNGraph on data of shape (2000, 784) is expensive. Consider setting n_pca.\n",
      "  UserWarning,\n",
      " 65%|██████▌   | 13/20 [01:17<00:41,  5.99s/it]/home/wilson/anaconda3/envs/py37/lib/python3.7/site-packages/graphtools/graphs.py:121: UserWarning: Building a kNNGraph on data of shape (2000, 784) is expensive. Consider setting n_pca.\n",
      "  UserWarning,\n",
      " 70%|███████   | 14/20 [01:23<00:36,  6.02s/it]/home/wilson/anaconda3/envs/py37/lib/python3.7/site-packages/graphtools/graphs.py:121: UserWarning: Building a kNNGraph on data of shape (2000, 784) is expensive. Consider setting n_pca.\n",
      "  UserWarning,\n",
      " 75%|███████▌  | 15/20 [01:29<00:30,  6.08s/it]/home/wilson/anaconda3/envs/py37/lib/python3.7/site-packages/graphtools/graphs.py:121: UserWarning: Building a kNNGraph on data of shape (2000, 784) is expensive. Consider setting n_pca.\n",
      "  UserWarning,\n",
      " 80%|████████  | 16/20 [01:35<00:24,  6.06s/it]/home/wilson/anaconda3/envs/py37/lib/python3.7/site-packages/graphtools/graphs.py:121: UserWarning: Building a kNNGraph on data of shape (2000, 784) is expensive. Consider setting n_pca.\n",
      "  UserWarning,\n",
      " 85%|████████▌ | 17/20 [01:41<00:18,  6.03s/it]/home/wilson/anaconda3/envs/py37/lib/python3.7/site-packages/graphtools/graphs.py:121: UserWarning: Building a kNNGraph on data of shape (2000, 784) is expensive. Consider setting n_pca.\n",
      "  UserWarning,\n",
      " 90%|█████████ | 18/20 [01:47<00:12,  6.00s/it]/home/wilson/anaconda3/envs/py37/lib/python3.7/site-packages/graphtools/graphs.py:121: UserWarning: Building a kNNGraph on data of shape (2000, 784) is expensive. Consider setting n_pca.\n",
      "  UserWarning,\n",
      " 95%|█████████▌| 19/20 [01:53<00:06,  6.00s/it]/home/wilson/anaconda3/envs/py37/lib/python3.7/site-packages/graphtools/graphs.py:121: UserWarning: Building a kNNGraph on data of shape (2000, 784) is expensive. Consider setting n_pca.\n",
      "  UserWarning,\n",
      "100%|██████████| 20/20 [02:00<00:00,  6.01s/it]\n",
      "  0%|          | 0/20 [00:00<?, ?it/s]/home/wilson/anaconda3/envs/py37/lib/python3.7/site-packages/graphtools/graphs.py:121: UserWarning: Building a kNNGraph on data of shape (2000, 784) is expensive. Consider setting n_pca.\n",
      "  UserWarning,\n"
     ]
    },
    {
     "name": "stdout",
     "output_type": "stream",
     "text": [
      "Technique: humapFLANN\n",
      "Level: _level2.csv\n"
     ]
    },
    {
     "name": "stderr",
     "output_type": "stream",
     "text": [
      "  5%|▌         | 1/20 [00:05<01:51,  5.86s/it]/home/wilson/anaconda3/envs/py37/lib/python3.7/site-packages/graphtools/graphs.py:121: UserWarning: Building a kNNGraph on data of shape (2000, 784) is expensive. Consider setting n_pca.\n",
      "  UserWarning,\n",
      " 10%|█         | 2/20 [00:11<01:46,  5.93s/it]/home/wilson/anaconda3/envs/py37/lib/python3.7/site-packages/graphtools/graphs.py:121: UserWarning: Building a kNNGraph on data of shape (2000, 784) is expensive. Consider setting n_pca.\n",
      "  UserWarning,\n",
      " 15%|█▌        | 3/20 [00:17<01:41,  5.94s/it]/home/wilson/anaconda3/envs/py37/lib/python3.7/site-packages/graphtools/graphs.py:121: UserWarning: Building a kNNGraph on data of shape (2000, 784) is expensive. Consider setting n_pca.\n",
      "  UserWarning,\n",
      " 20%|██        | 4/20 [00:23<01:34,  5.88s/it]/home/wilson/anaconda3/envs/py37/lib/python3.7/site-packages/graphtools/graphs.py:121: UserWarning: Building a kNNGraph on data of shape (2000, 784) is expensive. Consider setting n_pca.\n",
      "  UserWarning,\n",
      " 25%|██▌       | 5/20 [00:29<01:29,  5.98s/it]/home/wilson/anaconda3/envs/py37/lib/python3.7/site-packages/graphtools/graphs.py:121: UserWarning: Building a kNNGraph on data of shape (2000, 784) is expensive. Consider setting n_pca.\n",
      "  UserWarning,\n",
      " 30%|███       | 6/20 [00:36<01:24,  6.03s/it]/home/wilson/anaconda3/envs/py37/lib/python3.7/site-packages/graphtools/graphs.py:121: UserWarning: Building a kNNGraph on data of shape (2000, 784) is expensive. Consider setting n_pca.\n",
      "  UserWarning,\n",
      " 35%|███▌      | 7/20 [00:42<01:18,  6.05s/it]/home/wilson/anaconda3/envs/py37/lib/python3.7/site-packages/graphtools/graphs.py:121: UserWarning: Building a kNNGraph on data of shape (2000, 784) is expensive. Consider setting n_pca.\n",
      "  UserWarning,\n",
      " 40%|████      | 8/20 [00:48<01:13,  6.10s/it]/home/wilson/anaconda3/envs/py37/lib/python3.7/site-packages/graphtools/graphs.py:121: UserWarning: Building a kNNGraph on data of shape (2000, 784) is expensive. Consider setting n_pca.\n",
      "  UserWarning,\n",
      " 45%|████▌     | 9/20 [00:54<01:07,  6.14s/it]/home/wilson/anaconda3/envs/py37/lib/python3.7/site-packages/graphtools/graphs.py:121: UserWarning: Building a kNNGraph on data of shape (2000, 784) is expensive. Consider setting n_pca.\n",
      "  UserWarning,\n",
      " 50%|█████     | 10/20 [01:00<01:01,  6.11s/it]/home/wilson/anaconda3/envs/py37/lib/python3.7/site-packages/graphtools/graphs.py:121: UserWarning: Building a kNNGraph on data of shape (2000, 784) is expensive. Consider setting n_pca.\n",
      "  UserWarning,\n",
      " 55%|█████▌    | 11/20 [01:06<00:54,  6.10s/it]/home/wilson/anaconda3/envs/py37/lib/python3.7/site-packages/graphtools/graphs.py:121: UserWarning: Building a kNNGraph on data of shape (2000, 784) is expensive. Consider setting n_pca.\n",
      "  UserWarning,\n",
      " 60%|██████    | 12/20 [01:12<00:48,  6.04s/it]/home/wilson/anaconda3/envs/py37/lib/python3.7/site-packages/graphtools/graphs.py:121: UserWarning: Building a kNNGraph on data of shape (2000, 784) is expensive. Consider setting n_pca.\n",
      "  UserWarning,\n",
      " 65%|██████▌   | 13/20 [01:18<00:41,  5.99s/it]/home/wilson/anaconda3/envs/py37/lib/python3.7/site-packages/graphtools/graphs.py:121: UserWarning: Building a kNNGraph on data of shape (2000, 784) is expensive. Consider setting n_pca.\n",
      "  UserWarning,\n",
      " 70%|███████   | 14/20 [01:24<00:35,  5.92s/it]/home/wilson/anaconda3/envs/py37/lib/python3.7/site-packages/graphtools/graphs.py:121: UserWarning: Building a kNNGraph on data of shape (2000, 784) is expensive. Consider setting n_pca.\n",
      "  UserWarning,\n",
      " 75%|███████▌  | 15/20 [01:29<00:29,  5.87s/it]/home/wilson/anaconda3/envs/py37/lib/python3.7/site-packages/graphtools/graphs.py:121: UserWarning: Building a kNNGraph on data of shape (2000, 784) is expensive. Consider setting n_pca.\n",
      "  UserWarning,\n",
      " 80%|████████  | 16/20 [01:35<00:23,  5.84s/it]/home/wilson/anaconda3/envs/py37/lib/python3.7/site-packages/graphtools/graphs.py:121: UserWarning: Building a kNNGraph on data of shape (2000, 784) is expensive. Consider setting n_pca.\n",
      "  UserWarning,\n",
      " 85%|████████▌ | 17/20 [01:41<00:17,  5.87s/it]/home/wilson/anaconda3/envs/py37/lib/python3.7/site-packages/graphtools/graphs.py:121: UserWarning: Building a kNNGraph on data of shape (2000, 784) is expensive. Consider setting n_pca.\n",
      "  UserWarning,\n",
      " 90%|█████████ | 18/20 [01:47<00:11,  5.86s/it]/home/wilson/anaconda3/envs/py37/lib/python3.7/site-packages/graphtools/graphs.py:121: UserWarning: Building a kNNGraph on data of shape (2000, 784) is expensive. Consider setting n_pca.\n",
      "  UserWarning,\n",
      " 95%|█████████▌| 19/20 [01:53<00:05,  5.86s/it]/home/wilson/anaconda3/envs/py37/lib/python3.7/site-packages/graphtools/graphs.py:121: UserWarning: Building a kNNGraph on data of shape (2000, 784) is expensive. Consider setting n_pca.\n",
      "  UserWarning,\n",
      "100%|██████████| 20/20 [01:59<00:00,  5.96s/it]\n",
      "  0%|          | 0/20 [00:00<?, ?it/s]/home/wilson/anaconda3/envs/py37/lib/python3.7/site-packages/graphtools/graphs.py:121: UserWarning: Building a kNNGraph on data of shape (2000, 784) is expensive. Consider setting n_pca.\n",
      "  UserWarning,\n"
     ]
    },
    {
     "name": "stdout",
     "output_type": "stream",
     "text": [
      "Level: _level0.csv\n"
     ]
    },
    {
     "name": "stderr",
     "output_type": "stream",
     "text": [
      "  5%|▌         | 1/20 [00:06<01:57,  6.16s/it]/home/wilson/anaconda3/envs/py37/lib/python3.7/site-packages/graphtools/graphs.py:121: UserWarning: Building a kNNGraph on data of shape (2000, 784) is expensive. Consider setting n_pca.\n",
      "  UserWarning,\n",
      " 10%|█         | 2/20 [00:12<01:51,  6.17s/it]/home/wilson/anaconda3/envs/py37/lib/python3.7/site-packages/graphtools/graphs.py:121: UserWarning: Building a kNNGraph on data of shape (2000, 784) is expensive. Consider setting n_pca.\n",
      "  UserWarning,\n",
      " 15%|█▌        | 3/20 [00:18<01:44,  6.12s/it]/home/wilson/anaconda3/envs/py37/lib/python3.7/site-packages/graphtools/graphs.py:121: UserWarning: Building a kNNGraph on data of shape (2000, 784) is expensive. Consider setting n_pca.\n",
      "  UserWarning,\n",
      " 20%|██        | 4/20 [00:24<01:38,  6.14s/it]/home/wilson/anaconda3/envs/py37/lib/python3.7/site-packages/graphtools/graphs.py:121: UserWarning: Building a kNNGraph on data of shape (2000, 784) is expensive. Consider setting n_pca.\n",
      "  UserWarning,\n",
      " 25%|██▌       | 5/20 [00:30<01:31,  6.11s/it]/home/wilson/anaconda3/envs/py37/lib/python3.7/site-packages/graphtools/graphs.py:121: UserWarning: Building a kNNGraph on data of shape (2000, 784) is expensive. Consider setting n_pca.\n",
      "  UserWarning,\n",
      " 30%|███       | 6/20 [00:36<01:25,  6.13s/it]/home/wilson/anaconda3/envs/py37/lib/python3.7/site-packages/graphtools/graphs.py:121: UserWarning: Building a kNNGraph on data of shape (2000, 784) is expensive. Consider setting n_pca.\n",
      "  UserWarning,\n",
      " 35%|███▌      | 7/20 [00:43<01:20,  6.18s/it]/home/wilson/anaconda3/envs/py37/lib/python3.7/site-packages/graphtools/graphs.py:121: UserWarning: Building a kNNGraph on data of shape (2000, 784) is expensive. Consider setting n_pca.\n",
      "  UserWarning,\n",
      " 40%|████      | 8/20 [00:49<01:15,  6.29s/it]/home/wilson/anaconda3/envs/py37/lib/python3.7/site-packages/graphtools/graphs.py:121: UserWarning: Building a kNNGraph on data of shape (2000, 784) is expensive. Consider setting n_pca.\n",
      "  UserWarning,\n",
      " 45%|████▌     | 9/20 [00:56<01:10,  6.37s/it]/home/wilson/anaconda3/envs/py37/lib/python3.7/site-packages/graphtools/graphs.py:121: UserWarning: Building a kNNGraph on data of shape (2000, 784) is expensive. Consider setting n_pca.\n",
      "  UserWarning,\n",
      " 50%|█████     | 10/20 [01:03<01:05,  6.53s/it]/home/wilson/anaconda3/envs/py37/lib/python3.7/site-packages/graphtools/graphs.py:121: UserWarning: Building a kNNGraph on data of shape (2000, 784) is expensive. Consider setting n_pca.\n",
      "  UserWarning,\n",
      " 55%|█████▌    | 11/20 [01:09<00:59,  6.62s/it]/home/wilson/anaconda3/envs/py37/lib/python3.7/site-packages/graphtools/graphs.py:121: UserWarning: Building a kNNGraph on data of shape (2000, 784) is expensive. Consider setting n_pca.\n",
      "  UserWarning,\n",
      " 60%|██████    | 12/20 [01:16<00:52,  6.61s/it]/home/wilson/anaconda3/envs/py37/lib/python3.7/site-packages/graphtools/graphs.py:121: UserWarning: Building a kNNGraph on data of shape (2000, 784) is expensive. Consider setting n_pca.\n",
      "  UserWarning,\n",
      " 65%|██████▌   | 13/20 [01:22<00:46,  6.58s/it]/home/wilson/anaconda3/envs/py37/lib/python3.7/site-packages/graphtools/graphs.py:121: UserWarning: Building a kNNGraph on data of shape (2000, 784) is expensive. Consider setting n_pca.\n",
      "  UserWarning,\n",
      " 70%|███████   | 14/20 [01:29<00:39,  6.57s/it]/home/wilson/anaconda3/envs/py37/lib/python3.7/site-packages/graphtools/graphs.py:121: UserWarning: Building a kNNGraph on data of shape (2000, 784) is expensive. Consider setting n_pca.\n",
      "  UserWarning,\n",
      " 75%|███████▌  | 15/20 [01:35<00:32,  6.53s/it]/home/wilson/anaconda3/envs/py37/lib/python3.7/site-packages/graphtools/graphs.py:121: UserWarning: Building a kNNGraph on data of shape (2000, 784) is expensive. Consider setting n_pca.\n",
      "  UserWarning,\n",
      " 80%|████████  | 16/20 [01:42<00:26,  6.55s/it]/home/wilson/anaconda3/envs/py37/lib/python3.7/site-packages/graphtools/graphs.py:121: UserWarning: Building a kNNGraph on data of shape (2000, 784) is expensive. Consider setting n_pca.\n",
      "  UserWarning,\n",
      " 85%|████████▌ | 17/20 [01:49<00:19,  6.58s/it]/home/wilson/anaconda3/envs/py37/lib/python3.7/site-packages/graphtools/graphs.py:121: UserWarning: Building a kNNGraph on data of shape (2000, 784) is expensive. Consider setting n_pca.\n",
      "  UserWarning,\n",
      " 90%|█████████ | 18/20 [01:55<00:12,  6.43s/it]/home/wilson/anaconda3/envs/py37/lib/python3.7/site-packages/graphtools/graphs.py:121: UserWarning: Building a kNNGraph on data of shape (2000, 784) is expensive. Consider setting n_pca.\n",
      "  UserWarning,\n",
      " 95%|█████████▌| 19/20 [02:01<00:06,  6.40s/it]/home/wilson/anaconda3/envs/py37/lib/python3.7/site-packages/graphtools/graphs.py:121: UserWarning: Building a kNNGraph on data of shape (2000, 784) is expensive. Consider setting n_pca.\n",
      "  UserWarning,\n",
      "100%|██████████| 20/20 [02:07<00:00,  6.38s/it]\n",
      "  0%|          | 0/20 [00:00<?, ?it/s]/home/wilson/anaconda3/envs/py37/lib/python3.7/site-packages/graphtools/graphs.py:121: UserWarning: Building a kNNGraph on data of shape (2000, 784) is expensive. Consider setting n_pca.\n",
      "  UserWarning,\n"
     ]
    },
    {
     "name": "stdout",
     "output_type": "stream",
     "text": [
      "Technique: humapKDTREE_NN\n",
      "Level: _level2.csv\n"
     ]
    },
    {
     "name": "stderr",
     "output_type": "stream",
     "text": [
      "  5%|▌         | 1/20 [00:05<01:53,  5.95s/it]/home/wilson/anaconda3/envs/py37/lib/python3.7/site-packages/graphtools/graphs.py:121: UserWarning: Building a kNNGraph on data of shape (2000, 784) is expensive. Consider setting n_pca.\n",
      "  UserWarning,\n",
      " 10%|█         | 2/20 [00:11<01:45,  5.89s/it]/home/wilson/anaconda3/envs/py37/lib/python3.7/site-packages/graphtools/graphs.py:121: UserWarning: Building a kNNGraph on data of shape (2000, 784) is expensive. Consider setting n_pca.\n",
      "  UserWarning,\n",
      " 15%|█▌        | 3/20 [00:17<01:40,  5.92s/it]/home/wilson/anaconda3/envs/py37/lib/python3.7/site-packages/graphtools/graphs.py:121: UserWarning: Building a kNNGraph on data of shape (2000, 784) is expensive. Consider setting n_pca.\n",
      "  UserWarning,\n",
      " 20%|██        | 4/20 [00:23<01:34,  5.92s/it]/home/wilson/anaconda3/envs/py37/lib/python3.7/site-packages/graphtools/graphs.py:121: UserWarning: Building a kNNGraph on data of shape (2000, 784) is expensive. Consider setting n_pca.\n",
      "  UserWarning,\n",
      " 25%|██▌       | 5/20 [00:29<01:29,  5.98s/it]/home/wilson/anaconda3/envs/py37/lib/python3.7/site-packages/graphtools/graphs.py:121: UserWarning: Building a kNNGraph on data of shape (2000, 784) is expensive. Consider setting n_pca.\n",
      "  UserWarning,\n",
      " 30%|███       | 6/20 [00:35<01:24,  6.01s/it]/home/wilson/anaconda3/envs/py37/lib/python3.7/site-packages/graphtools/graphs.py:121: UserWarning: Building a kNNGraph on data of shape (2000, 784) is expensive. Consider setting n_pca.\n",
      "  UserWarning,\n",
      " 35%|███▌      | 7/20 [00:42<01:18,  6.07s/it]/home/wilson/anaconda3/envs/py37/lib/python3.7/site-packages/graphtools/graphs.py:121: UserWarning: Building a kNNGraph on data of shape (2000, 784) is expensive. Consider setting n_pca.\n",
      "  UserWarning,\n",
      " 40%|████      | 8/20 [00:48<01:13,  6.14s/it]/home/wilson/anaconda3/envs/py37/lib/python3.7/site-packages/graphtools/graphs.py:121: UserWarning: Building a kNNGraph on data of shape (2000, 784) is expensive. Consider setting n_pca.\n",
      "  UserWarning,\n",
      " 45%|████▌     | 9/20 [00:55<01:11,  6.51s/it]/home/wilson/anaconda3/envs/py37/lib/python3.7/site-packages/graphtools/graphs.py:121: UserWarning: Building a kNNGraph on data of shape (2000, 784) is expensive. Consider setting n_pca.\n",
      "  UserWarning,\n",
      " 50%|█████     | 10/20 [01:02<01:06,  6.64s/it]/home/wilson/anaconda3/envs/py37/lib/python3.7/site-packages/graphtools/graphs.py:121: UserWarning: Building a kNNGraph on data of shape (2000, 784) is expensive. Consider setting n_pca.\n",
      "  UserWarning,\n",
      " 55%|█████▌    | 11/20 [01:08<00:57,  6.42s/it]/home/wilson/anaconda3/envs/py37/lib/python3.7/site-packages/graphtools/graphs.py:121: UserWarning: Building a kNNGraph on data of shape (2000, 784) is expensive. Consider setting n_pca.\n",
      "  UserWarning,\n",
      " 60%|██████    | 12/20 [01:14<00:50,  6.27s/it]/home/wilson/anaconda3/envs/py37/lib/python3.7/site-packages/graphtools/graphs.py:121: UserWarning: Building a kNNGraph on data of shape (2000, 784) is expensive. Consider setting n_pca.\n",
      "  UserWarning,\n",
      " 65%|██████▌   | 13/20 [01:20<00:43,  6.18s/it]/home/wilson/anaconda3/envs/py37/lib/python3.7/site-packages/graphtools/graphs.py:121: UserWarning: Building a kNNGraph on data of shape (2000, 784) is expensive. Consider setting n_pca.\n",
      "  UserWarning,\n",
      " 70%|███████   | 14/20 [01:26<00:36,  6.16s/it]/home/wilson/anaconda3/envs/py37/lib/python3.7/site-packages/graphtools/graphs.py:121: UserWarning: Building a kNNGraph on data of shape (2000, 784) is expensive. Consider setting n_pca.\n",
      "  UserWarning,\n",
      " 75%|███████▌  | 15/20 [01:32<00:30,  6.11s/it]/home/wilson/anaconda3/envs/py37/lib/python3.7/site-packages/graphtools/graphs.py:121: UserWarning: Building a kNNGraph on data of shape (2000, 784) is expensive. Consider setting n_pca.\n",
      "  UserWarning,\n",
      " 80%|████████  | 16/20 [01:38<00:24,  6.06s/it]/home/wilson/anaconda3/envs/py37/lib/python3.7/site-packages/graphtools/graphs.py:121: UserWarning: Building a kNNGraph on data of shape (2000, 784) is expensive. Consider setting n_pca.\n",
      "  UserWarning,\n",
      " 85%|████████▌ | 17/20 [01:44<00:18,  6.03s/it]/home/wilson/anaconda3/envs/py37/lib/python3.7/site-packages/graphtools/graphs.py:121: UserWarning: Building a kNNGraph on data of shape (2000, 784) is expensive. Consider setting n_pca.\n",
      "  UserWarning,\n",
      " 90%|█████████ | 18/20 [01:50<00:11,  5.95s/it]/home/wilson/anaconda3/envs/py37/lib/python3.7/site-packages/graphtools/graphs.py:121: UserWarning: Building a kNNGraph on data of shape (2000, 784) is expensive. Consider setting n_pca.\n",
      "  UserWarning,\n",
      " 95%|█████████▌| 19/20 [01:55<00:05,  5.90s/it]/home/wilson/anaconda3/envs/py37/lib/python3.7/site-packages/graphtools/graphs.py:121: UserWarning: Building a kNNGraph on data of shape (2000, 784) is expensive. Consider setting n_pca.\n",
      "  UserWarning,\n",
      "100%|██████████| 20/20 [02:01<00:00,  6.09s/it]\n",
      "  0%|          | 0/20 [00:00<?, ?it/s]/home/wilson/anaconda3/envs/py37/lib/python3.7/site-packages/graphtools/graphs.py:121: UserWarning: Building a kNNGraph on data of shape (2000, 784) is expensive. Consider setting n_pca.\n",
      "  UserWarning,\n"
     ]
    },
    {
     "name": "stdout",
     "output_type": "stream",
     "text": [
      "Level: _level0.csv\n"
     ]
    },
    {
     "name": "stderr",
     "output_type": "stream",
     "text": [
      "  5%|▌         | 1/20 [00:05<01:53,  5.98s/it]/home/wilson/anaconda3/envs/py37/lib/python3.7/site-packages/graphtools/graphs.py:121: UserWarning: Building a kNNGraph on data of shape (2000, 784) is expensive. Consider setting n_pca.\n",
      "  UserWarning,\n",
      " 10%|█         | 2/20 [00:11<01:47,  5.99s/it]/home/wilson/anaconda3/envs/py37/lib/python3.7/site-packages/graphtools/graphs.py:121: UserWarning: Building a kNNGraph on data of shape (2000, 784) is expensive. Consider setting n_pca.\n",
      "  UserWarning,\n",
      " 15%|█▌        | 3/20 [00:17<01:41,  5.99s/it]/home/wilson/anaconda3/envs/py37/lib/python3.7/site-packages/graphtools/graphs.py:121: UserWarning: Building a kNNGraph on data of shape (2000, 784) is expensive. Consider setting n_pca.\n",
      "  UserWarning,\n",
      " 20%|██        | 4/20 [00:24<01:36,  6.03s/it]/home/wilson/anaconda3/envs/py37/lib/python3.7/site-packages/graphtools/graphs.py:121: UserWarning: Building a kNNGraph on data of shape (2000, 784) is expensive. Consider setting n_pca.\n",
      "  UserWarning,\n",
      " 25%|██▌       | 5/20 [00:30<01:30,  6.00s/it]/home/wilson/anaconda3/envs/py37/lib/python3.7/site-packages/graphtools/graphs.py:121: UserWarning: Building a kNNGraph on data of shape (2000, 784) is expensive. Consider setting n_pca.\n",
      "  UserWarning,\n",
      " 30%|███       | 6/20 [00:35<01:23,  5.99s/it]/home/wilson/anaconda3/envs/py37/lib/python3.7/site-packages/graphtools/graphs.py:121: UserWarning: Building a kNNGraph on data of shape (2000, 784) is expensive. Consider setting n_pca.\n",
      "  UserWarning,\n",
      " 35%|███▌      | 7/20 [00:41<01:17,  5.99s/it]/home/wilson/anaconda3/envs/py37/lib/python3.7/site-packages/graphtools/graphs.py:121: UserWarning: Building a kNNGraph on data of shape (2000, 784) is expensive. Consider setting n_pca.\n",
      "  UserWarning,\n",
      " 40%|████      | 8/20 [00:48<01:12,  6.03s/it]/home/wilson/anaconda3/envs/py37/lib/python3.7/site-packages/graphtools/graphs.py:121: UserWarning: Building a kNNGraph on data of shape (2000, 784) is expensive. Consider setting n_pca.\n",
      "  UserWarning,\n",
      " 45%|████▌     | 9/20 [00:54<01:06,  6.06s/it]/home/wilson/anaconda3/envs/py37/lib/python3.7/site-packages/graphtools/graphs.py:121: UserWarning: Building a kNNGraph on data of shape (2000, 784) is expensive. Consider setting n_pca.\n",
      "  UserWarning,\n",
      " 50%|█████     | 10/20 [01:00<01:00,  6.03s/it]/home/wilson/anaconda3/envs/py37/lib/python3.7/site-packages/graphtools/graphs.py:121: UserWarning: Building a kNNGraph on data of shape (2000, 784) is expensive. Consider setting n_pca.\n",
      "  UserWarning,\n",
      " 55%|█████▌    | 11/20 [01:06<00:54,  6.02s/it]/home/wilson/anaconda3/envs/py37/lib/python3.7/site-packages/graphtools/graphs.py:121: UserWarning: Building a kNNGraph on data of shape (2000, 784) is expensive. Consider setting n_pca.\n",
      "  UserWarning,\n",
      " 60%|██████    | 12/20 [01:12<00:48,  6.00s/it]/home/wilson/anaconda3/envs/py37/lib/python3.7/site-packages/graphtools/graphs.py:121: UserWarning: Building a kNNGraph on data of shape (2000, 784) is expensive. Consider setting n_pca.\n",
      "  UserWarning,\n",
      " 65%|██████▌   | 13/20 [01:18<00:41,  6.00s/it]/home/wilson/anaconda3/envs/py37/lib/python3.7/site-packages/graphtools/graphs.py:121: UserWarning: Building a kNNGraph on data of shape (2000, 784) is expensive. Consider setting n_pca.\n",
      "  UserWarning,\n",
      " 70%|███████   | 14/20 [01:24<00:36,  6.03s/it]/home/wilson/anaconda3/envs/py37/lib/python3.7/site-packages/graphtools/graphs.py:121: UserWarning: Building a kNNGraph on data of shape (2000, 784) is expensive. Consider setting n_pca.\n",
      "  UserWarning,\n",
      " 75%|███████▌  | 15/20 [01:30<00:30,  6.06s/it]/home/wilson/anaconda3/envs/py37/lib/python3.7/site-packages/graphtools/graphs.py:121: UserWarning: Building a kNNGraph on data of shape (2000, 784) is expensive. Consider setting n_pca.\n",
      "  UserWarning,\n",
      " 80%|████████  | 16/20 [01:36<00:24,  6.03s/it]/home/wilson/anaconda3/envs/py37/lib/python3.7/site-packages/graphtools/graphs.py:121: UserWarning: Building a kNNGraph on data of shape (2000, 784) is expensive. Consider setting n_pca.\n",
      "  UserWarning,\n",
      " 85%|████████▌ | 17/20 [01:42<00:18,  6.06s/it]/home/wilson/anaconda3/envs/py37/lib/python3.7/site-packages/graphtools/graphs.py:121: UserWarning: Building a kNNGraph on data of shape (2000, 784) is expensive. Consider setting n_pca.\n",
      "  UserWarning,\n",
      " 90%|█████████ | 18/20 [01:48<00:12,  6.04s/it]/home/wilson/anaconda3/envs/py37/lib/python3.7/site-packages/graphtools/graphs.py:121: UserWarning: Building a kNNGraph on data of shape (2000, 784) is expensive. Consider setting n_pca.\n",
      "  UserWarning,\n",
      " 95%|█████████▌| 19/20 [01:54<00:06,  6.02s/it]/home/wilson/anaconda3/envs/py37/lib/python3.7/site-packages/graphtools/graphs.py:121: UserWarning: Building a kNNGraph on data of shape (2000, 784) is expensive. Consider setting n_pca.\n",
      "  UserWarning,\n",
      "100%|██████████| 20/20 [02:00<00:00,  6.02s/it]"
     ]
    },
    {
     "name": "stdout",
     "output_type": "stream",
     "text": [
      "880 880 880\n",
      "880 880 880\n",
      "26400 26400 26400 26400\n"
     ]
    },
    {
     "name": "stderr",
     "output_type": "stream",
     "text": [
      "\n"
     ]
    }
   ],
   "source": [
    "df_correlation, df_demap, df_np = compute_metrics(datasets)"
   ]
  },
  {
   "cell_type": "code",
   "execution_count": 39,
   "metadata": {},
   "outputs": [],
   "source": [
    "df_correlation.to_csv('./correlation_values.csv', index=False)\n",
    "df_demap.to_csv('./demap_values.csv', index=False)\n",
    "df_np.to_csv('./n0p_values.csv', index=False)"
   ]
  },
  {
   "cell_type": "code",
   "execution_count": null,
   "metadata": {},
   "outputs": [],
   "source": []
  }
 ],
 "metadata": {
  "kernelspec": {
   "display_name": "py37",
   "language": "python",
   "name": "py37"
  },
  "language_info": {
   "codemirror_mode": {
    "name": "ipython",
    "version": 3
   },
   "file_extension": ".py",
   "mimetype": "text/x-python",
   "name": "python",
   "nbconvert_exporter": "python",
   "pygments_lexer": "ipython3",
   "version": "3.7.9"
  }
 },
 "nbformat": 4,
 "nbformat_minor": 4
}
