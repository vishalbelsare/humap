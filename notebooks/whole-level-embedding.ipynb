{
 "cells": [
  {
   "cell_type": "code",
   "execution_count": 1,
   "metadata": {},
   "outputs": [],
   "source": [
    "import umap\n",
    "import numpy as np\n",
    "import pandas as pd\n",
    "\n",
    "import jscatter \n",
    "\n",
    "import matplotlib.pyplot as plt\n",
    "\n",
    "import humap\n",
    "from datasets import load_dataset\n",
    "\n",
    "import time\n",
    "\n"
   ]
  },
  {
   "cell_type": "code",
   "execution_count": 2,
   "metadata": {},
   "outputs": [],
   "source": [
    "# N = 200000 #600_000\n",
    "\n",
    "# indices = np.random.choice(744469, N, replace=False).tolist()\n",
    "# print(\"loading dataset\")\n",
    "# sentence_embeddings = np.load(\"gpt4all-j-prompts.npy\")[indices]\n",
    "# print(sentence_embeddings.shape)"
   ]
  },
  {
   "cell_type": "code",
   "execution_count": 3,
   "metadata": {},
   "outputs": [],
   "source": [
    "# groovy = load_dataset('nomic-ai/gpt4all-j-prompt-generations', revision='v1.3-groovy')\n",
    "\n",
    "# docs = groovy['train']['prompt']\n",
    "\n",
    "# documents = []\n",
    "# for i in range(len(indices)):\n",
    "#     documents.append(docs[indices[i]])\n",
    "# del docs\n",
    "\n"
   ]
  },
  {
   "cell_type": "code",
   "execution_count": 19,
   "metadata": {},
   "outputs": [
    {
     "name": "stderr",
     "output_type": "stream",
     "text": [
      "/var/folders/0q/nn_4qj3j3zv2g4nt8jnxdhgw0000gn/T/ipykernel_83767/1843453994.py:3: DtypeWarning: Columns (3,4) have mixed types. Specify dtype option on import or set low_memory=False.\n",
      "  dataset = pd.read_csv('./../datasets/augmented_reviews.csv')\n"
     ]
    },
    {
     "data": {
      "text/plain": [
       "(5144462, 384)"
      ]
     },
     "execution_count": 19,
     "metadata": {},
     "output_type": "execute_result"
    }
   ],
   "source": [
    "# datasets consisting of prompts\n",
    "# dataset = pd.read_csv('./../datasets/gpt4all-prompts.csv')\n",
    "dataset = pd.read_csv('./../datasets/augmented_reviews.csv')\n",
    "documents = dataset['review']\n",
    "\n",
    "# sentence_embeddings = np.load(\"./../datasets/gpt4all-prompts.npy\")\n",
    "sentence_embeddings = np.load('./../datasets/reviews_embeddings.npy')\n",
    "\n",
    "# N = sentence_embeddings.shape[0]\n",
    "sentence_embeddings.shape"
   ]
  },
  {
   "cell_type": "code",
   "execution_count": 20,
   "metadata": {},
   "outputs": [
    {
     "data": {
      "text/html": [
       "<div>\n",
       "<style scoped>\n",
       "    .dataframe tbody tr th:only-of-type {\n",
       "        vertical-align: middle;\n",
       "    }\n",
       "\n",
       "    .dataframe tbody tr th {\n",
       "        vertical-align: top;\n",
       "    }\n",
       "\n",
       "    .dataframe thead th {\n",
       "        text-align: right;\n",
       "    }\n",
       "</style>\n",
       "<table border=\"1\" class=\"dataframe\">\n",
       "  <thead>\n",
       "    <tr style=\"text-align: right;\">\n",
       "      <th></th>\n",
       "      <th>review</th>\n",
       "      <th>id</th>\n",
       "      <th>file</th>\n",
       "      <th>disability</th>\n",
       "      <th>app_name</th>\n",
       "      <th>reviewed</th>\n",
       "    </tr>\n",
       "  </thead>\n",
       "  <tbody>\n",
       "    <tr>\n",
       "      <th>0</th>\n",
       "      <td>Add bhoot hai yar</td>\n",
       "      <td>14862626</td>\n",
       "      <td>./reviews-part01/com.google.android.youtube/co...</td>\n",
       "      <td>NaN</td>\n",
       "      <td>NaN</td>\n",
       "      <td>0</td>\n",
       "    </tr>\n",
       "    <tr>\n",
       "      <th>1</th>\n",
       "      <td>Best app hai good updates for YouTube</td>\n",
       "      <td>14862698</td>\n",
       "      <td>./reviews-part01/com.google.android.youtube/co...</td>\n",
       "      <td>NaN</td>\n",
       "      <td>NaN</td>\n",
       "      <td>0</td>\n",
       "    </tr>\n",
       "    <tr>\n",
       "      <th>2</th>\n",
       "      <td>Well it's all you could need in this app but[c...</td>\n",
       "      <td>14862708</td>\n",
       "      <td>./reviews-part01/com.google.android.youtube/co...</td>\n",
       "      <td>NaN</td>\n",
       "      <td>NaN</td>\n",
       "      <td>0</td>\n",
       "    </tr>\n",
       "    <tr>\n",
       "      <th>3</th>\n",
       "      <td>Latest update is an absolute disaster. Every t...</td>\n",
       "      <td>14862753</td>\n",
       "      <td>./reviews-part01/com.google.android.youtube/co...</td>\n",
       "      <td>NaN</td>\n",
       "      <td>NaN</td>\n",
       "      <td>0</td>\n",
       "    </tr>\n",
       "    <tr>\n",
       "      <th>4</th>\n",
       "      <td>*PLEASE ADD DARK MODE ON ANDROID MY EYES BURN*</td>\n",
       "      <td>14862793</td>\n",
       "      <td>./reviews-part01/com.google.android.youtube/co...</td>\n",
       "      <td>NaN</td>\n",
       "      <td>NaN</td>\n",
       "      <td>0</td>\n",
       "    </tr>\n",
       "  </tbody>\n",
       "</table>\n",
       "</div>"
      ],
      "text/plain": [
       "                                              review        id  \\\n",
       "0                                  Add bhoot hai yar  14862626   \n",
       "1              Best app hai good updates for YouTube  14862698   \n",
       "2  Well it's all you could need in this app but[c...  14862708   \n",
       "3  Latest update is an absolute disaster. Every t...  14862753   \n",
       "4     *PLEASE ADD DARK MODE ON ANDROID MY EYES BURN*  14862793   \n",
       "\n",
       "                                                file disability app_name  \\\n",
       "0  ./reviews-part01/com.google.android.youtube/co...        NaN      NaN   \n",
       "1  ./reviews-part01/com.google.android.youtube/co...        NaN      NaN   \n",
       "2  ./reviews-part01/com.google.android.youtube/co...        NaN      NaN   \n",
       "3  ./reviews-part01/com.google.android.youtube/co...        NaN      NaN   \n",
       "4  ./reviews-part01/com.google.android.youtube/co...        NaN      NaN   \n",
       "\n",
       "   reviewed  \n",
       "0         0  \n",
       "1         0  \n",
       "2         0  \n",
       "3         0  \n",
       "4         0  "
      ]
     },
     "execution_count": 20,
     "metadata": {},
     "output_type": "execute_result"
    }
   ],
   "source": [
    "dataset.head()"
   ]
  },
  {
   "cell_type": "code",
   "execution_count": 22,
   "metadata": {},
   "outputs": [
    {
     "name": "stdout",
     "output_type": "stream",
     "text": [
      "size: 51444\n",
      "(1403644, 1)\n",
      "indices before: 51444\n",
      "indices after: 56443\n",
      "passou\n",
      "passou\n",
      "passou\n"
     ]
    }
   ],
   "source": [
    "N = int(sentence_embeddings.shape[0]*0.01)\n",
    "\n",
    "indices_pivot = np.random.choice(indices_df['indices'].shape[0], N, replace=False).tolist()\n",
    "print(\"size:\", N)\n",
    "indices_df = pd.read_csv('filtered_indices.csv')\n",
    "print(indices_df.shape)\n",
    "indices = indices_df.loc[indices_pivot]['indices'].values.tolist()\n",
    "print('indices before:', len(indices))\n",
    "indices += dataset[dataset['reviewed'] == 1].index.values.tolist()\n",
    "print('indices after:', len(indices))\n",
    "\n",
    "print(\"passou\")\n",
    "documents = documents.values[indices]\n",
    "print(\"passou\")\n",
    "sentence_embeddings = sentence_embeddings[indices]\n",
    "print(\"passou\")\n",
    "reviewed = dataset['reviewed'].values[indices]"
   ]
  },
  {
   "cell_type": "code",
   "execution_count": 23,
   "metadata": {},
   "outputs": [
    {
     "data": {
      "text/plain": [
       "(56443, 384)"
      ]
     },
     "execution_count": 23,
     "metadata": {},
     "output_type": "execute_result"
    }
   ],
   "source": [
    "sentence_embeddings.shape"
   ]
  },
  {
   "cell_type": "code",
   "execution_count": 7,
   "metadata": {},
   "outputs": [
    {
     "data": {
      "text/plain": [
       "(1408643, 204)"
      ]
     },
     "execution_count": 7,
     "metadata": {},
     "output_type": "execute_result"
    }
   ],
   "source": [
    "from sklearn.decomposition import PCA\n",
    "\n",
    "sentence_embeddings = PCA(random_state=0, n_components=.9).fit_transform(sentence_embeddings)\n",
    "sentence_embeddings.shape"
   ]
  },
  {
   "cell_type": "code",
   "execution_count": 39,
   "metadata": {},
   "outputs": [],
   "source": [
    "from sklearn.preprocessing import normalize"
   ]
  },
  {
   "cell_type": "code",
   "execution_count": 47,
   "metadata": {
    "scrolled": false
   },
   "outputs": [
    {
     "name": "stdout",
     "output_type": "stream",
     "text": [
      "creating humap object\n",
      "fitting hierarchy\n",
      "Level 0 with 56443 data samples.\n",
      "Fitting the first hierarchy level... \n",
      "\n",
      "L0 - Fitting: done in 27.950653 seconds.\n",
      "\n",
      "Level 1: 11288 data samples.\n",
      "Computing random walks for sampling selection... \n",
      "\n",
      "\n",
      "L1 - Selecting Landmarks: done in 0.145416 seconds.\n",
      "\n",
      "Computing random walks for constucting representation neighborhood... \n",
      "\n",
      "\n",
      "L1 - Constructing Neighborhood: done in 4.391245 seconds.\n",
      "\n",
      "Computing similarity among landmarks... \n",
      "\n",
      "Similarity between landmarks: 0.265200 seconds.\n",
      "\n",
      "Computing sparse similarity... \n",
      "\n",
      "Creating sparse matrix... \n",
      "\n",
      "\n",
      "L1 - Sparse Similarity: done in 0.180860 seconds.\n",
      "\n",
      "Fitting the hierarchy level... \n",
      "\n",
      "\n",
      "L1 - Fitting: done in 0.189053 seconds.\n",
      "\n",
      "Associating data points to landmarks... \n",
      "\n",
      "\n",
      "L1 - Performing association to landmarks: done in 0.013863 seconds.\n",
      "\n",
      "\n",
      "L1 - Construction: done in 5.344991\n",
      "\n",
      "\n",
      "Level 2: 2257 data samples.\n",
      "Computing random walks for sampling selection... \n",
      "\n",
      "\n",
      "L2 - Selecting Landmarks: done in 0.028798 seconds.\n",
      "\n",
      "Computing random walks for constucting representation neighborhood... \n",
      "\n",
      "\n",
      "L2 - Constructing Neighborhood: done in 0.632829 seconds.\n",
      "\n",
      "Computing similarity among landmarks... \n",
      "\n",
      "Similarity between landmarks: 0.038412 seconds.\n",
      "\n",
      "Computing sparse similarity... \n",
      "\n",
      "Creating sparse matrix... \n",
      "\n",
      "\n",
      "L2 - Sparse Similarity: done in 0.024028 seconds.\n",
      "\n",
      "Fitting the hierarchy level... \n",
      "\n",
      "\n",
      "L2 - Fitting: done in 0.037266 seconds.\n",
      "\n",
      "Associating data points to landmarks... \n",
      "\n",
      "\n",
      "L2 - Performing association to landmarks: done in 0.002750 seconds.\n",
      "\n",
      "\n",
      "L2 - Construction: done in 0.884495\n",
      "\n",
      "\n",
      "Hierarchical Representation: done in 34.384881 seconds.\n",
      "\n",
      "\n"
     ]
    }
   ],
   "source": [
    "print(\"creating humap object\")\n",
    "hUmap = humap.HUMAP(np.array([0.2, 0.2]), init=\"Random\")\n",
    "\n",
    "print(\"fitting hierarchy\")\n",
    "tic = time.time()\n",
    "y = np.zeros(sentence_embeddings.shape[0])\n",
    "hUmap.fit(sentence_embeddings, dataset['reviewed'].values)\n",
    "toc = time.time()\n",
    "\n"
   ]
  },
  {
   "cell_type": "code",
   "execution_count": 48,
   "metadata": {},
   "outputs": [
    {
     "name": "stdout",
     "output_type": "stream",
     "text": [
      "Initiating low-dimensional representation...\n",
      "\n",
      "done in 0.002223 seconds.\n",
      "\n",
      "Embedding level 2 with 2257 data samples.\n",
      "\n",
      "\n",
      "\tcompleted 0/500 epochs\n",
      "\n",
      "\tcompleted 50/500 epochs\n",
      "\n",
      "\tcompleted 100/500 epochs\n",
      "\n",
      "\tcompleted 150/500 epochs\n",
      "\n",
      "\tcompleted 200/500 epochs\n",
      "\n",
      "\tcompleted 250/500 epochs\n",
      "\n",
      "\tcompleted 300/500 epochs\n",
      "\n",
      "\tcompleted 350/500 epochs\n",
      "\n",
      "\tcompleted 400/500 epochs\n",
      "\n",
      "\tcompleted 450/500 epochs\n",
      "\n",
      "\tcompleted 500 epochs\n",
      "\n",
      "\n",
      "EMBEDDING: Done in1.253874seconds.\n",
      "\n"
     ]
    }
   ],
   "source": [
    "embedding2 = hUmap.transform(2)"
   ]
  },
  {
   "cell_type": "code",
   "execution_count": 11,
   "metadata": {},
   "outputs": [
    {
     "name": "stdout",
     "output_type": "stream",
     "text": [
      "Initing low-dimensional representation... returning noise object\n",
      "done in 0.076672 seconds.\n",
      "Embedding level 1 with 281728 data samples.\n",
      "\n",
      "\n",
      "\tcompleted 0 / 500 epochs\n",
      "\tcompleted 50 / 500 epochs\n",
      "\tcompleted 100 / 500 epochs\n",
      "\tcompleted 150 / 500 epochs\n",
      "\tcompleted 200 / 500 epochs\n",
      "\tcompleted 250 / 500 epochs\n",
      "\tcompleted 300 / 500 epochs\n",
      "\tcompleted 350 / 500 epochs\n",
      "\tcompleted 400 / 500 epochs\n",
      "\tcompleted 450 / 500 epochs\n",
      "\tcompleted 500 epochs\n",
      "\n",
      "It took 226.412 to embed.\n"
     ]
    }
   ],
   "source": [
    "hUmap.set_fixing_term(0.01)\n",
    "hUmap.fix_datapoints(embedding2)\n",
    "embedding1 = hUmap.transform(1)"
   ]
  },
  {
   "cell_type": "code",
   "execution_count": 12,
   "metadata": {},
   "outputs": [
    {
     "name": "stdout",
     "output_type": "stream",
     "text": [
      "Initing low-dimensional representation... returning noise object\n",
      "done in 0.398793 seconds.\n",
      "Embedding level 0 with 1408643 data samples.\n",
      "\n",
      "\n",
      "\tcompleted 0 / 500 epochs\n",
      "\tcompleted 50 / 500 epochs\n",
      "\tcompleted 100 / 500 epochs\n",
      "\tcompleted 150 / 500 epochs\n",
      "\tcompleted 200 / 500 epochs\n",
      "\tcompleted 250 / 500 epochs\n",
      "\tcompleted 300 / 500 epochs\n",
      "\tcompleted 350 / 500 epochs\n",
      "\tcompleted 400 / 500 epochs\n",
      "\tcompleted 450 / 500 epochs\n",
      "\tcompleted 500 epochs\n",
      "\n",
      "It took 7055.92 to embed.\n"
     ]
    }
   ],
   "source": [
    "hUmap.set_fixing_term(0.01)\n",
    "hUmap.fix_datapoints(embedding1)\n",
    "embedding = hUmap.transform(0)"
   ]
  },
  {
   "cell_type": "code",
   "execution_count": 49,
   "metadata": {},
   "outputs": [],
   "source": [
    "original_indices2 = hUmap.original_indices(2)"
   ]
  },
  {
   "cell_type": "code",
   "execution_count": 14,
   "metadata": {},
   "outputs": [],
   "source": [
    "original_indices1 = hUmap.original_indices(1)"
   ]
  },
  {
   "cell_type": "code",
   "execution_count": null,
   "metadata": {},
   "outputs": [],
   "source": []
  },
  {
   "cell_type": "code",
   "execution_count": 50,
   "metadata": {},
   "outputs": [],
   "source": [
    "documents2 = []\n",
    "for i in range(len(original_indices2)):\n",
    "    documents2.append(documents[original_indices2[i]])\n"
   ]
  },
  {
   "cell_type": "code",
   "execution_count": 16,
   "metadata": {},
   "outputs": [],
   "source": [
    "documents1 = []\n",
    "for i in range(len(original_indices1)):\n",
    "    documents1.append(documents[original_indices1[i]])\n"
   ]
  },
  {
   "cell_type": "code",
   "execution_count": 17,
   "metadata": {},
   "outputs": [],
   "source": [
    "# import hdbscan\n",
    "# import seaborn as sns\n",
    "\n",
    "# from sklearn.cluster import KMeans"
   ]
  },
  {
   "cell_type": "code",
   "execution_count": 18,
   "metadata": {},
   "outputs": [],
   "source": [
    "# clusterer = hdbscan.HDBSCAN(min_cluster_size=100, min_samples=15)\n",
    "# # clusterer = KMeans(n_clusters=10)\n",
    "# clusterer.fit(embedding)\n",
    "\n",
    "\n",
    "\n"
   ]
  },
  {
   "cell_type": "code",
   "execution_count": 51,
   "metadata": {},
   "outputs": [],
   "source": [
    "df2 = pd.DataFrame({   \n",
    "    'id': np.arange(len(embedding2)),\n",
    "    'x': embedding2[:, 0],\n",
    "    'y': embedding2[:, 1],\n",
    "    'document': documents2,\n",
    "    'labels': reviewed[hUmap.original_indices(2)],\n",
    "    'original_indices': original_indices2,\n",
    "})\n",
    "\n"
   ]
  },
  {
   "cell_type": "code",
   "execution_count": 52,
   "metadata": {},
   "outputs": [],
   "source": [
    "df2.to_csv('embedding2_reviews.csv', index=False)"
   ]
  },
  {
   "cell_type": "code",
   "execution_count": 53,
   "metadata": {},
   "outputs": [
    {
     "data": {
      "text/plain": [
       "<matplotlib.collections.PathCollection at 0x2e26a2fd0>"
      ]
     },
     "execution_count": 53,
     "metadata": {},
     "output_type": "execute_result"
    },
    {
     "data": {
      "image/png": "[encoded data removed]",
      "text/plain": [
       "<Figure size 640x480 with 1 Axes>"
      ]
     },
     "metadata": {},
     "output_type": "display_data"
    }
   ],
   "source": [
    "import matplotlib.pyplot as plt\n",
    "\n",
    "plt.scatter(df2['x'], df2['y'])"
   ]
  },
  {
   "cell_type": "code",
   "execution_count": 28,
   "metadata": {},
   "outputs": [
    {
     "data": {
      "application/vnd.jupyter.widget-view+json": {
       "model_id": "cffcbcc1dd6a424595a4a1b3f464b267",
       "version_major": 2,
       "version_minor": 0
      },
      "text/plain": [
       "HBox(children=(VBox(children=(Button(button_style='primary', icon='arrows', layout=Layout(width='36px'), style…"
      ]
     },
     "execution_count": 28,
     "metadata": {},
     "output_type": "execute_result"
    }
   ],
   "source": [
    "# palette = sns.color_palette('viridis', clusterer.labels_.max()).as_hex()\n",
    "\n",
    "# labels = clusterer.labels_+1\n",
    "\n",
    "df = pd.DataFrame({    \n",
    "    'id': np.arange(len(y)),\n",
    "    'x': embedding[:, 0],\n",
    "    'y': embedding[:, 1],\n",
    "    'document': documents,\n",
    "    'labels': reviewed,\n",
    "    'original_indices': np.arange(len(y)),\n",
    "})\n",
    "\n",
    "df2 = pd.DataFrame({   \n",
    "    'id': np.arange(len(embedding2)),\n",
    "    'x': embedding2[:, 0],\n",
    "    'y': embedding2[:, 1],\n",
    "    'document': documents2,\n",
    "    'labels': reviewed[hUmap.original_indices(2)],\n",
    "    'original_indices': original_indices2,\n",
    "})\n",
    "\n",
    "df1 = pd.DataFrame({    \n",
    "    'id': np.arange(len(embedding1)),\n",
    "    'x': embedding1[:, 0],\n",
    "    'y': embedding1[:, 1],\n",
    "    'document': documents1,\n",
    "    'labels': reviewed[hUmap.original_indices(1)],\n",
    "    'original_indices': original_indices1,\n",
    "})\n",
    "\n",
    "config = dict(\n",
    "    background_color='#FFFFFF',\n",
    "    color_by='labels',\n",
    "    color_map=['#4287f5', '#f57e42'] #+ palette#['#FFFF00', '#1CE6FF', '#FF34FF', '#FF4A46', '#008941', '#006FA6', '#A30059', '#FFDBE5', '#7A4900', '#0000A6']\n",
    ")\n",
    "\n",
    "# scatter = jscatter.Scatter(data=df, x='x', y='y', **config)\n",
    "# scatter.show()\n",
    "# scatter1 = jscatter.Scatter(data=df1, x='x', y='y', **config)\n",
    "scatter2 = jscatter.Scatter(data=df2, x='x', y='y', **config)\n",
    "scatter.show()\n",
    "\n",
    "# jscatter.link([scatter2, scatter1, scatter], rows=1, row_height=640, match_by='original_indices')"
   ]
  },
  {
   "cell_type": "code",
   "execution_count": 33,
   "metadata": {},
   "outputs": [],
   "source": [
    "df2 = pd.DataFrame({   \n",
    "    'id': np.arange(len(embedding2)),\n",
    "    'x': embedding2[:, 0],\n",
    "    'y': embedding2[:, 1],\n",
    "    'document': documents2,\n",
    "    'labels': reviewed[hUmap.original_indices(2)],\n",
    "    'original_indices': original_indices2,\n",
    "})\n",
    "df2.to_csv('level2.csv', index=False)"
   ]
  },
  {
   "cell_type": "code",
   "execution_count": 1,
   "metadata": {},
   "outputs": [],
   "source": [
    "import jscatter\n",
    "import pandas as pd\n",
    "\n",
    "df2 = pd.read_csv('level2.csv')\n",
    "\n",
    "config = dict(\n",
    "    background_color='#FFFFFF',\n",
    "    color_by='labels',\n",
    "    height=800,\n",
    "    color_map=['#4287f5', '#f57e42'] #+ palette#['#FFFF00', '#1CE6FF', '#FF34FF', '#FF4A46', '#008941', '#006FA6', '#A30059', '#FFDBE5', '#7A4900', '#0000A6']\n",
    ")"
   ]
  },
  {
   "cell_type": "code",
   "execution_count": 2,
   "metadata": {},
   "outputs": [
    {
     "data": {
      "application/vnd.jupyter.widget-view+json": {
       "model_id": "fbfb308c48874f2fba0005a6db67b838",
       "version_major": 2,
       "version_minor": 0
      },
      "text/plain": [
       "HBox(children=(VBox(children=(Button(button_style='primary', icon='arrows', layout=Layout(width='36px'), style…"
      ]
     },
     "execution_count": 2,
     "metadata": {},
     "output_type": "execute_result"
    }
   ],
   "source": [
    "scatter2 = jscatter.Scatter(data=df2, x='x', y='y')\n",
    "scatter2.color(by='labels')\n",
    "scatter2.height(480)\n",
    "scatter2.background('black')\n",
    "scatter2.show()"
   ]
  },
  {
   "cell_type": "code",
   "execution_count": 10,
   "metadata": {},
   "outputs": [
    {
     "data": {
      "text/html": [
       "<div>\n",
       "<style scoped>\n",
       "    .dataframe tbody tr th:only-of-type {\n",
       "        vertical-align: middle;\n",
       "    }\n",
       "\n",
       "    .dataframe tbody tr th {\n",
       "        vertical-align: top;\n",
       "    }\n",
       "\n",
       "    .dataframe thead th {\n",
       "        text-align: right;\n",
       "    }\n",
       "</style>\n",
       "<table border=\"1\" class=\"dataframe\">\n",
       "  <thead>\n",
       "    <tr style=\"text-align: right;\">\n",
       "      <th></th>\n",
       "      <th>id</th>\n",
       "      <th>x</th>\n",
       "      <th>y</th>\n",
       "      <th>document</th>\n",
       "      <th>labels</th>\n",
       "      <th>original_indices</th>\n",
       "    </tr>\n",
       "  </thead>\n",
       "  <tbody>\n",
       "    <tr>\n",
       "      <th>24490</th>\n",
       "      <td>24490</td>\n",
       "      <td>6.625843</td>\n",
       "      <td>0.732435</td>\n",
       "      <td>great social app</td>\n",
       "      <td>0</td>\n",
       "      <td>1168078</td>\n",
       "    </tr>\n",
       "    <tr>\n",
       "      <th>33272</th>\n",
       "      <td>33272</td>\n",
       "      <td>6.654729</td>\n",
       "      <td>0.769761</td>\n",
       "      <td>Good social app</td>\n",
       "      <td>0</td>\n",
       "      <td>1167549</td>\n",
       "    </tr>\n",
       "    <tr>\n",
       "      <th>32360</th>\n",
       "      <td>32360</td>\n",
       "      <td>6.687142</td>\n",
       "      <td>0.798526</td>\n",
       "      <td>Great social app</td>\n",
       "      <td>0</td>\n",
       "      <td>1168077</td>\n",
       "    </tr>\n",
       "    <tr>\n",
       "      <th>21642</th>\n",
       "      <td>21642</td>\n",
       "      <td>6.638833</td>\n",
       "      <td>0.750812</td>\n",
       "      <td>Great social app</td>\n",
       "      <td>0</td>\n",
       "      <td>1168059</td>\n",
       "    </tr>\n",
       "    <tr>\n",
       "      <th>53890</th>\n",
       "      <td>53890</td>\n",
       "      <td>6.643660</td>\n",
       "      <td>0.743374</td>\n",
       "      <td>very nice social app</td>\n",
       "      <td>0</td>\n",
       "      <td>1165934</td>\n",
       "    </tr>\n",
       "    <tr>\n",
       "      <th>...</th>\n",
       "      <td>...</td>\n",
       "      <td>...</td>\n",
       "      <td>...</td>\n",
       "      <td>...</td>\n",
       "      <td>...</td>\n",
       "      <td>...</td>\n",
       "    </tr>\n",
       "    <tr>\n",
       "      <th>49699</th>\n",
       "      <td>49699</td>\n",
       "      <td>6.525607</td>\n",
       "      <td>0.619365</td>\n",
       "      <td>I think this is best social media app I like i...</td>\n",
       "      <td>0</td>\n",
       "      <td>1164475</td>\n",
       "    </tr>\n",
       "    <tr>\n",
       "      <th>19283</th>\n",
       "      <td>19283</td>\n",
       "      <td>6.551891</td>\n",
       "      <td>0.619656</td>\n",
       "      <td>Very good social media App</td>\n",
       "      <td>0</td>\n",
       "      <td>1163777</td>\n",
       "    </tr>\n",
       "    <tr>\n",
       "      <th>14960</th>\n",
       "      <td>14960</td>\n",
       "      <td>6.549971</td>\n",
       "      <td>0.607071</td>\n",
       "      <td>Amazing social media app</td>\n",
       "      <td>0</td>\n",
       "      <td>1162823</td>\n",
       "    </tr>\n",
       "    <tr>\n",
       "      <th>37436</th>\n",
       "      <td>37436</td>\n",
       "      <td>6.557255</td>\n",
       "      <td>0.623509</td>\n",
       "      <td>Great social media app</td>\n",
       "      <td>0</td>\n",
       "      <td>1163920</td>\n",
       "    </tr>\n",
       "    <tr>\n",
       "      <th>52273</th>\n",
       "      <td>52273</td>\n",
       "      <td>6.545647</td>\n",
       "      <td>0.624091</td>\n",
       "      <td>It's one of the best social media apps</td>\n",
       "      <td>0</td>\n",
       "      <td>1164781</td>\n",
       "    </tr>\n",
       "  </tbody>\n",
       "</table>\n",
       "<p>161 rows × 6 columns</p>\n",
       "</div>"
      ],
      "text/plain": [
       "          id         x         y  \\\n",
       "24490  24490  6.625843  0.732435   \n",
       "33272  33272  6.654729  0.769761   \n",
       "32360  32360  6.687142  0.798526   \n",
       "21642  21642  6.638833  0.750812   \n",
       "53890  53890  6.643660  0.743374   \n",
       "...      ...       ...       ...   \n",
       "49699  49699  6.525607  0.619365   \n",
       "19283  19283  6.551891  0.619656   \n",
       "14960  14960  6.549971  0.607071   \n",
       "37436  37436  6.557255  0.623509   \n",
       "52273  52273  6.545647  0.624091   \n",
       "\n",
       "                                                document  labels  \\\n",
       "24490                                   great social app       0   \n",
       "33272                                    Good social app       0   \n",
       "32360                                   Great social app       0   \n",
       "21642                                   Great social app       0   \n",
       "53890                               very nice social app       0   \n",
       "...                                                  ...     ...   \n",
       "49699  I think this is best social media app I like i...       0   \n",
       "19283                         Very good social media App       0   \n",
       "14960                           Amazing social media app       0   \n",
       "37436                             Great social media app       0   \n",
       "52273             It's one of the best social media apps       0   \n",
       "\n",
       "       original_indices  \n",
       "24490           1168078  \n",
       "33272           1167549  \n",
       "32360           1168077  \n",
       "21642           1168059  \n",
       "53890           1165934  \n",
       "...                 ...  \n",
       "49699           1164475  \n",
       "19283           1163777  \n",
       "14960           1162823  \n",
       "37436           1163920  \n",
       "52273           1164781  \n",
       "\n",
       "[161 rows x 6 columns]"
      ]
     },
     "execution_count": 10,
     "metadata": {},
     "output_type": "execute_result"
    }
   ],
   "source": [
    "df2.iloc[scatter2.selection()]"
   ]
  },
  {
   "cell_type": "code",
   "execution_count": 9,
   "metadata": {},
   "outputs": [
    {
     "data": {
      "text/plain": [
       "<matplotlib.collections.PathCollection at 0x166316760>"
      ]
     },
     "execution_count": 9,
     "metadata": {},
     "output_type": "execute_result"
    },
    {
     "data": {
      "image/png": "[encoded data removed]",
      "text/plain": [
       "<Figure size 640x480 with 1 Axes>"
      ]
     },
     "metadata": {},
     "output_type": "display_data"
    }
   ],
   "source": [
    "import matplotlib.pyplot as plt\n",
    "\n",
    "plt.scatter(df2['x'], df2['y'])"
   ]
  },
  {
   "cell_type": "code",
   "execution_count": 20,
   "metadata": {},
   "outputs": [
    {
     "data": {
      "text/plain": [
       "(1403644, 1)"
      ]
     },
     "execution_count": 20,
     "metadata": {},
     "output_type": "execute_result"
    }
   ],
   "source": [
    "random_selection = np.array(indices)[scatter.selection()]\n",
    "filtereddf = pd.DataFrame({\n",
    "    'indices': random_selection\n",
    "})\n",
    "filtereddf.shape"
   ]
  },
  {
   "cell_type": "code",
   "execution_count": 21,
   "metadata": {},
   "outputs": [],
   "source": [
    "filtereddf.to_csv('filtered_indices.csv', index=False)\n"
   ]
  },
  {
   "cell_type": "code",
   "execution_count": null,
   "metadata": {},
   "outputs": [],
   "source": []
  },
  {
   "cell_type": "code",
   "execution_count": null,
   "metadata": {},
   "outputs": [],
   "source": []
  },
  {
   "cell_type": "code",
   "execution_count": null,
   "metadata": {},
   "outputs": [],
   "source": []
  },
  {
   "cell_type": "code",
   "execution_count": null,
   "metadata": {},
   "outputs": [],
   "source": []
  },
  {
   "cell_type": "code",
   "execution_count": null,
   "metadata": {},
   "outputs": [],
   "source": []
  },
  {
   "cell_type": "code",
   "execution_count": null,
   "metadata": {},
   "outputs": [],
   "source": []
  },
  {
   "cell_type": "code",
   "execution_count": 30,
   "metadata": {},
   "outputs": [
    {
     "data": {
      "text/html": [
       "<style>.container { width:70% !important; }</style>"
      ],
      "text/plain": [
       "<IPython.core.display.HTML object>"
      ]
     },
     "metadata": {},
     "output_type": "display_data"
    }
   ],
   "source": [
    "from IPython.display import display, HTML\n",
    "display(HTML(\"<style>.container { width:70% !important; }</style>\"))"
   ]
  },
  {
   "cell_type": "code",
   "execution_count": null,
   "metadata": {},
   "outputs": [],
   "source": []
  }
 ],
 "metadata": {
  "interpreter": {
   "hash": "4a31e1183ff8eec086bfd36e61951877b3783897cd1d8aa479610120ba8bcbbe"
  },
  "kernelspec": {
   "display_name": "Python 3 (ipykernel)",
   "language": "python",
   "name": "python3"
  },
  "language_info": {
   "codemirror_mode": {
    "name": "ipython",
    "version": 3
   },
   "file_extension": ".py",
   "mimetype": "text/x-python",
   "name": "python",
   "nbconvert_exporter": "python",
   "pygments_lexer": "ipython3",
   "version": "3.8.13"
  }
 },
 "nbformat": 4,
 "nbformat_minor": 2
}
