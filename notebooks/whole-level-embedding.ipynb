{
 "cells": [
  {
   "cell_type": "code",
   "execution_count": 2,
   "metadata": {},
   "outputs": [],
   "source": [
    "import umap\n",
    "import numpy as np\n",
    "import pandas as pd\n",
    "\n",
    "import jscatter \n",
    "\n",
    "import matplotlib.pyplot as plt\n",
    "\n",
    "import humap\n",
    "from datasets import load_dataset\n",
    "\n",
    "import time\n",
    "\n"
   ]
  },
  {
   "cell_type": "code",
   "execution_count": 3,
   "metadata": {},
   "outputs": [],
   "source": [
    "# N = 200000 #600_000\n",
    "\n",
    "# indices = np.random.choice(744469, N, replace=False).tolist()\n",
    "# print(\"loading dataset\")\n",
    "# sentence_embeddings = np.load(\"gpt4all-j-prompts.npy\")[indices]\n",
    "# print(sentence_embeddings.shape)"
   ]
  },
  {
   "cell_type": "code",
   "execution_count": 4,
   "metadata": {},
   "outputs": [],
   "source": [
    "# groovy = load_dataset('nomic-ai/gpt4all-j-prompt-generations', revision='v1.3-groovy')\n",
    "\n",
    "# docs = groovy['train']['prompt']\n",
    "\n",
    "# documents = []\n",
    "# for i in range(len(indices)):\n",
    "#     documents.append(docs[indices[i]])\n",
    "# del docs\n",
    "\n"
   ]
  },
  {
   "cell_type": "code",
   "execution_count": 7,
   "metadata": {},
   "outputs": [
    {
     "data": {
      "text/plain": [
       "(1182073, 384)"
      ]
     },
     "execution_count": 7,
     "metadata": {},
     "output_type": "execute_result"
    }
   ],
   "source": [
    "# datasets consisting of prompts\n",
    "dataset = pd.read_csv('./../datasets/gpt4all-prompts.csv')\n",
    "documents = dataset['prompt']\n",
    "\n",
    "sentence_embeddings = np.load(\"./../datasets/gpt4all-prompts.npy\")\n",
    "\n",
    "N = sentence_embeddings.shape[0]\n",
    "sentence_embeddings.shape"
   ]
  },
  {
   "cell_type": "code",
   "execution_count": null,
   "metadata": {
    "scrolled": false
   },
   "outputs": [
    {
     "name": "stdout",
     "output_type": "stream",
     "text": [
      "creating humap object\n",
      "fitting hierarchy\n"
     ]
    }
   ],
   "source": [
    "print(\"creating humap object\")\n",
    "hUmap = humap.HUMAP(np.array([0.2, 0.2]))\n",
    "\n",
    "print(\"fitting hierarchy\")\n",
    "tic = time.time()\n",
    "y = np.zeros(N)\n",
    "hUmap.fit(sentence_embeddings, y)\n",
    "toc = time.time()\n",
    "\n"
   ]
  },
  {
   "cell_type": "code",
   "execution_count": 5,
   "metadata": {},
   "outputs": [
    {
     "name": "stdout",
     "output_type": "stream",
     "text": [
      "done in 2.490076 seconds.\n",
      "Computing similarity among landmarks... \n",
      "done in 4.372593 seconds.\n",
      "Fitting the hierarchy level... \n",
      "done in 0.110083 seconds.\n",
      "Associating data points to landmarks... \n",
      "done in 0.009720 seconds.\n",
      "Storing information for the next hierarchy level... \n",
      "done in 0.575872 seconds.\n",
      "Level construction: 7.643547\n",
      "\n",
      "\n",
      "Freeing memory...\n",
      "Hierarchy construction in 156.287444 seconds.\n",
      "\n",
      "Initing low-dimensional representation... returning noise object\n",
      "done in 0.006592 seconds.\n",
      "Fixing term: 0.01\n",
      "Embedding level 2 with 8000 data samples.\n",
      "\n",
      "\n",
      "\tcompleted 0 / 500 epochs\n",
      "\tcompleted 50 / 500 epochs\n",
      "\tcompleted 100 / 500 epochs\n",
      "\tcompleted 150 / 500 epochs\n",
      "\tcompleted 200 / 500 epochs\n",
      "\tcompleted 250 / 500 epochs\n",
      "\tcompleted 300 / 500 epochs\n",
      "\tcompleted 350 / 500 epochs\n",
      "\tcompleted 400 / 500 epochs\n",
      "\tcompleted 450 / 500 epochs\n",
      "\tcompleted 500 epochs\n",
      "\n",
      "It took 3.71819 to embed.\n"
     ]
    }
   ],
   "source": [
    "embedding2 = hUmap.transform(2)"
   ]
  },
  {
   "cell_type": "code",
   "execution_count": 41,
   "metadata": {},
   "outputs": [
    {
     "name": "stdout",
     "output_type": "stream",
     "text": [
      "Initing low-dimensional representation... returning noise object\n",
      "done in 0.070173 seconds.\n",
      "Fixing term: 0.01\n",
      "Embedding level 1 with 148893 data samples.\n",
      "\n",
      "\n",
      "\tcompleted 0 / 500 epochs\n",
      "\tcompleted 50 / 500 epochs\n",
      "\tcompleted 100 / 500 epochs\n",
      "\tcompleted 150 / 500 epochs\n",
      "\tcompleted 200 / 500 epochs\n",
      "\tcompleted 250 / 500 epochs\n",
      "\tcompleted 300 / 500 epochs\n",
      "\tcompleted 350 / 500 epochs\n",
      "\tcompleted 400 / 500 epochs\n",
      "\tcompleted 450 / 500 epochs\n",
      "\tcompleted 500 epochs\n",
      "\n",
      "It took 107.612 to embed.\n"
     ]
    }
   ],
   "source": [
    "hUmap.set_fixing_term(0.01)\n",
    "hUmap.fix_datapoints(embedding2)\n",
    "embedding1 = hUmap.transform(1)"
   ]
  },
  {
   "cell_type": "code",
   "execution_count": 42,
   "metadata": {},
   "outputs": [
    {
     "name": "stdout",
     "output_type": "stream",
     "text": [
      "Initing low-dimensional representation... returning noise object\n",
      "done in 0.177783 seconds.\n",
      "Fixing term: 0.01\n",
      "Embedding level 0 with 744469 data samples.\n",
      "\n",
      "\n",
      "\tcompleted 0 / 500 epochs\n",
      "\tcompleted 50 / 500 epochs\n",
      "\tcompleted 100 / 500 epochs\n",
      "\tcompleted 150 / 500 epochs\n",
      "\tcompleted 200 / 500 epochs\n",
      "\tcompleted 250 / 500 epochs\n",
      "\tcompleted 300 / 500 epochs\n",
      "\tcompleted 350 / 500 epochs\n",
      "\tcompleted 400 / 500 epochs\n",
      "\tcompleted 450 / 500 epochs\n",
      "\tcompleted 500 epochs\n",
      "\n",
      "It took 530.716 to embed.\n"
     ]
    }
   ],
   "source": [
    "hUmap.set_fixing_term(0.01)\n",
    "hUmap.fix_datapoints(embedding1)\n",
    "embedding = hUmap.transform(0)"
   ]
  },
  {
   "cell_type": "code",
   "execution_count": 43,
   "metadata": {},
   "outputs": [],
   "source": [
    "original_indices2 = hUmap.original_indices(2)"
   ]
  },
  {
   "cell_type": "code",
   "execution_count": 44,
   "metadata": {},
   "outputs": [],
   "source": [
    "original_indices1 = hUmap.original_indices(1)"
   ]
  },
  {
   "cell_type": "code",
   "execution_count": 45,
   "metadata": {},
   "outputs": [],
   "source": [
    "documents2 = []\n",
    "for i in range(len(original_indices2)):\n",
    "    documents2.append(documents[original_indices2[i]])\n"
   ]
  },
  {
   "cell_type": "code",
   "execution_count": 46,
   "metadata": {},
   "outputs": [],
   "source": [
    "documents1 = []\n",
    "for i in range(len(original_indices1)):\n",
    "    documents1.append(documents[original_indices1[i]])\n"
   ]
  },
  {
   "cell_type": "code",
   "execution_count": 47,
   "metadata": {},
   "outputs": [],
   "source": [
    "import hdbscan\n",
    "import seaborn as sns\n",
    "\n",
    "from sklearn.cluster import KMeans"
   ]
  },
  {
   "cell_type": "code",
   "execution_count": 48,
   "metadata": {},
   "outputs": [
    {
     "data": {
      "text/html": [
       "<style>#sk-container-id-2 {color: black;background-color: white;}#sk-container-id-2 pre{padding: 0;}#sk-container-id-2 div.sk-toggleable {background-color: white;}#sk-container-id-2 label.sk-toggleable__label {cursor: pointer;display: block;width: 100%;margin-bottom: 0;padding: 0.3em;box-sizing: border-box;text-align: center;}#sk-container-id-2 label.sk-toggleable__label-arrow:before {content: \"▸\";float: left;margin-right: 0.25em;color: #696969;}#sk-container-id-2 label.sk-toggleable__label-arrow:hover:before {color: black;}#sk-container-id-2 div.sk-estimator:hover label.sk-toggleable__label-arrow:before {color: black;}#sk-container-id-2 div.sk-toggleable__content {max-height: 0;max-width: 0;overflow: hidden;text-align: left;background-color: #f0f8ff;}#sk-container-id-2 div.sk-toggleable__content pre {margin: 0.2em;color: black;border-radius: 0.25em;background-color: #f0f8ff;}#sk-container-id-2 input.sk-toggleable__control:checked~div.sk-toggleable__content {max-height: 200px;max-width: 100%;overflow: auto;}#sk-container-id-2 input.sk-toggleable__control:checked~label.sk-toggleable__label-arrow:before {content: \"▾\";}#sk-container-id-2 div.sk-estimator input.sk-toggleable__control:checked~label.sk-toggleable__label {background-color: #d4ebff;}#sk-container-id-2 div.sk-label input.sk-toggleable__control:checked~label.sk-toggleable__label {background-color: #d4ebff;}#sk-container-id-2 input.sk-hidden--visually {border: 0;clip: rect(1px 1px 1px 1px);clip: rect(1px, 1px, 1px, 1px);height: 1px;margin: -1px;overflow: hidden;padding: 0;position: absolute;width: 1px;}#sk-container-id-2 div.sk-estimator {font-family: monospace;background-color: #f0f8ff;border: 1px dotted black;border-radius: 0.25em;box-sizing: border-box;margin-bottom: 0.5em;}#sk-container-id-2 div.sk-estimator:hover {background-color: #d4ebff;}#sk-container-id-2 div.sk-parallel-item::after {content: \"\";width: 100%;border-bottom: 1px solid gray;flex-grow: 1;}#sk-container-id-2 div.sk-label:hover label.sk-toggleable__label {background-color: #d4ebff;}#sk-container-id-2 div.sk-serial::before {content: \"\";position: absolute;border-left: 1px solid gray;box-sizing: border-box;top: 0;bottom: 0;left: 50%;z-index: 0;}#sk-container-id-2 div.sk-serial {display: flex;flex-direction: column;align-items: center;background-color: white;padding-right: 0.2em;padding-left: 0.2em;position: relative;}#sk-container-id-2 div.sk-item {position: relative;z-index: 1;}#sk-container-id-2 div.sk-parallel {display: flex;align-items: stretch;justify-content: center;background-color: white;position: relative;}#sk-container-id-2 div.sk-item::before, #sk-container-id-2 div.sk-parallel-item::before {content: \"\";position: absolute;border-left: 1px solid gray;box-sizing: border-box;top: 0;bottom: 0;left: 50%;z-index: -1;}#sk-container-id-2 div.sk-parallel-item {display: flex;flex-direction: column;z-index: 1;position: relative;background-color: white;}#sk-container-id-2 div.sk-parallel-item:first-child::after {align-self: flex-end;width: 50%;}#sk-container-id-2 div.sk-parallel-item:last-child::after {align-self: flex-start;width: 50%;}#sk-container-id-2 div.sk-parallel-item:only-child::after {width: 0;}#sk-container-id-2 div.sk-dashed-wrapped {border: 1px dashed gray;margin: 0 0.4em 0.5em 0.4em;box-sizing: border-box;padding-bottom: 0.4em;background-color: white;}#sk-container-id-2 div.sk-label label {font-family: monospace;font-weight: bold;display: inline-block;line-height: 1.2em;}#sk-container-id-2 div.sk-label-container {text-align: center;}#sk-container-id-2 div.sk-container {/* jupyter's `normalize.less` sets `[hidden] { display: none; }` but bootstrap.min.css set `[hidden] { display: none !important; }` so we also need the `!important` here to be able to override the default hidden behavior on the sphinx rendered scikit-learn.org. See: https://github.com/scikit-learn/scikit-learn/issues/21755 */display: inline-block !important;position: relative;}#sk-container-id-2 div.sk-text-repr-fallback {display: none;}</style><div id=\"sk-container-id-2\" class=\"sk-top-container\"><div class=\"sk-text-repr-fallback\"><pre>HDBSCAN(min_cluster_size=100, min_samples=15)</pre><b>In a Jupyter environment, please rerun this cell to show the HTML representation or trust the notebook. <br />On GitHub, the HTML representation is unable to render, please try loading this page with nbviewer.org.</b></div><div class=\"sk-container\" hidden><div class=\"sk-item\"><div class=\"sk-estimator sk-toggleable\"><input class=\"sk-toggleable__control sk-hidden--visually\" id=\"sk-estimator-id-2\" type=\"checkbox\" checked><label for=\"sk-estimator-id-2\" class=\"sk-toggleable__label sk-toggleable__label-arrow\">HDBSCAN</label><div class=\"sk-toggleable__content\"><pre>HDBSCAN(min_cluster_size=100, min_samples=15)</pre></div></div></div></div></div>"
      ],
      "text/plain": [
       "HDBSCAN(min_cluster_size=100, min_samples=15)"
      ]
     },
     "execution_count": 48,
     "metadata": {},
     "output_type": "execute_result"
    }
   ],
   "source": [
    "clusterer = hdbscan.HDBSCAN(min_cluster_size=100, min_samples=15)\n",
    "# clusterer = KMeans(n_clusters=10)\n",
    "clusterer.fit(embedding)\n",
    "\n",
    "\n",
    "\n"
   ]
  },
  {
   "cell_type": "code",
   "execution_count": 58,
   "metadata": {},
   "outputs": [
    {
     "data": {
      "application/vnd.jupyter.widget-view+json": {
       "model_id": "a33ebe543c844d75a4730b88d5e2ecb9",
       "version_major": 2,
       "version_minor": 0
      },
      "text/plain": [
       "GridBox(children=(HBox(children=(VBox(children=(Button(button_style='primary', icon='arrows', layout=Layout(wi…"
      ]
     },
     "execution_count": 58,
     "metadata": {},
     "output_type": "execute_result"
    }
   ],
   "source": [
    "palette = sns.color_palette('viridis', clusterer.labels_.max()).as_hex()\n",
    "\n",
    "labels = clusterer.labels_+1\n",
    "\n",
    "df = pd.DataFrame({    \n",
    "    'id': np.arange(len(y)),\n",
    "    'x': embedding[:, 0],\n",
    "    'y': embedding[:, 1],\n",
    "    'document': documents,\n",
    "    'labels': labels,\n",
    "    'original_indices': np.arange(len(y)),\n",
    "})\n",
    "\n",
    "df2 = pd.DataFrame({   \n",
    "    'id': np.arange(len(embedding2)),\n",
    "    'x': embedding2[:, 0],\n",
    "    'y': embedding2[:, 1],\n",
    "    'document': documents2,\n",
    "    'labels': labels[hUmap.original_indices(2)],\n",
    "    'original_indices': original_indices2,\n",
    "})\n",
    "\n",
    "df1 = pd.DataFrame({    \n",
    "    'id': np.arange(len(embedding1)),\n",
    "    'x': embedding1[:, 0],\n",
    "    'y': embedding1[:, 1],\n",
    "    'document': documents1,\n",
    "    'labels': labels[hUmap.original_indices(1)],\n",
    "    'original_indices': original_indices1,\n",
    "})\n",
    "\n",
    "config = dict(\n",
    "    background_color='#FFFFFF',\n",
    "#     color_by='labels',\n",
    "#     color_map=['#999999'] + palette#['#FFFF00', '#1CE6FF', '#FF34FF', '#FF4A46', '#008941', '#006FA6', '#A30059', '#FFDBE5', '#7A4900', '#0000A6']\n",
    ")\n",
    "\n",
    "scatter = jscatter.Scatter(data=df, x='x', y='y', **config)\n",
    "scatter1 = jscatter.Scatter(data=df1, x='x', y='y', **config)\n",
    "scatter2 = jscatter.Scatter(data=df2, x='x', y='y', **config)\n",
    "\n",
    "jscatter.link([scatter2, scatter1, scatter], rows=1, row_height=640, match_by='original_indices')"
   ]
  },
  {
   "cell_type": "code",
   "execution_count": 16,
   "metadata": {},
   "outputs": [],
   "source": [
    "# clusterer = KMeans(n_clusters=15).fit(embedding)"
   ]
  },
  {
   "cell_type": "code",
   "execution_count": 17,
   "metadata": {},
   "outputs": [],
   "source": []
  },
  {
   "cell_type": "code",
   "execution_count": 20,
   "metadata": {},
   "outputs": [],
   "source": []
  },
  {
   "cell_type": "code",
   "execution_count": 21,
   "metadata": {},
   "outputs": [
    {
     "data": {
      "text/plain": [
       "array([3, 5, 9, ..., 2, 7, 5], dtype=int32)"
      ]
     },
     "execution_count": 21,
     "metadata": {},
     "output_type": "execute_result"
    }
   ],
   "source": [
    "\n",
    "labels"
   ]
  },
  {
   "cell_type": "code",
   "execution_count": 22,
   "metadata": {},
   "outputs": [],
   "source": []
  },
  {
   "cell_type": "code",
   "execution_count": 23,
   "metadata": {},
   "outputs": [],
   "source": []
  },
  {
   "cell_type": "code",
   "execution_count": 24,
   "metadata": {},
   "outputs": [],
   "source": []
  },
  {
   "cell_type": "code",
   "execution_count": 25,
   "metadata": {},
   "outputs": [],
   "source": []
  },
  {
   "cell_type": "code",
   "execution_count": 26,
   "metadata": {},
   "outputs": [],
   "source": []
  },
  {
   "cell_type": "code",
   "execution_count": 27,
   "metadata": {},
   "outputs": [
    {
     "data": {
      "application/vnd.jupyter.widget-view+json": {
       "model_id": "70502551c4884dd49da07026c10a5402",
       "version_major": 2,
       "version_minor": 0
      },
      "text/plain": [
       "GridBox(children=(HBox(children=(VBox(children=(Button(button_style='primary', icon='arrows', layout=Layout(wi…"
      ]
     },
     "execution_count": 27,
     "metadata": {},
     "output_type": "execute_result"
    }
   ],
   "source": []
  },
  {
   "cell_type": "code",
   "execution_count": 95,
   "metadata": {},
   "outputs": [
    {
     "data": {
      "text/html": [
       "<style>.container { width:100% !important; }</style>"
      ],
      "text/plain": [
       "<IPython.core.display.HTML object>"
      ]
     },
     "metadata": {},
     "output_type": "display_data"
    }
   ],
   "source": [
    "from IPython.display import display, HTML\n",
    "display(HTML(\"<style>.container { width:100% !important; }</style>\"))"
   ]
  },
  {
   "cell_type": "code",
   "execution_count": null,
   "metadata": {},
   "outputs": [],
   "source": []
  }
 ],
 "metadata": {
  "interpreter": {
   "hash": "4a31e1183ff8eec086bfd36e61951877b3783897cd1d8aa479610120ba8bcbbe"
  },
  "kernelspec": {
   "display_name": "Python 3 (ipykernel)",
   "language": "python",
   "name": "python3"
  },
  "language_info": {
   "codemirror_mode": {
    "name": "ipython",
    "version": 3
   },
   "file_extension": ".py",
   "mimetype": "text/x-python",
   "name": "python",
   "nbconvert_exporter": "python",
   "pygments_lexer": "ipython3",
   "version": "3.8.13"
  }
 },
 "nbformat": 4,
 "nbformat_minor": 2
}
