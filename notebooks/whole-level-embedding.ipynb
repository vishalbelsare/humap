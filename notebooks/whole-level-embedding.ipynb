{
 "cells": [
  {
   "cell_type": "code",
   "execution_count": 1,
   "metadata": {},
   "outputs": [],
   "source": [
    "import umap\n",
    "import numpy as np\n",
    "import pandas as pd\n",
    "\n",
    "import jscatter \n",
    "\n",
    "import matplotlib.pyplot as plt\n",
    "\n",
    "import humap\n",
    "from datasets import load_dataset\n",
    "\n",
    "import time\n",
    "\n"
   ]
  },
  {
   "cell_type": "code",
   "execution_count": 2,
   "metadata": {},
   "outputs": [],
   "source": [
    "# N = 744469 #600_000\n",
    "\n",
    "# indices = np.random.choice(744469, N, replace=False).tolist()\n",
    "# print(\"loading dataset\")\n",
    "# sentence_embeddings = np.load(\"./../datasets/gpt4all-j-prompts.npy\")[indices]\n",
    "# print(sentence_embeddings.shape)"
   ]
  },
  {
   "cell_type": "code",
   "execution_count": 3,
   "metadata": {},
   "outputs": [],
   "source": [
    "# groovy = load_dataset('nomic-ai/gpt4all-j-prompt-generations', revision='v1.3-groovy')\n",
    "\n",
    "# docs = groovy['train']['prompt']\n",
    "\n",
    "# documents = []\n",
    "# for i in range(len(indices)):\n",
    "#     documents.append(docs[indices[i]])\n",
    "# del docs\n",
    "\n"
   ]
  },
  {
   "cell_type": "code",
   "execution_count": 2,
   "metadata": {},
   "outputs": [],
   "source": [
    "# # datasets consisting of prompts\n",
    "# dataset = pd.read_csv('./../datasets/gpt4all-prompts.csv')\n",
    "# # dataset = pd.read_csv('./../datasets/augmented_reviews.csv')\n",
    "# # documents = dataset['review']\n",
    "\n",
    "# sentence_embeddings = np.load(\"./../datasets/gpt4all-prompts.npy\")\n",
    "# # sentence_embeddings = np.load('./../datasets/reviews_embeddings.npy')\n",
    "\n",
    "# # N = sentence_embeddings.shape[0]\n",
    "# sentence_embeddings.shape"
   ]
  },
  {
   "cell_type": "code",
   "execution_count": 3,
   "metadata": {},
   "outputs": [
    {
     "name": "stdout",
     "output_type": "stream",
     "text": [
      "appending...\n",
      "separating...\n",
      "CPU times: user 4.55 s, sys: 9.59 s, total: 14.1 s\n",
      "Wall time: 40.9 s\n"
     ]
    }
   ],
   "source": [
    "%%time\n",
    "import pickle \n",
    "\n",
    "\n",
    "with open('./../datasets/arxiv_titles/embeddings_0.pkl', 'rb') as f:\n",
    "    data0 = pickle.load(f)\n",
    "with open('./../datasets/arxiv_titles/embeddings_1.pkl', 'rb') as f:\n",
    "    data1 = pickle.load(f)\n",
    "with open('./../datasets/arxiv_titles/embeddings_2.pkl', 'rb') as f:\n",
    "    data2 = pickle.load(f)\n",
    "\n",
    "print(\"appending...\")\n",
    "data = data0+data1+data2\n",
    "del data0\n",
    "del data1\n",
    "del data2\n",
    "\n",
    "print(\"separating...\")\n",
    "documents = [d[0] for d in data]\n",
    "sentence_embeddings = np.array([d[1] for d in data])\n",
    "del data\n"
   ]
  },
  {
   "cell_type": "code",
   "execution_count": 4,
   "metadata": {},
   "outputs": [],
   "source": [
    "N = 100000\n",
    "indices = np.random.choice(sentence_embeddings.shape[0], N, replace=False).tolist()"
   ]
  },
  {
   "cell_type": "code",
   "execution_count": 6,
   "metadata": {},
   "outputs": [],
   "source": [
    "documents = np.array(documents)[indices]"
   ]
  },
  {
   "cell_type": "code",
   "execution_count": 7,
   "metadata": {},
   "outputs": [],
   "source": [
    "sentence_embeddings = sentence_embeddings[indices]"
   ]
  },
  {
   "cell_type": "code",
   "execution_count": 8,
   "metadata": {},
   "outputs": [
    {
     "data": {
      "text/plain": [
       "array(['The Carbon Content of Intergalactic Gas at z=4.25 and its Evolution\\n  Toward z=2.4',\n",
       "       'On the Stability of the CMC Clifford Tori as Constrained Willmore\\n  Surfaces',\n",
       "       'Stop-mass prediction in naturalness scenarios within MSSM-25',\n",
       "       'Eta-nuclear bound states revisited',\n",
       "       'On the space of light rays of a space-time and a reconstruction theorem\\n  by Low',\n",
       "       'On cyclic associative Abel-Grassman groupoids',\n",
       "       'Saddle solutions for the fractional Choquard equation',\n",
       "       'Genus and fibredness of certain three-bridge links',\n",
       "       'Quench-induced dynamical phase transitions and $\\\\pi$-synchronization in\\n  the Bose-Hubbard Model',\n",
       "       'On construction of multivariate symmetric MRA-based wavelets'],\n",
       "      dtype='<U382')"
      ]
     },
     "execution_count": 8,
     "metadata": {},
     "output_type": "execute_result"
    }
   ],
   "source": [
    "documents[:10]"
   ]
  },
  {
   "cell_type": "code",
   "execution_count": 9,
   "metadata": {},
   "outputs": [
    {
     "data": {
      "text/plain": [
       "(100000, 768)"
      ]
     },
     "execution_count": 9,
     "metadata": {},
     "output_type": "execute_result"
    }
   ],
   "source": [
    "sentence_embeddings.shape"
   ]
  },
  {
   "cell_type": "code",
   "execution_count": 7,
   "metadata": {},
   "outputs": [
    {
     "data": {
      "text/plain": [
       "(2250000, 256)"
      ]
     },
     "execution_count": 7,
     "metadata": {},
     "output_type": "execute_result"
    }
   ],
   "source": [
    "from sklearn.preprocessing import normalize\n",
    "from sklearn.decomposition import PCA\n",
    "\n",
    "# sentence_embeddings = PCA(n_components=0.9).fit_transform(sentence_embeddings)\n",
    "# sentence_embeddings.shape"
   ]
  },
  {
   "cell_type": "code",
   "execution_count": 10,
   "metadata": {
    "scrolled": false
   },
   "outputs": [
    {
     "name": "stdout",
     "output_type": "stream",
     "text": [
      "creating humap object\n",
      "fitting hierarchy\n",
      "Level 0 with 100000 data samples.\n",
      "Fitting the first hierarchy level... \n",
      "\n",
      "L0 - Fitting: done in 97.302376 seconds.\n",
      "\n",
      "Level 1: 20000 data samples.\n",
      "Computing random walks for sampling selection... \n",
      "\n",
      "\n",
      "L1 - Selecting Landmarks: done in 0.915650 seconds.\n",
      "\n",
      "Computing random walks for constucting representation neighborhood... \n",
      "\n",
      "\n",
      "L1 - Constructing Neighborhood: done in 6.473015 seconds.\n",
      "\n",
      "Computing similarity among landmarks... \n",
      "\n",
      "Similarity between landmarks: 0.532634 seconds.\n",
      "\n",
      "Computing sparse similarity... \n",
      "\n",
      "Creating sparse matrix... \n",
      "\n",
      "\n",
      "L1 - Sparse Similarity: done in 0.230738 seconds.\n",
      "\n",
      "Fitting the hierarchy level... \n",
      "\n",
      "\n",
      "L1 - Fitting: done in 0.326557 seconds.\n",
      "\n",
      "Associating data points to landmarks... \n",
      "\n",
      "\n",
      "L1 - Performing association to landmarks: done in 0.088771 seconds.\n",
      "\n",
      "\n",
      "L1 - Construction: done in 8.876469\n",
      "\n",
      "\n",
      "Level 2: 4000 data samples.\n",
      "Computing random walks for sampling selection... \n",
      "\n",
      "\n",
      "L2 - Selecting Landmarks: done in 0.061253 seconds.\n",
      "\n",
      "Computing random walks for constucting representation neighborhood... \n",
      "\n",
      "\n",
      "L2 - Constructing Neighborhood: done in 1.434789 seconds.\n",
      "\n",
      "Computing similarity among landmarks... \n",
      "\n",
      "Similarity between landmarks: 0.088269 seconds.\n",
      "\n",
      "Computing sparse similarity... \n",
      "\n",
      "Creating sparse matrix... \n",
      "\n",
      "\n",
      "L2 - Sparse Similarity: done in 0.049256 seconds.\n",
      "\n",
      "Fitting the hierarchy level... \n",
      "\n",
      "\n",
      "L2 - Fitting: done in 0.061517 seconds.\n",
      "\n",
      "Associating data points to landmarks... \n",
      "\n",
      "\n",
      "L2 - Performing association to landmarks: done in 0.004915 seconds.\n",
      "\n",
      "\n",
      "L2 - Construction: done in 1.909024\n",
      "\n",
      "\n",
      "Hierarchical Representation: done in 108.455910 seconds.\n",
      "\n",
      "\n"
     ]
    }
   ],
   "source": [
    "print(\"creating humap object\")\n",
    "hUmap = humap.HUMAP(np.array([0.2, 0.2]), init=\"Random\")\n",
    "# hUmap = humap.HUMAP(np.array([0.2, 0.2]), init=\"Random\")\n",
    "\n",
    "print(\"fitting hierarchy\")\n",
    "tic = time.time()\n",
    "y = np.zeros(sentence_embeddings.shape[0])\n",
    "hUmap.fit(sentence_embeddings, y)\n",
    "toc = time.time()\n",
    "\n"
   ]
  },
  {
   "cell_type": "code",
   "execution_count": 11,
   "metadata": {},
   "outputs": [
    {
     "name": "stdout",
     "output_type": "stream",
     "text": [
      "Initiating low-dimensional representation...\n",
      "\n",
      "done in 0.008553 seconds.\n",
      "\n",
      "Embedding level 2 with 4000 data samples.\n",
      "\n",
      "\n",
      "\tcompleted 0/500 epochs\n",
      "\n",
      "\tcompleted 50/500 epochs\n",
      "\n",
      "\tcompleted 100/500 epochs\n",
      "\n",
      "\tcompleted 150/500 epochs\n",
      "\n",
      "\tcompleted 200/500 epochs\n",
      "\n",
      "\tcompleted 250/500 epochs\n",
      "\n",
      "\tcompleted 300/500 epochs\n",
      "\n",
      "\tcompleted 350/500 epochs\n",
      "\n",
      "\tcompleted 400/500 epochs\n",
      "\n",
      "\tcompleted 450/500 epochs\n",
      "\n",
      "\tcompleted 500 epochs\n",
      "\n",
      "\n",
      "EMBEDDING: Done in3.065706seconds.\n",
      "\n"
     ]
    }
   ],
   "source": [
    "embedding2 = hUmap.transform(2)"
   ]
  },
  {
   "cell_type": "code",
   "execution_count": 12,
   "metadata": {},
   "outputs": [
    {
     "name": "stdout",
     "output_type": "stream",
     "text": [
      "Initiating low-dimensional representation...\n",
      "\n",
      "done in 0.006401 seconds.\n",
      "\n",
      "Embedding level 1 with 20000 data samples.\n",
      "\n",
      "\n",
      "\tcompleted 0/500 epochs\n",
      "\n",
      "\tcompleted 50/500 epochs\n",
      "\n",
      "\tcompleted 100/500 epochs\n",
      "\n",
      "\tcompleted 150/500 epochs\n",
      "\n",
      "\tcompleted 200/500 epochs\n",
      "\n",
      "\tcompleted 250/500 epochs\n",
      "\n",
      "\tcompleted 300/500 epochs\n",
      "\n",
      "\tcompleted 350/500 epochs\n",
      "\n",
      "\tcompleted 400/500 epochs\n",
      "\n",
      "\tcompleted 450/500 epochs\n",
      "\n",
      "\tcompleted 500 epochs\n",
      "\n",
      "\n",
      "EMBEDDING: Done in16.621893seconds.\n",
      "\n"
     ]
    }
   ],
   "source": [
    "hUmap.set_fixing_term(0.01)\n",
    "hUmap.fix_datapoints(embedding2)\n",
    "embedding1 = hUmap.transform(1)"
   ]
  },
  {
   "cell_type": "code",
   "execution_count": 13,
   "metadata": {},
   "outputs": [
    {
     "name": "stdout",
     "output_type": "stream",
     "text": [
      "Initiating low-dimensional representation...\n",
      "\n",
      "done in 0.022608 seconds.\n",
      "\n",
      "Embedding level 0 with 100000 data samples.\n",
      "\n",
      "\n",
      "\tcompleted 0/500 epochs\n",
      "\n",
      "\tcompleted 50/500 epochs\n",
      "\n",
      "\tcompleted 100/500 epochs\n",
      "\n",
      "\tcompleted 150/500 epochs\n",
      "\n",
      "\tcompleted 200/500 epochs\n",
      "\n",
      "\tcompleted 250/500 epochs\n",
      "\n",
      "\tcompleted 300/500 epochs\n",
      "\n",
      "\tcompleted 350/500 epochs\n",
      "\n",
      "\tcompleted 400/500 epochs\n",
      "\n",
      "\tcompleted 450/500 epochs\n",
      "\n",
      "\tcompleted 500 epochs\n",
      "\n",
      "\n",
      "EMBEDDING: Done in60.808681seconds.\n",
      "\n"
     ]
    }
   ],
   "source": [
    "hUmap.set_fixing_term(0.01)\n",
    "hUmap.fix_datapoints(embedding1)\n",
    "embedding = hUmap.transform(0)"
   ]
  },
  {
   "cell_type": "code",
   "execution_count": 14,
   "metadata": {},
   "outputs": [],
   "source": [
    "original_indices2 = hUmap.original_indices(2)"
   ]
  },
  {
   "cell_type": "code",
   "execution_count": 15,
   "metadata": {},
   "outputs": [],
   "source": [
    "original_indices1 = hUmap.original_indices(1)"
   ]
  },
  {
   "cell_type": "code",
   "execution_count": 17,
   "metadata": {},
   "outputs": [],
   "source": [
    "documents2 = []\n",
    "for i in range(len(original_indices2)):\n",
    "    documents2.append(documents[original_indices2[i]])\n"
   ]
  },
  {
   "cell_type": "code",
   "execution_count": 18,
   "metadata": {},
   "outputs": [],
   "source": [
    "documents1 = []\n",
    "for i in range(len(original_indices1)):\n",
    "    documents1.append(documents[original_indices1[i]])\n"
   ]
  },
  {
   "cell_type": "code",
   "execution_count": 19,
   "metadata": {},
   "outputs": [],
   "source": [
    "# palette = sns.color_palette('viridis', clusterer.labels_.max()).as_hex()\n",
    "\n",
    "# labels = clusterer.labels_+1\n",
    "\n",
    "\n",
    "\n",
    "df2 = pd.DataFrame({   \n",
    "    'id': np.arange(len(embedding2)),\n",
    "    'x': embedding2[:, 0],\n",
    "    'y': embedding2[:, 1],\n",
    "    'document': documents2,\n",
    "    'labels': y[hUmap.original_indices(2)],\n",
    "    'original_indices': original_indices2,\n",
    "})\n",
    "\n",
    "df1 = pd.DataFrame({    \n",
    "    'id': np.arange(len(embedding1)),\n",
    "    'x': embedding1[:, 0],\n",
    "    'y': embedding1[:, 1],\n",
    "    'document': documents1,\n",
    "    'labels': y[hUmap.original_indices(1)],\n",
    "    'original_indices': original_indices1,\n",
    "})\n",
    "\n",
    "df = pd.DataFrame({    \n",
    "    'id': np.arange(len(y)),\n",
    "    'x': embedding[:, 0],\n",
    "    'y': embedding[:, 1],\n",
    "    'document': documents,\n",
    "    'labels': y,\n",
    "    'original_indices': np.arange(len(y)),\n",
    "})\n"
   ]
  },
  {
   "cell_type": "code",
   "execution_count": 17,
   "metadata": {},
   "outputs": [],
   "source": [
    "df.to_csv('l0.csv', index=False)\n",
    "df1.to_csv('l1.csv', index=False)\n",
    "df2.to_csv('l2.csv', index=False)"
   ]
  },
  {
   "cell_type": "code",
   "execution_count": 21,
   "metadata": {},
   "outputs": [],
   "source": [
    "config = dict(\n",
    "    background_color='#FFFFFF',\n",
    "    color_by='labels',\n",
    "    color_map=['#000000', '#f57e42'] #+ palette#['#FFFF00', '#1CE6FF', '#FF34FF', '#FF4A46', '#008941', '#006FA6', '#A30059', '#FFDBE5', '#7A4900', '#0000A6']\n",
    ")\n",
    "\n",
    "scatter = jscatter.Scatter(data=df, x='x', y='y', **config)"
   ]
  },
  {
   "cell_type": "code",
   "execution_count": 23,
   "metadata": {},
   "outputs": [
    {
     "data": {
      "application/vnd.jupyter.widget-view+json": {
       "model_id": "b63135aacb194788983dd58a1bfcf4bb",
       "version_major": 2,
       "version_minor": 0
      },
      "text/plain": [
       "HBox(children=(VBox(children=(Button(button_style='primary', icon='arrows', layout=Layout(width='36px'), style…"
      ]
     },
     "execution_count": 23,
     "metadata": {},
     "output_type": "execute_result"
    }
   ],
   "source": [
    "scatter.show()"
   ]
  },
  {
   "cell_type": "code",
   "execution_count": 28,
   "metadata": {},
   "outputs": [
    {
     "data": {
      "text/html": [
       "<div>\n",
       "<style scoped>\n",
       "    .dataframe tbody tr th:only-of-type {\n",
       "        vertical-align: middle;\n",
       "    }\n",
       "\n",
       "    .dataframe tbody tr th {\n",
       "        vertical-align: top;\n",
       "    }\n",
       "\n",
       "    .dataframe thead th {\n",
       "        text-align: right;\n",
       "    }\n",
       "</style>\n",
       "<table border=\"1\" class=\"dataframe\">\n",
       "  <thead>\n",
       "    <tr style=\"text-align: right;\">\n",
       "      <th></th>\n",
       "      <th>document</th>\n",
       "    </tr>\n",
       "  </thead>\n",
       "  <tbody>\n",
       "    <tr>\n",
       "      <th>19654</th>\n",
       "      <td>Acceleration of Lamplighter Random Walks</td>\n",
       "    </tr>\n",
       "    <tr>\n",
       "      <th>44004</th>\n",
       "      <td>Random walk on disordered networks</td>\n",
       "    </tr>\n",
       "    <tr>\n",
       "      <th>59978</th>\n",
       "      <td>On the Optimal Shape of Tree Roots and Branches</td>\n",
       "    </tr>\n",
       "    <tr>\n",
       "      <th>31474</th>\n",
       "      <td>Strolling through Paradise</td>\n",
       "    </tr>\n",
       "    <tr>\n",
       "      <th>39987</th>\n",
       "      <td>Cutting edges at random in large recursive trees</td>\n",
       "    </tr>\n",
       "    <tr>\n",
       "      <th>16966</th>\n",
       "      <td>The random walk on the random connection model</td>\n",
       "    </tr>\n",
       "    <tr>\n",
       "      <th>74376</th>\n",
       "      <td>The Random Walk Metropolis: Linking Theory and...</td>\n",
       "    </tr>\n",
       "    <tr>\n",
       "      <th>54390</th>\n",
       "      <td>Discrete-time random walks and L\\'evy flights ...</td>\n",
       "    </tr>\n",
       "    <tr>\n",
       "      <th>41237</th>\n",
       "      <td>The slow regime of randomly biased walks on trees</td>\n",
       "    </tr>\n",
       "    <tr>\n",
       "      <th>66551</th>\n",
       "      <td>Random Walks on Stochastic Temporal Networks</td>\n",
       "    </tr>\n",
       "    <tr>\n",
       "      <th>30545</th>\n",
       "      <td>Emergence of community structures through bias...</td>\n",
       "    </tr>\n",
       "    <tr>\n",
       "      <th>510</th>\n",
       "      <td>A Review: Random Walk in Graph Sampling</td>\n",
       "    </tr>\n",
       "    <tr>\n",
       "      <th>94336</th>\n",
       "      <td>Majority rule has transition ratio 4 on Yule t...</td>\n",
       "    </tr>\n",
       "    <tr>\n",
       "      <th>92940</th>\n",
       "      <td>On subdiffusive continuous time random walks w...</td>\n",
       "    </tr>\n",
       "    <tr>\n",
       "      <th>87028</th>\n",
       "      <td>First Passage with Restart in Discrete Time: w...</td>\n",
       "    </tr>\n",
       "    <tr>\n",
       "      <th>53881</th>\n",
       "      <td>Non-homogeneous random walks with non-integrab...</td>\n",
       "    </tr>\n",
       "    <tr>\n",
       "      <th>48294</th>\n",
       "      <td>Least gradient functions in metric random walk...</td>\n",
       "    </tr>\n",
       "    <tr>\n",
       "      <th>91163</th>\n",
       "      <td>Improved Linear-Time Algorithm for Computing t...</td>\n",
       "    </tr>\n",
       "    <tr>\n",
       "      <th>52468</th>\n",
       "      <td>An Algorithm for Graph-Fused Lasso Based on Gr...</td>\n",
       "    </tr>\n",
       "    <tr>\n",
       "      <th>57310</th>\n",
       "      <td>On the Temporal Order of First-Passage Times i...</td>\n",
       "    </tr>\n",
       "    <tr>\n",
       "      <th>65364</th>\n",
       "      <td>Multiscale analysis of exit distributions for ...</td>\n",
       "    </tr>\n",
       "    <tr>\n",
       "      <th>83394</th>\n",
       "      <td>Improved Analysis of Higher Order Random Walks...</td>\n",
       "    </tr>\n",
       "    <tr>\n",
       "      <th>53548</th>\n",
       "      <td>Non-independent continuous time random walks</td>\n",
       "    </tr>\n",
       "    <tr>\n",
       "      <th>26045</th>\n",
       "      <td>Random walk to $\\phi^4$ and back</td>\n",
       "    </tr>\n",
       "    <tr>\n",
       "      <th>79754</th>\n",
       "      <td>Random walks, Avalanches and branching processes</td>\n",
       "    </tr>\n",
       "    <tr>\n",
       "      <th>11762</th>\n",
       "      <td>Walks on chains</td>\n",
       "    </tr>\n",
       "    <tr>\n",
       "      <th>44604</th>\n",
       "      <td>A martingale approach for the elephant random ...</td>\n",
       "    </tr>\n",
       "    <tr>\n",
       "      <th>57491</th>\n",
       "      <td>Hitting times for second-order random walks</td>\n",
       "    </tr>\n",
       "    <tr>\n",
       "      <th>84846</th>\n",
       "      <td>Variable survival exponents in history-depende...</td>\n",
       "    </tr>\n",
       "    <tr>\n",
       "      <th>1935</th>\n",
       "      <td>Tree decompositions and many-sided separations</td>\n",
       "    </tr>\n",
       "    <tr>\n",
       "      <th>60666</th>\n",
       "      <td>Biased random walk on critical Galton-Watson t...</td>\n",
       "    </tr>\n",
       "    <tr>\n",
       "      <th>60192</th>\n",
       "      <td>Lamplighter random walks on fractals</td>\n",
       "    </tr>\n",
       "    <tr>\n",
       "      <th>32253</th>\n",
       "      <td>Heavy-Tailed Branching Random Walks on Multidi...</td>\n",
       "    </tr>\n",
       "    <tr>\n",
       "      <th>66448</th>\n",
       "      <td>Critical behaviour of random walks</td>\n",
       "    </tr>\n",
       "    <tr>\n",
       "      <th>12215</th>\n",
       "      <td>A revisited proof of the Seneta-Heyde norming ...</td>\n",
       "    </tr>\n",
       "    <tr>\n",
       "      <th>15393</th>\n",
       "      <td>Deuteron Compton Scattering: A Random Walk</td>\n",
       "    </tr>\n",
       "    <tr>\n",
       "      <th>26802</th>\n",
       "      <td>Large Deviations for the Right-Most Position o...</td>\n",
       "    </tr>\n",
       "    <tr>\n",
       "      <th>24376</th>\n",
       "      <td>Weighted $L^{p}$ estimates on the infinite roo...</td>\n",
       "    </tr>\n",
       "    <tr>\n",
       "      <th>63611</th>\n",
       "      <td>Poly-logarithmic localization for random walks...</td>\n",
       "    </tr>\n",
       "    <tr>\n",
       "      <th>44015</th>\n",
       "      <td>Localization for controlled random walks and m...</td>\n",
       "    </tr>\n",
       "    <tr>\n",
       "      <th>59138</th>\n",
       "      <td>On the tail of the branching random walk local...</td>\n",
       "    </tr>\n",
       "    <tr>\n",
       "      <th>25639</th>\n",
       "      <td>Random walks in dynamic random environments an...</td>\n",
       "    </tr>\n",
       "    <tr>\n",
       "      <th>75243</th>\n",
       "      <td>On the variational distance of two trees</td>\n",
       "    </tr>\n",
       "    <tr>\n",
       "      <th>68183</th>\n",
       "      <td>Successive minimum spanning trees</td>\n",
       "    </tr>\n",
       "    <tr>\n",
       "      <th>39319</th>\n",
       "      <td>Quantum Algorithms for Lowest Weight Paths and...</td>\n",
       "    </tr>\n",
       "    <tr>\n",
       "      <th>74834</th>\n",
       "      <td>Directed random walks on hierarchic trees with...</td>\n",
       "    </tr>\n",
       "    <tr>\n",
       "      <th>57091</th>\n",
       "      <td>Non-backtracking walks reveal compartments in ...</td>\n",
       "    </tr>\n",
       "    <tr>\n",
       "      <th>48550</th>\n",
       "      <td>Fires on trees</td>\n",
       "    </tr>\n",
       "    <tr>\n",
       "      <th>3490</th>\n",
       "      <td>Critical RWRE on trees and tree-indexed random...</td>\n",
       "    </tr>\n",
       "    <tr>\n",
       "      <th>2908</th>\n",
       "      <td>Some Preliminary Result About the Inset Edge a...</td>\n",
       "    </tr>\n",
       "    <tr>\n",
       "      <th>68195</th>\n",
       "      <td>Analytical results for the distribution of fir...</td>\n",
       "    </tr>\n",
       "    <tr>\n",
       "      <th>26420</th>\n",
       "      <td>A balanced excited random walk</td>\n",
       "    </tr>\n",
       "    <tr>\n",
       "      <th>20554</th>\n",
       "      <td>Random Walks with Anti-Correlated Steps</td>\n",
       "    </tr>\n",
       "    <tr>\n",
       "      <th>83512</th>\n",
       "      <td>Transition probability estimates for subordina...</td>\n",
       "    </tr>\n",
       "    <tr>\n",
       "      <th>66965</th>\n",
       "      <td>Positively and negatively excited random walks...</td>\n",
       "    </tr>\n",
       "    <tr>\n",
       "      <th>46710</th>\n",
       "      <td>Positive hulls of random walks and bridges</td>\n",
       "    </tr>\n",
       "    <tr>\n",
       "      <th>27182</th>\n",
       "      <td>Non-fixation for Biased Activated Random Walks</td>\n",
       "    </tr>\n",
       "    <tr>\n",
       "      <th>50808</th>\n",
       "      <td>Variations of the elephant random walk</td>\n",
       "    </tr>\n",
       "    <tr>\n",
       "      <th>98399</th>\n",
       "      <td>On the exit time from an orthant for badly ori...</td>\n",
       "    </tr>\n",
       "    <tr>\n",
       "      <th>90891</th>\n",
       "      <td>Crossing velocities for an annealed random wal...</td>\n",
       "    </tr>\n",
       "  </tbody>\n",
       "</table>\n",
       "</div>"
      ],
      "text/plain": [
       "                                                document\n",
       "19654           Acceleration of Lamplighter Random Walks\n",
       "44004                 Random walk on disordered networks\n",
       "59978    On the Optimal Shape of Tree Roots and Branches\n",
       "31474                         Strolling through Paradise\n",
       "39987   Cutting edges at random in large recursive trees\n",
       "16966     The random walk on the random connection model\n",
       "74376  The Random Walk Metropolis: Linking Theory and...\n",
       "54390  Discrete-time random walks and L\\'evy flights ...\n",
       "41237  The slow regime of randomly biased walks on trees\n",
       "66551       Random Walks on Stochastic Temporal Networks\n",
       "30545  Emergence of community structures through bias...\n",
       "510              A Review: Random Walk in Graph Sampling\n",
       "94336  Majority rule has transition ratio 4 on Yule t...\n",
       "92940  On subdiffusive continuous time random walks w...\n",
       "87028  First Passage with Restart in Discrete Time: w...\n",
       "53881  Non-homogeneous random walks with non-integrab...\n",
       "48294  Least gradient functions in metric random walk...\n",
       "91163  Improved Linear-Time Algorithm for Computing t...\n",
       "52468  An Algorithm for Graph-Fused Lasso Based on Gr...\n",
       "57310  On the Temporal Order of First-Passage Times i...\n",
       "65364  Multiscale analysis of exit distributions for ...\n",
       "83394  Improved Analysis of Higher Order Random Walks...\n",
       "53548       Non-independent continuous time random walks\n",
       "26045                   Random walk to $\\phi^4$ and back\n",
       "79754   Random walks, Avalanches and branching processes\n",
       "11762                                    Walks on chains\n",
       "44604  A martingale approach for the elephant random ...\n",
       "57491        Hitting times for second-order random walks\n",
       "84846  Variable survival exponents in history-depende...\n",
       "1935      Tree decompositions and many-sided separations\n",
       "60666  Biased random walk on critical Galton-Watson t...\n",
       "60192               Lamplighter random walks on fractals\n",
       "32253  Heavy-Tailed Branching Random Walks on Multidi...\n",
       "66448                 Critical behaviour of random walks\n",
       "12215  A revisited proof of the Seneta-Heyde norming ...\n",
       "15393         Deuteron Compton Scattering: A Random Walk\n",
       "26802  Large Deviations for the Right-Most Position o...\n",
       "24376  Weighted $L^{p}$ estimates on the infinite roo...\n",
       "63611  Poly-logarithmic localization for random walks...\n",
       "44015  Localization for controlled random walks and m...\n",
       "59138  On the tail of the branching random walk local...\n",
       "25639  Random walks in dynamic random environments an...\n",
       "75243           On the variational distance of two trees\n",
       "68183                  Successive minimum spanning trees\n",
       "39319  Quantum Algorithms for Lowest Weight Paths and...\n",
       "74834  Directed random walks on hierarchic trees with...\n",
       "57091  Non-backtracking walks reveal compartments in ...\n",
       "48550                                     Fires on trees\n",
       "3490   Critical RWRE on trees and tree-indexed random...\n",
       "2908   Some Preliminary Result About the Inset Edge a...\n",
       "68195  Analytical results for the distribution of fir...\n",
       "26420                     A balanced excited random walk\n",
       "20554            Random Walks with Anti-Correlated Steps\n",
       "83512  Transition probability estimates for subordina...\n",
       "66965  Positively and negatively excited random walks...\n",
       "46710         Positive hulls of random walks and bridges\n",
       "27182     Non-fixation for Biased Activated Random Walks\n",
       "50808             Variations of the elephant random walk\n",
       "98399  On the exit time from an orthant for badly ori...\n",
       "90891  Crossing velocities for an annealed random wal..."
      ]
     },
     "execution_count": 28,
     "metadata": {},
     "output_type": "execute_result"
    }
   ],
   "source": [
    "df.loc[scatter.selection()][['document']].head(60)"
   ]
  },
  {
   "cell_type": "code",
   "execution_count": 20,
   "metadata": {},
   "outputs": [
    {
     "data": {
      "application/vnd.jupyter.widget-view+json": {
       "model_id": "879caccdaa89408f89cce139580c15e6",
       "version_major": 2,
       "version_minor": 0
      },
      "text/plain": [
       "GridBox(children=(HBox(children=(VBox(children=(Button(button_style='primary', icon='arrows', layout=Layout(wi…"
      ]
     },
     "execution_count": 20,
     "metadata": {},
     "output_type": "execute_result"
    }
   ],
   "source": [
    "config = dict(\n",
    "    background_color='#FFFFFF',\n",
    "    color_by='labels',\n",
    "    color_map=['#000000', '#f57e42'] #+ palette#['#FFFF00', '#1CE6FF', '#FF34FF', '#FF4A46', '#008941', '#006FA6', '#A30059', '#FFDBE5', '#7A4900', '#0000A6']\n",
    ")\n",
    "\n",
    "scatter = jscatter.Scatter(data=df, x='x', y='y', **config)\n",
    "scatter1 = jscatter.Scatter(data=df1, x='x', y='y', **config)\n",
    "scatter2 = jscatter.Scatter(data=df2, x='x', y='y', **config)\n",
    "\n",
    "jscatter.link([scatter2, scatter1, scatter], rows=1, row_height=640, match_by='original_indices')"
   ]
  },
  {
   "cell_type": "code",
   "execution_count": null,
   "metadata": {},
   "outputs": [],
   "source": []
  },
  {
   "cell_type": "code",
   "execution_count": 33,
   "metadata": {},
   "outputs": [],
   "source": [
    "df2 = pd.DataFrame({   \n",
    "    'id': np.arange(len(embedding2)),\n",
    "    'x': embedding2[:, 0],\n",
    "    'y': embedding2[:, 1],\n",
    "    'document': documents2,\n",
    "    'labels': reviewed[hUmap.original_indices(2)],\n",
    "    'original_indices': original_indices2,\n",
    "})\n",
    "df2.to_csv('level2.csv', index=False)"
   ]
  },
  {
   "cell_type": "code",
   "execution_count": 1,
   "metadata": {},
   "outputs": [],
   "source": [
    "import jscatter\n",
    "import pandas as pd\n",
    "\n",
    "df2 = pd.read_csv('level2.csv')\n",
    "\n",
    "config = dict(\n",
    "    background_color='#FFFFFF',\n",
    "    color_by='labels',\n",
    "    height=800,\n",
    "    color_map=['#4287f5', '#f57e42'] #+ palette#['#FFFF00', '#1CE6FF', '#FF34FF', '#FF4A46', '#008941', '#006FA6', '#A30059', '#FFDBE5', '#7A4900', '#0000A6']\n",
    ")"
   ]
  },
  {
   "cell_type": "code",
   "execution_count": 2,
   "metadata": {},
   "outputs": [
    {
     "data": {
      "application/vnd.jupyter.widget-view+json": {
       "model_id": "fbfb308c48874f2fba0005a6db67b838",
       "version_major": 2,
       "version_minor": 0
      },
      "text/plain": [
       "HBox(children=(VBox(children=(Button(button_style='primary', icon='arrows', layout=Layout(width='36px'), style…"
      ]
     },
     "execution_count": 2,
     "metadata": {},
     "output_type": "execute_result"
    }
   ],
   "source": [
    "scatter2 = jscatter.Scatter(data=df2, x='x', y='y')\n",
    "scatter2.color(by='labels')\n",
    "scatter2.height(480)\n",
    "scatter2.background('black')\n",
    "scatter2.show()"
   ]
  },
  {
   "cell_type": "code",
   "execution_count": 10,
   "metadata": {},
   "outputs": [
    {
     "data": {
      "text/html": [
       "<div>\n",
       "<style scoped>\n",
       "    .dataframe tbody tr th:only-of-type {\n",
       "        vertical-align: middle;\n",
       "    }\n",
       "\n",
       "    .dataframe tbody tr th {\n",
       "        vertical-align: top;\n",
       "    }\n",
       "\n",
       "    .dataframe thead th {\n",
       "        text-align: right;\n",
       "    }\n",
       "</style>\n",
       "<table border=\"1\" class=\"dataframe\">\n",
       "  <thead>\n",
       "    <tr style=\"text-align: right;\">\n",
       "      <th></th>\n",
       "      <th>id</th>\n",
       "      <th>x</th>\n",
       "      <th>y</th>\n",
       "      <th>document</th>\n",
       "      <th>labels</th>\n",
       "      <th>original_indices</th>\n",
       "    </tr>\n",
       "  </thead>\n",
       "  <tbody>\n",
       "    <tr>\n",
       "      <th>24490</th>\n",
       "      <td>24490</td>\n",
       "      <td>6.625843</td>\n",
       "      <td>0.732435</td>\n",
       "      <td>great social app</td>\n",
       "      <td>0</td>\n",
       "      <td>1168078</td>\n",
       "    </tr>\n",
       "    <tr>\n",
       "      <th>33272</th>\n",
       "      <td>33272</td>\n",
       "      <td>6.654729</td>\n",
       "      <td>0.769761</td>\n",
       "      <td>Good social app</td>\n",
       "      <td>0</td>\n",
       "      <td>1167549</td>\n",
       "    </tr>\n",
       "    <tr>\n",
       "      <th>32360</th>\n",
       "      <td>32360</td>\n",
       "      <td>6.687142</td>\n",
       "      <td>0.798526</td>\n",
       "      <td>Great social app</td>\n",
       "      <td>0</td>\n",
       "      <td>1168077</td>\n",
       "    </tr>\n",
       "    <tr>\n",
       "      <th>21642</th>\n",
       "      <td>21642</td>\n",
       "      <td>6.638833</td>\n",
       "      <td>0.750812</td>\n",
       "      <td>Great social app</td>\n",
       "      <td>0</td>\n",
       "      <td>1168059</td>\n",
       "    </tr>\n",
       "    <tr>\n",
       "      <th>53890</th>\n",
       "      <td>53890</td>\n",
       "      <td>6.643660</td>\n",
       "      <td>0.743374</td>\n",
       "      <td>very nice social app</td>\n",
       "      <td>0</td>\n",
       "      <td>1165934</td>\n",
       "    </tr>\n",
       "    <tr>\n",
       "      <th>...</th>\n",
       "      <td>...</td>\n",
       "      <td>...</td>\n",
       "      <td>...</td>\n",
       "      <td>...</td>\n",
       "      <td>...</td>\n",
       "      <td>...</td>\n",
       "    </tr>\n",
       "    <tr>\n",
       "      <th>49699</th>\n",
       "      <td>49699</td>\n",
       "      <td>6.525607</td>\n",
       "      <td>0.619365</td>\n",
       "      <td>I think this is best social media app I like i...</td>\n",
       "      <td>0</td>\n",
       "      <td>1164475</td>\n",
       "    </tr>\n",
       "    <tr>\n",
       "      <th>19283</th>\n",
       "      <td>19283</td>\n",
       "      <td>6.551891</td>\n",
       "      <td>0.619656</td>\n",
       "      <td>Very good social media App</td>\n",
       "      <td>0</td>\n",
       "      <td>1163777</td>\n",
       "    </tr>\n",
       "    <tr>\n",
       "      <th>14960</th>\n",
       "      <td>14960</td>\n",
       "      <td>6.549971</td>\n",
       "      <td>0.607071</td>\n",
       "      <td>Amazing social media app</td>\n",
       "      <td>0</td>\n",
       "      <td>1162823</td>\n",
       "    </tr>\n",
       "    <tr>\n",
       "      <th>37436</th>\n",
       "      <td>37436</td>\n",
       "      <td>6.557255</td>\n",
       "      <td>0.623509</td>\n",
       "      <td>Great social media app</td>\n",
       "      <td>0</td>\n",
       "      <td>1163920</td>\n",
       "    </tr>\n",
       "    <tr>\n",
       "      <th>52273</th>\n",
       "      <td>52273</td>\n",
       "      <td>6.545647</td>\n",
       "      <td>0.624091</td>\n",
       "      <td>It's one of the best social media apps</td>\n",
       "      <td>0</td>\n",
       "      <td>1164781</td>\n",
       "    </tr>\n",
       "  </tbody>\n",
       "</table>\n",
       "<p>161 rows × 6 columns</p>\n",
       "</div>"
      ],
      "text/plain": [
       "          id         x         y  \\\n",
       "24490  24490  6.625843  0.732435   \n",
       "33272  33272  6.654729  0.769761   \n",
       "32360  32360  6.687142  0.798526   \n",
       "21642  21642  6.638833  0.750812   \n",
       "53890  53890  6.643660  0.743374   \n",
       "...      ...       ...       ...   \n",
       "49699  49699  6.525607  0.619365   \n",
       "19283  19283  6.551891  0.619656   \n",
       "14960  14960  6.549971  0.607071   \n",
       "37436  37436  6.557255  0.623509   \n",
       "52273  52273  6.545647  0.624091   \n",
       "\n",
       "                                                document  labels  \\\n",
       "24490                                   great social app       0   \n",
       "33272                                    Good social app       0   \n",
       "32360                                   Great social app       0   \n",
       "21642                                   Great social app       0   \n",
       "53890                               very nice social app       0   \n",
       "...                                                  ...     ...   \n",
       "49699  I think this is best social media app I like i...       0   \n",
       "19283                         Very good social media App       0   \n",
       "14960                           Amazing social media app       0   \n",
       "37436                             Great social media app       0   \n",
       "52273             It's one of the best social media apps       0   \n",
       "\n",
       "       original_indices  \n",
       "24490           1168078  \n",
       "33272           1167549  \n",
       "32360           1168077  \n",
       "21642           1168059  \n",
       "53890           1165934  \n",
       "...                 ...  \n",
       "49699           1164475  \n",
       "19283           1163777  \n",
       "14960           1162823  \n",
       "37436           1163920  \n",
       "52273           1164781  \n",
       "\n",
       "[161 rows x 6 columns]"
      ]
     },
     "execution_count": 10,
     "metadata": {},
     "output_type": "execute_result"
    }
   ],
   "source": [
    "df2.iloc[scatter2.selection()]"
   ]
  },
  {
   "cell_type": "code",
   "execution_count": 9,
   "metadata": {},
   "outputs": [
    {
     "data": {
      "text/plain": [
       "<matplotlib.collections.PathCollection at 0x166316760>"
      ]
     },
     "execution_count": 9,
     "metadata": {},
     "output_type": "execute_result"
    },
    {
     "data": {
      "image/png": "[encoded data removed]",
      "text/plain": [
       "<Figure size 640x480 with 1 Axes>"
      ]
     },
     "metadata": {},
     "output_type": "display_data"
    }
   ],
   "source": [
    "import matplotlib.pyplot as plt\n",
    "\n",
    "plt.scatter(df2['x'], df2['y'])"
   ]
  },
  {
   "cell_type": "code",
   "execution_count": 20,
   "metadata": {},
   "outputs": [
    {
     "data": {
      "text/plain": [
       "(1403644, 1)"
      ]
     },
     "execution_count": 20,
     "metadata": {},
     "output_type": "execute_result"
    }
   ],
   "source": [
    "random_selection = np.array(indices)[scatter.selection()]\n",
    "filtereddf = pd.DataFrame({\n",
    "    'indices': random_selection\n",
    "})\n",
    "filtereddf.shape"
   ]
  },
  {
   "cell_type": "code",
   "execution_count": 21,
   "metadata": {},
   "outputs": [],
   "source": [
    "filtereddf.to_csv('filtered_indices.csv', index=False)\n"
   ]
  },
  {
   "cell_type": "code",
   "execution_count": null,
   "metadata": {},
   "outputs": [],
   "source": []
  },
  {
   "cell_type": "code",
   "execution_count": null,
   "metadata": {},
   "outputs": [],
   "source": []
  },
  {
   "cell_type": "code",
   "execution_count": null,
   "metadata": {},
   "outputs": [],
   "source": []
  },
  {
   "cell_type": "code",
   "execution_count": null,
   "metadata": {},
   "outputs": [],
   "source": []
  },
  {
   "cell_type": "code",
   "execution_count": null,
   "metadata": {},
   "outputs": [],
   "source": []
  },
  {
   "cell_type": "code",
   "execution_count": null,
   "metadata": {},
   "outputs": [],
   "source": []
  },
  {
   "cell_type": "code",
   "execution_count": 27,
   "metadata": {},
   "outputs": [
    {
     "data": {
      "text/html": [
       "<style>.container { width:70% !important; }</style>"
      ],
      "text/plain": [
       "<IPython.core.display.HTML object>"
      ]
     },
     "metadata": {},
     "output_type": "display_data"
    }
   ],
   "source": [
    "from IPython.display import display, HTML\n",
    "display(HTML(\"<style>.container { width:70% !important; }</style>\"))"
   ]
  },
  {
   "cell_type": "code",
   "execution_count": null,
   "metadata": {},
   "outputs": [],
   "source": []
  }
 ],
 "metadata": {
  "interpreter": {
   "hash": "4a31e1183ff8eec086bfd36e61951877b3783897cd1d8aa479610120ba8bcbbe"
  },
  "kernelspec": {
   "display_name": "Python 3 (ipykernel)",
   "language": "python",
   "name": "python3"
  },
  "language_info": {
   "codemirror_mode": {
    "name": "ipython",
    "version": 3
   },
   "file_extension": ".py",
   "mimetype": "text/x-python",
   "name": "python",
   "nbconvert_exporter": "python",
   "pygments_lexer": "ipython3",
   "version": "3.8.13"
  }
 },
 "nbformat": 4,
 "nbformat_minor": 2
}
